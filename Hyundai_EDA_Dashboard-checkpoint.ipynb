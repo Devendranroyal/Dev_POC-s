{
 "cells": [
  {
   "cell_type": "code",
   "execution_count": 203,
   "metadata": {},
   "outputs": [],
   "source": [
    "import pandas as pd\n",
    "import numpy as np\n",
    "from math import pi\n",
    "from bokeh.plotting import figure\n",
    "from bokeh.io import show, output_file, output_notebook, push_notebook\n",
    "from bokeh.layouts import row, column, gridplot\n",
    "from bokeh.palettes import Spectral6, Category20c\n",
    "from bokeh.transform import factor_cmap, cumsum\n",
    "from bokeh.models.widgets import Paragraph,DataTable, TableColumn\n",
    "from bokeh.models import ColumnDataSource,HoverTool\n",
    "import numpy as np\n",
    "from bokeh.models.layouts import LayoutDOM, Box, Row, Column, GridBox, Spacer, WidgetBox"
   ]
  },
  {
   "cell_type": "code",
   "execution_count": 211,
   "metadata": {},
   "outputs": [
    {
     "ename": "ValueError",
     "evalue": "Only LayoutDOM items can be inserted into a column. Tried to insert: [Figure(id='49129', ...), Figure(id='49168', ...), Figure(id='49208', ...)] of type <class 'list'>",
     "output_type": "error",
     "traceback": [
      "\u001b[1;31m---------------------------------------------------------------------------\u001b[0m",
      "\u001b[1;31mValueError\u001b[0m                                Traceback (most recent call last)",
      "\u001b[1;32m<ipython-input-211-d2185e11a6e8>\u001b[0m in \u001b[0;36m<module>\u001b[1;34m()\u001b[0m\n\u001b[0;32m     58\u001b[0m \u001b[1;31m#grid = gridplot([[p2],[p3,p4],[p5,p6],[p8]],plot_width=400, plot_height=400,sizing_mode=\"stretch_width\")\u001b[0m\u001b[1;33m\u001b[0m\u001b[1;33m\u001b[0m\u001b[0m\n\u001b[0;32m     59\u001b[0m \u001b[1;31m#layout=column(['p3','p4','p5'],['p6','p8','None'])\u001b[0m\u001b[1;33m\u001b[0m\u001b[1;33m\u001b[0m\u001b[0m\n\u001b[1;32m---> 60\u001b[1;33m \u001b[0mshow\u001b[0m\u001b[1;33m(\u001b[0m\u001b[0mcolumn\u001b[0m\u001b[1;33m(\u001b[0m\u001b[1;33m[\u001b[0m\u001b[0mp3\u001b[0m\u001b[1;33m,\u001b[0m\u001b[0mp4\u001b[0m\u001b[1;33m,\u001b[0m\u001b[0mp5\u001b[0m\u001b[1;33m]\u001b[0m\u001b[1;33m,\u001b[0m\u001b[1;33m[\u001b[0m\u001b[0mp6\u001b[0m\u001b[1;33m,\u001b[0m\u001b[0mp8\u001b[0m\u001b[1;33m,\u001b[0m\u001b[1;32mNone\u001b[0m\u001b[1;33m]\u001b[0m\u001b[1;33m)\u001b[0m\u001b[1;33m)\u001b[0m\u001b[1;33m\u001b[0m\u001b[0m\n\u001b[0m",
      "\u001b[1;32mC:\\ProgramData\\Anaconda3\\lib\\site-packages\\bokeh\\layouts.py\u001b[0m in \u001b[0;36mcolumn\u001b[1;34m(*args, **kwargs)\u001b[0m\n\u001b[0;32m    138\u001b[0m             \u001b[0mcol_children\u001b[0m\u001b[1;33m.\u001b[0m\u001b[0mappend\u001b[0m\u001b[1;33m(\u001b[0m\u001b[0mitem\u001b[0m\u001b[1;33m)\u001b[0m\u001b[1;33m\u001b[0m\u001b[0m\n\u001b[0;32m    139\u001b[0m         \u001b[1;32melse\u001b[0m\u001b[1;33m:\u001b[0m\u001b[1;33m\u001b[0m\u001b[0m\n\u001b[1;32m--> 140\u001b[1;33m             \u001b[1;32mraise\u001b[0m \u001b[0mValueError\u001b[0m\u001b[1;33m(\u001b[0m\u001b[1;34m\"\"\"Only LayoutDOM items can be inserted into a column. Tried to insert: %s of type %s\"\"\"\u001b[0m \u001b[1;33m%\u001b[0m \u001b[1;33m(\u001b[0m\u001b[0mitem\u001b[0m\u001b[1;33m,\u001b[0m \u001b[0mtype\u001b[0m\u001b[1;33m(\u001b[0m\u001b[0mitem\u001b[0m\u001b[1;33m)\u001b[0m\u001b[1;33m)\u001b[0m\u001b[1;33m)\u001b[0m\u001b[1;33m\u001b[0m\u001b[0m\n\u001b[0m\u001b[0;32m    141\u001b[0m \u001b[1;33m\u001b[0m\u001b[0m\n\u001b[0;32m    142\u001b[0m     \u001b[1;32mreturn\u001b[0m \u001b[0mColumn\u001b[0m\u001b[1;33m(\u001b[0m\u001b[0mchildren\u001b[0m\u001b[1;33m=\u001b[0m\u001b[0mcol_children\u001b[0m\u001b[1;33m,\u001b[0m \u001b[0msizing_mode\u001b[0m\u001b[1;33m=\u001b[0m\u001b[0msizing_mode\u001b[0m\u001b[1;33m,\u001b[0m \u001b[1;33m**\u001b[0m\u001b[0mkwargs\u001b[0m\u001b[1;33m)\u001b[0m\u001b[1;33m\u001b[0m\u001b[0m\n",
      "\u001b[1;31mValueError\u001b[0m: Only LayoutDOM items can be inserted into a column. Tried to insert: [Figure(id='49129', ...), Figure(id='49168', ...), Figure(id='49208', ...)] of type <class 'list'>"
     ]
    }
   ],
   "source": [
    "tools=\"pan,wheel_zoom,box_zoom,reset,save,box_select,hover\"\n",
    "\n",
    "#p1 = Paragraph(text=\"\"\"\"\"\", width=100, height=100)\n",
    "p2 = Paragraph(text=\"\"\"Hyundai-Predictive Analytics- Exploratory Data Analysis\"\"\", width=1200, height=100, style={'font-size': '300%', 'color':'blue'})\n",
    "#p9 = Paragraph(text=\"\"\"\"\"\", width=100, height=100)\n",
    "\n",
    "\n",
    "p3 = figure(plot_width=400, plot_height=400,title=\"WORDCOUNT\")\n",
    "p3.image_url(url=['C:\\\\Users\\\\Devendran.D\\\\Downloads\\\\wc.png'], x=0, y=0, w=0.8, h=0.8,anchor=\"bottom_left\")\n",
    "p3.xaxis.visible = None\n",
    "p3.yaxis.visible = None\n",
    "\n",
    "\n",
    "data= pd.read_excel('C:\\\\Users\\\\Devendran.D\\\\Downloads\\\\Batch Monitoring Run Book.xlsx')\n",
    "x=data['Failed Workflow Name'].value_counts()\n",
    "data = pd.Series(x).reset_index(name='Count').rename(columns={'index':'FWN Type'})\n",
    "df=data.head(8)\n",
    "p4 = figure(x_range=df['FWN Type'],plot_width=400, plot_height=400,x_axis_label=\"Failed Workflow Name\", y_axis_label=\"Count\",title=\"Top 8 failing Workflows\",tools=tools,toolbar_location=None,tooltips=[(\"FWN Type\",\"@x\"),(\"Count\",\"@top\")])\n",
    "p4.vbar(x=df['FWN Type'], top=df['Count'], width=0.9)\n",
    "p4.y_range.start = 0\n",
    "p4.y_range.end = 30\n",
    "#p4.xaxis.major_label_orientation = pi/4\n",
    "\n",
    "\n",
    "\n",
    "data= pd.read_excel('C:\\\\Users\\\\Devendran.D\\\\Downloads\\\\Batch Monitoring Run Book.xlsx')\n",
    "x=data['Failed Workflow Session'].value_counts()\n",
    "data = pd.Series(x).reset_index(name='Count').rename(columns={'index':'FWS Type'})\n",
    "df=data.head(8)\n",
    "p5 = figure(x_range=df['FWS Type'],plot_width=400, plot_height=400,x_axis_label=\"Failed Workflow Session\", y_axis_label=\"Count\",title=\"Count of Workflow Session\",tools=tools,toolbar_location=None,tooltips=[(\"FWS Type\",\"@x\"),(\"Count\",\"@y\")])\n",
    "p5.line(x=df['FWS Type'],y=df['Count'], color='orange')\n",
    "p5.circle(x=df['FWS Type'],y=df['Count'],size=5, line_color='navy', fill_color='navy')\n",
    "p5.y_range.start = 0\n",
    "p5.y_range.end = 20\n",
    "#p5.xaxis.major_label_orientation = pi/4\n",
    "\n",
    "data_new= pd.read_csv('C:\\\\Users\\\\Devendran.D\\\\Downloads\\\\mvp.csv')\n",
    "p6 = figure(x_range=data_new.Name,plot_width=400, plot_height=400,x_axis_label=\"Column Name\", y_axis_label=\"Percentage of Missing Values\",title=\"Missing Values Percentage\",tools=tools,toolbar_location=None,tooltips=[(\"Col.Name\",\"@x\"),(\"Percentage\",\"@top\")])\n",
    "p6.vbar(x=data_new.Name, top=data_new.Percentage, width=0.9)\n",
    "p6.y_range.start = 0\n",
    "p6.y_range.end = 100\n",
    "#p6.xaxis.major_label_orientation = pi/4\n",
    "\n",
    "\n",
    "data= pd.read_excel('C:\\\\Users\\\\Devendran.D\\\\Downloads\\\\Batch Monitoring Run Book.xlsx')\n",
    "x=data['Failure Type'].value_counts()\n",
    "data = pd.Series(x).reset_index(name='Count').rename(columns={'index':'Failure Type'})\n",
    "p8 = figure(plot_width=400, plot_height=400,x_axis_label=\"Failure Type\", y_axis_label=\"Count\",title=\"Count of Failure Type \",tools=tools,toolbar_location=None,tooltips=[(\"Failure Type\",\"@x\"),(\"Count\",\"@y\")],\n",
    "            y_range=[0,30], x_range=data['Failure Type'])\n",
    "p8.segment(data['Failure Type'],0, data['Failure Type'], data['Count'], line_width=2, line_color=\"orangered\", )\n",
    "p8.circle(data['Failure Type'], data['Count'], size=25, fill_color=\"yellow\", line_color=\"orangered\", line_width=3)\n",
    "#p8.xaxis.major_label_orientation = pi/4\n",
    "\n",
    "\n",
    "\n",
    "\n",
    "#grid=gridplot([[p2],[p3,p4],[p5,p6],[p8]])\n",
    "#grid = gridplot([[p2],[p3,p4],[p5,p6],[p8]],plot_width=400, plot_height=400,sizing_mode=\"stretch_width\")\n",
    "#layout=column(['p3','p4','p5'],['p6','p8','None'])\n",
    "show(column([p3,p4,p5],[p6,p8,None]))"
   ]
  },
  {
   "cell_type": "markdown",
   "metadata": {},
   "source": [
    "### "
   ]
  },
  {
   "cell_type": "code",
   "execution_count": null,
   "metadata": {},
   "outputs": [],
   "source": []
  },
  {
   "cell_type": "code",
   "execution_count": null,
   "metadata": {},
   "outputs": [],
   "source": []
  },
  {
   "cell_type": "code",
   "execution_count": null,
   "metadata": {},
   "outputs": [],
   "source": []
  },
  {
   "cell_type": "code",
   "execution_count": null,
   "metadata": {},
   "outputs": [],
   "source": [
    "-------------------------------------------------practice----------------------------------------------------------"
   ]
  },
  {
   "cell_type": "code",
   "execution_count": 495,
   "metadata": {},
   "outputs": [],
   "source": [
    "p3.image_url(url=['C:\\\\Users\\\\Devendran.D\\\\Downloads\\\\wc.png'], x=0, y=0, w=3.5, h=3.5,anchor=\"bottom_left\")\n",
    "p3.xaxis.visible = None\n",
    "p3.yaxis.visible = None\n",
    "show(p3)"
   ]
  },
  {
   "cell_type": "code",
   "execution_count": null,
   "metadata": {},
   "outputs": [],
   "source": [
    "<img src=\"wc.png\" style \"width:200px;height:400px\"/>"
   ]
  },
  {
   "cell_type": "code",
   "execution_count": null,
   "metadata": {},
   "outputs": [],
   "source": []
  },
  {
   "cell_type": "code",
   "execution_count": 159,
   "metadata": {},
   "outputs": [],
   "source": [
    "data= pd.read_excel('C:\\\\Users\\\\Devendran.D\\\\Downloads\\\\Batch Monitoring Run Book.xlsx')\n",
    "x=data['Failed Workflow Name'].value_counts()\n",
    "data = pd.Series(x).reset_index(name='Count').rename(columns={'index':'FWN Type'})\n",
    "df=data.head(8)\n",
    "p4 = figure(x_range=df['FWN Type'],plot_width=600, plot_height=600,x_axis_label=\"Failed Workflow Name\", \n",
    "            y_axis_label=\"Count\",title=\"Top 8 failing Workflows\",tools=tools,toolbar_location=None,tooltips=[(\"FWN Type\",\"@x\"),(\"Count\",\"@top\")])\n",
    "p4.vbar(x=df['FWN Type'], top=df['Count'], width=0.9)\n",
    "p4.y_range.start = 0\n",
    "p4.y_range.end = 30\n",
    "#p4.xaxis.major_label_orientation = pi/4\n",
    "p4.xaxis.major_label_overrides = {'wf_SCHED_CTRLM_AM_QM_CAARS_INCR': '1', 'wf_SCHED_CTRLM_MDMSTG_MDM_PREFERENCE_GENESIS': '2', 'wf_SCHED_WARR_DAILY_CDC': '3', 'wf_SCHED_EBIZ_DAILY':'4', 'wf_SCHED_WEEKLY_SERVICE_DCRS_WARR_LOAD_GEN':'5', 'wf_SCHED_CTRLM_WEEKLY_EMAIL_KMA_ACXIOM':'6', 'wf_SCHED_CTRLM_DAILY_KMA_CDM_CRM_RDR_KMF_DV_EDQIN_ODS_INCR':'7', 'wf_SCHED_CTRLM_DAILY_KMA_CDM_MDM_ENTERPRISE':'8'}\n",
    "show(p4)"
   ]
  },
  {
   "cell_type": "code",
   "execution_count": 155,
   "metadata": {},
   "outputs": [
    {
     "data": {
      "text/plain": [
       "wf_SCHED_WEEKLY_SERVICE_DCRS_WARR_LOAD_GEN                    1\n",
       "wf_SCHED_CTRLM_WEEKLY_EMAIL_KMA_ACXIOM                        1\n",
       "wf_SCHED_CTRLM_MDMSTG_MDM_PREFERENCE_GENESIS                  1\n",
       "wf_SCHED_WARR_DAILY_CDC                                       1\n",
       "wf_SCHED_CTRLM_DAILY_KMA_CDM_MDM_ENTERPRISE                   1\n",
       "wf_SCHED_EBIZ_DAILY                                           1\n",
       "wf_SCHED_CTRLM_AM_QM_CAARS_INCR                               1\n",
       "wf_SCHED_CTRLM_DAILY_KMA_CDM_CRM_RDR_KMF_DV_EDQIN_ODS_INCR    1\n",
       "Name: FWN Type, dtype: int64"
      ]
     },
     "execution_count": 155,
     "metadata": {},
     "output_type": "execute_result"
    }
   ],
   "source": [
    "df['FWN Type'].value_counts()"
   ]
  },
  {
   "cell_type": "code",
   "execution_count": 156,
   "metadata": {},
   "outputs": [
    {
     "data": {
      "text/html": [
       "<div>\n",
       "<style scoped>\n",
       "    .dataframe tbody tr th:only-of-type {\n",
       "        vertical-align: middle;\n",
       "    }\n",
       "\n",
       "    .dataframe tbody tr th {\n",
       "        vertical-align: top;\n",
       "    }\n",
       "\n",
       "    .dataframe thead th {\n",
       "        text-align: right;\n",
       "    }\n",
       "</style>\n",
       "<table border=\"1\" class=\"dataframe\">\n",
       "  <thead>\n",
       "    <tr style=\"text-align: right;\">\n",
       "      <th></th>\n",
       "      <th>FWN Type</th>\n",
       "      <th>Count</th>\n",
       "    </tr>\n",
       "  </thead>\n",
       "  <tbody>\n",
       "    <tr>\n",
       "      <th>0</th>\n",
       "      <td>wf_SCHED_CTRLM_AM_QM_CAARS_INCR</td>\n",
       "      <td>23</td>\n",
       "    </tr>\n",
       "    <tr>\n",
       "      <th>1</th>\n",
       "      <td>wf_SCHED_CTRLM_MDMSTG_MDM_PREFERENCE_GENESIS</td>\n",
       "      <td>21</td>\n",
       "    </tr>\n",
       "    <tr>\n",
       "      <th>2</th>\n",
       "      <td>wf_SCHED_WARR_DAILY_CDC</td>\n",
       "      <td>18</td>\n",
       "    </tr>\n",
       "    <tr>\n",
       "      <th>3</th>\n",
       "      <td>wf_SCHED_EBIZ_DAILY</td>\n",
       "      <td>15</td>\n",
       "    </tr>\n",
       "    <tr>\n",
       "      <th>4</th>\n",
       "      <td>wf_SCHED_WEEKLY_SERVICE_DCRS_WARR_LOAD_GEN</td>\n",
       "      <td>12</td>\n",
       "    </tr>\n",
       "    <tr>\n",
       "      <th>5</th>\n",
       "      <td>wf_SCHED_CTRLM_WEEKLY_EMAIL_KMA_ACXIOM</td>\n",
       "      <td>12</td>\n",
       "    </tr>\n",
       "    <tr>\n",
       "      <th>6</th>\n",
       "      <td>wf_SCHED_CTRLM_DAILY_KMA_CDM_CRM_RDR_KMF_DV_ED...</td>\n",
       "      <td>12</td>\n",
       "    </tr>\n",
       "    <tr>\n",
       "      <th>7</th>\n",
       "      <td>wf_SCHED_CTRLM_DAILY_KMA_CDM_MDM_ENTERPRISE</td>\n",
       "      <td>11</td>\n",
       "    </tr>\n",
       "  </tbody>\n",
       "</table>\n",
       "</div>"
      ],
      "text/plain": [
       "                                            FWN Type  Count\n",
       "0                    wf_SCHED_CTRLM_AM_QM_CAARS_INCR     23\n",
       "1       wf_SCHED_CTRLM_MDMSTG_MDM_PREFERENCE_GENESIS     21\n",
       "2                            wf_SCHED_WARR_DAILY_CDC     18\n",
       "3                                wf_SCHED_EBIZ_DAILY     15\n",
       "4         wf_SCHED_WEEKLY_SERVICE_DCRS_WARR_LOAD_GEN     12\n",
       "5             wf_SCHED_CTRLM_WEEKLY_EMAIL_KMA_ACXIOM     12\n",
       "6  wf_SCHED_CTRLM_DAILY_KMA_CDM_CRM_RDR_KMF_DV_ED...     12\n",
       "7        wf_SCHED_CTRLM_DAILY_KMA_CDM_MDM_ENTERPRISE     11"
      ]
     },
     "execution_count": 156,
     "metadata": {},
     "output_type": "execute_result"
    }
   ],
   "source": [
    "df"
   ]
  },
  {
   "cell_type": "code",
   "execution_count": 55,
   "metadata": {},
   "outputs": [
    {
     "name": "stderr",
     "output_type": "stream",
     "text": [
      "C:\\ProgramData\\Anaconda3\\lib\\site-packages\\pandas\\core\\frame.py:3781: SettingWithCopyWarning: \n",
      "A value is trying to be set on a copy of a slice from a DataFrame\n",
      "\n",
      "See the caveats in the documentation: http://pandas.pydata.org/pandas-docs/stable/indexing.html#indexing-view-versus-copy\n",
      "  return super(DataFrame, self).rename(**kwargs)\n"
     ]
    },
    {
     "data": {
      "text/html": [
       "<div>\n",
       "<style scoped>\n",
       "    .dataframe tbody tr th:only-of-type {\n",
       "        vertical-align: middle;\n",
       "    }\n",
       "\n",
       "    .dataframe tbody tr th {\n",
       "        vertical-align: top;\n",
       "    }\n",
       "\n",
       "    .dataframe thead th {\n",
       "        text-align: right;\n",
       "    }\n",
       "</style>\n",
       "<table border=\"1\" class=\"dataframe\">\n",
       "  <thead>\n",
       "    <tr style=\"text-align: right;\">\n",
       "      <th></th>\n",
       "      <th>FWS Type</th>\n",
       "      <th>Count</th>\n",
       "    </tr>\n",
       "  </thead>\n",
       "  <tbody>\n",
       "    <tr>\n",
       "      <th>zero</th>\n",
       "      <td>s_m_HMA_DM_DM_QM_TH_RDR_FIFO_EXCEPTION_PROC1_INS</td>\n",
       "      <td>18</td>\n",
       "    </tr>\n",
       "    <tr>\n",
       "      <th>one</th>\n",
       "      <td>s_m_HMA_CTRL_MSDB_Campaign_VINmasterCampaign_P...</td>\n",
       "      <td>11</td>\n",
       "    </tr>\n",
       "    <tr>\n",
       "      <th>2</th>\n",
       "      <td>s_m_HMA_DM_DM_DCRM_TF_WARR_CLAIM_OP_GROUP_PROC1</td>\n",
       "      <td>10</td>\n",
       "    </tr>\n",
       "    <tr>\n",
       "      <th>3</th>\n",
       "      <td>s_m_KMA_CDM_CDM_ODS_QUEUE_PROC1</td>\n",
       "      <td>7</td>\n",
       "    </tr>\n",
       "    <tr>\n",
       "      <th>4</th>\n",
       "      <td>s_m_HMA_DM_DM_GCRM_TF_WARR_CLAIM_OP_GROUP_PROC...</td>\n",
       "      <td>6</td>\n",
       "    </tr>\n",
       "    <tr>\n",
       "      <th>5</th>\n",
       "      <td>s_m_HMA_MDMSTG_MDM_C_GROUP_PREF_CATEGORY_PROC1...</td>\n",
       "      <td>6</td>\n",
       "    </tr>\n",
       "    <tr>\n",
       "      <th>6</th>\n",
       "      <td>s_m_HMA_PROD_DM_CAP_TS_DTC_SESSION2_PROC02_01_INS</td>\n",
       "      <td>5</td>\n",
       "    </tr>\n",
       "    <tr>\n",
       "      <th>7</th>\n",
       "      <td>s_m_KMA_DM_AUD_SQL_WIS_TF_WARR_CLAIM_PROC1</td>\n",
       "      <td>5</td>\n",
       "    </tr>\n",
       "  </tbody>\n",
       "</table>\n",
       "</div>"
      ],
      "text/plain": [
       "                                               FWS Type  Count\n",
       "zero   s_m_HMA_DM_DM_QM_TH_RDR_FIFO_EXCEPTION_PROC1_INS     18\n",
       "one   s_m_HMA_CTRL_MSDB_Campaign_VINmasterCampaign_P...     11\n",
       "2       s_m_HMA_DM_DM_DCRM_TF_WARR_CLAIM_OP_GROUP_PROC1     10\n",
       "3                      s_m_KMA_CDM_CDM_ODS_QUEUE_PROC1       7\n",
       "4     s_m_HMA_DM_DM_GCRM_TF_WARR_CLAIM_OP_GROUP_PROC...      6\n",
       "5     s_m_HMA_MDMSTG_MDM_C_GROUP_PREF_CATEGORY_PROC1...      6\n",
       "6     s_m_HMA_PROD_DM_CAP_TS_DTC_SESSION2_PROC02_01_INS      5\n",
       "7            s_m_KMA_DM_AUD_SQL_WIS_TF_WARR_CLAIM_PROC1      5"
      ]
     },
     "execution_count": 55,
     "metadata": {},
     "output_type": "execute_result"
    }
   ],
   "source": [
    "df.rename(index={0:'zero',1:'one'}, inplace=True)\n",
    "df"
   ]
  },
  {
   "cell_type": "code",
   "execution_count": 125,
   "metadata": {},
   "outputs": [],
   "source": [
    "from bokeh.models import HoverTool\n",
    "data= pd.read_excel('C:\\\\Users\\\\Devendran.D\\\\Downloads\\\\Batch Monitoring Run Book.xlsx')\n",
    "x=data['Failed Workflow Session'].value_counts()\n",
    "data = pd.Series(x).reset_index(name='Count').rename(columns={'index':'FWS Type'})\n",
    "df=data.head(8)\n",
    "df.rename(index=str).index\n",
    "p5 = figure(x_range=df['FWS Type'],y_range=(0,20),plot_width=750, plot_height=600,\n",
    "            x_axis_label=\"\", y_axis_label=\"Count\",title=\"Count of Workflow Session\",\n",
    "            tools=tools,toolbar_location=None,tooltips=[(\"FWS Type\",\"@x\"),(\"Count\",\"@y\")])\n",
    "s=p5.line(x=df['FWS Type'],y=df['Count'], color='orange')\n",
    "s1=p5.circle(x=df['FWS Type'],y=df['Count'],size=5, line_color='navy', fill_color='navy')\n",
    "#p5.add_tools(HoverTool(renderers=[s1],tooltips=[(\"FWS Type\",\"@x\"),(\"Count\",\"@y\")])\n",
    "#p5.xaxis.axis_label=None\n",
    "#p5.xaxis.axis_label_text_color= 'White'\n",
    "p5.xaxis.major_label_orientation = 0.5\n",
    "p5.xaxis.major_label_text_color='White'\n",
    "p5.xaxis.axis_label_standoff=None\n",
    "show(p5)\n"
   ]
  },
  {
   "cell_type": "code",
   "execution_count": 108,
   "metadata": {},
   "outputs": [
    {
     "ename": "SyntaxError",
     "evalue": "unexpected character after line continuation character (<ipython-input-108-8c54fb6d1a1d>, line 7)",
     "output_type": "error",
     "traceback": [
      "\u001b[1;36m  File \u001b[1;32m\"<ipython-input-108-8c54fb6d1a1d>\"\u001b[1;36m, line \u001b[1;32m7\u001b[0m\n\u001b[1;33m    p6.xaxis.major_label_overrides = {Date: 'A', Incident \\nTime: 'B', CBU: 'C'}\u001b[0m\n\u001b[1;37m                                                                                ^\u001b[0m\n\u001b[1;31mSyntaxError\u001b[0m\u001b[1;31m:\u001b[0m unexpected character after line continuation character\n"
     ]
    }
   ],
   "source": [
    "data_new= pd.read_csv('C:\\\\Users\\\\Devendran.D\\\\Downloads\\\\mvp.csv')\n",
    "p6 = figure(x_range=data_new.Name,plot_width=750, plot_height=600,x_axis_label=\"Column Name\", y_axis_label=\"Percentage of Missing Values\",title=\"Missing Values Percentage\",tools=tools,toolbar_location=None,tooltips=[(\"Col.Name\",\"@x\"),(\"Percentage\",\"@top\")])\n",
    "p6.vbar(x=data_new.Name, top=data_new.Percentage, width=0.9)\n",
    "p6.y_range.start = 0\n",
    "p6.y_range.end = 100\n",
    "p6.xaxis.major_label_orientation = pi/4\n",
    "p6.xaxis.major_label_overrides = {Date: 'A', Incident \\nTime: 'B', CBU: 'C'}\n",
    "show(p6)"
   ]
  },
  {
   "cell_type": "code",
   "execution_count": 105,
   "metadata": {},
   "outputs": [
    {
     "data": {
      "text/html": [
       "<div>\n",
       "<style scoped>\n",
       "    .dataframe tbody tr th:only-of-type {\n",
       "        vertical-align: middle;\n",
       "    }\n",
       "\n",
       "    .dataframe tbody tr th {\n",
       "        vertical-align: top;\n",
       "    }\n",
       "\n",
       "    .dataframe thead th {\n",
       "        text-align: right;\n",
       "    }\n",
       "</style>\n",
       "<table border=\"1\" class=\"dataframe\">\n",
       "  <thead>\n",
       "    <tr style=\"text-align: right;\">\n",
       "      <th></th>\n",
       "      <th>Name</th>\n",
       "      <th>Percentage</th>\n",
       "    </tr>\n",
       "  </thead>\n",
       "  <tbody>\n",
       "    <tr>\n",
       "      <th>0</th>\n",
       "      <td>Date</td>\n",
       "      <td>0.00</td>\n",
       "    </tr>\n",
       "    <tr>\n",
       "      <th>1</th>\n",
       "      <td>Incident \\nTime</td>\n",
       "      <td>3.14</td>\n",
       "    </tr>\n",
       "    <tr>\n",
       "      <th>2</th>\n",
       "      <td>CBU</td>\n",
       "      <td>0.31</td>\n",
       "    </tr>\n",
       "    <tr>\n",
       "      <th>3</th>\n",
       "      <td>Failed Workflow Name</td>\n",
       "      <td>0.16</td>\n",
       "    </tr>\n",
       "    <tr>\n",
       "      <th>4</th>\n",
       "      <td>Failed Workflow Session</td>\n",
       "      <td>19.50</td>\n",
       "    </tr>\n",
       "    <tr>\n",
       "      <th>5</th>\n",
       "      <td>Reason for Failure</td>\n",
       "      <td>4.40</td>\n",
       "    </tr>\n",
       "    <tr>\n",
       "      <th>6</th>\n",
       "      <td>Mitigation Steps</td>\n",
       "      <td>15.25</td>\n",
       "    </tr>\n",
       "    <tr>\n",
       "      <th>7</th>\n",
       "      <td>Resolved Date</td>\n",
       "      <td>16.82</td>\n",
       "    </tr>\n",
       "    <tr>\n",
       "      <th>8</th>\n",
       "      <td>Resolved Time</td>\n",
       "      <td>22.80</td>\n",
       "    </tr>\n",
       "    <tr>\n",
       "      <th>9</th>\n",
       "      <td>ITSMIncident#</td>\n",
       "      <td>3.62</td>\n",
       "    </tr>\n",
       "    <tr>\n",
       "      <th>10</th>\n",
       "      <td>Resolved by - Offhsore</td>\n",
       "      <td>15.72</td>\n",
       "    </tr>\n",
       "    <tr>\n",
       "      <th>11</th>\n",
       "      <td>Resolved by - On Site</td>\n",
       "      <td>9.75</td>\n",
       "    </tr>\n",
       "    <tr>\n",
       "      <th>12</th>\n",
       "      <td>Issue Fixed by onsite/offshore</td>\n",
       "      <td>70.91</td>\n",
       "    </tr>\n",
       "    <tr>\n",
       "      <th>13</th>\n",
       "      <td>Month (Formula for Analysis)</td>\n",
       "      <td>57.86</td>\n",
       "    </tr>\n",
       "    <tr>\n",
       "      <th>14</th>\n",
       "      <td>Failure Type</td>\n",
       "      <td>78.93</td>\n",
       "    </tr>\n",
       "    <tr>\n",
       "      <th>15</th>\n",
       "      <td>Call to HAEA Support\\n(Y / N)</td>\n",
       "      <td>64.47</td>\n",
       "    </tr>\n",
       "    <tr>\n",
       "      <th>16</th>\n",
       "      <td>Comments</td>\n",
       "      <td>97.17</td>\n",
       "    </tr>\n",
       "    <tr>\n",
       "      <th>17</th>\n",
       "      <td>Ticket # (Failure as part of prod migration)</td>\n",
       "      <td>99.84</td>\n",
       "    </tr>\n",
       "  </tbody>\n",
       "</table>\n",
       "</div>"
      ],
      "text/plain": [
       "                                            Name  Percentage\n",
       "0                                           Date        0.00\n",
       "1                                Incident \\nTime        3.14\n",
       "2                                            CBU        0.31\n",
       "3                           Failed Workflow Name        0.16\n",
       "4                        Failed Workflow Session       19.50\n",
       "5                             Reason for Failure        4.40\n",
       "6                               Mitigation Steps       15.25\n",
       "7                                  Resolved Date       16.82\n",
       "8                                  Resolved Time       22.80\n",
       "9                                  ITSMIncident#        3.62\n",
       "10                        Resolved by - Offhsore       15.72\n",
       "11                         Resolved by - On Site        9.75\n",
       "12                Issue Fixed by onsite/offshore       70.91\n",
       "13                  Month (Formula for Analysis)       57.86\n",
       "14                                  Failure Type       78.93\n",
       "15                 Call to HAEA Support\\n(Y / N)       64.47\n",
       "16                                      Comments       97.17\n",
       "17  Ticket # (Failure as part of prod migration)       99.84"
      ]
     },
     "execution_count": 105,
     "metadata": {},
     "output_type": "execute_result"
    }
   ],
   "source": [
    "data_new"
   ]
  },
  {
   "cell_type": "code",
   "execution_count": null,
   "metadata": {},
   "outputs": [],
   "source": []
  },
  {
   "cell_type": "code",
   "execution_count": 214,
   "metadata": {},
   "outputs": [],
   "source": [
    "from bokeh.plotting import figure, show\n",
    "from bokeh.models import ColumnDataSource, HoverTool, CustomJS,FactorRange\n",
    "\n",
    "pid = [1, 2, 3, 4, 5, 6]\n",
    "user = ['user1', 'user2', 'user3', 'user4', None, 'user6']\n",
    "name = ['A', 'B', 'C', 'D', 'E', 'F']\n",
    "\n",
    "source = ColumnDataSource(data = dict(pid = pid, user = user, name = name))\n",
    "\n",
    "p = figure(x_range = FactorRange(*name), sizing_mode = 'stretch_both', title = \"Test\", toolbar_location = None, tools = \"\")\n",
    "s1=p.vbar(x = 'name', top = 'pid', width = 0.2, source = source,color=\"green\")\n",
    "p.add_tools(HoverTool(renderers=[s1],tooltips = [(\"Name\",\"@name\"), (\"PID\",\"@pid\")]))\n",
    "s2=p.line(x=['A', 'B', 'C', 'D', 'E', 'F'], y=[2, 8, 6, 8, 9, 5], line_width=2, color=\"orange\")\n",
    "p.add_tools(HoverTool(renderers=[s2],tooltips = [(\"x\", \"@x\"), (\"y\", \"@y\")]))\n",
    "#p.xaxis.ticker=['A', 'B', 'C', 'D', 'E', 'F']\n",
    "#p.xaxis.major_label_overrides = {A: 'K', B: 'S', C: 'V', D: 'M',E: 'N',F: 'R'}\n",
    "\n",
    "show(p)\n",
    "\n"
   ]
  },
  {
   "cell_type": "code",
   "execution_count": 146,
   "metadata": {},
   "outputs": [],
   "source": [
    "from bokeh.io import output_file, show\n",
    "from bokeh.plotting import figure\n",
    "\n",
    "p = figure()\n",
    "p.circle(x=[1,2,3], y=[4,6,5], size=20)\n",
    "\n",
    "#p.xaxis.ticker = [1, 2, 3]\n",
    "p.xaxis.major_label_overrides = {1: 'D', 2: 'E', 3: 'V'}\n",
    "\n",
    "output_file(\"test.html\")\n",
    "\n",
    "show(p)\n"
   ]
  },
  {
   "cell_type": "code",
   "execution_count": 147,
   "metadata": {},
   "outputs": [
    {
     "ename": "NameError",
     "evalue": "name 'fwn' is not defined",
     "output_type": "error",
     "traceback": [
      "\u001b[1;31m---------------------------------------------------------------------------\u001b[0m",
      "\u001b[1;31mNameError\u001b[0m                                 Traceback (most recent call last)",
      "\u001b[1;32m<ipython-input-147-4f36d3e24b5d>\u001b[0m in \u001b[0;36m<module>\u001b[1;34m()\u001b[0m\n\u001b[1;32m----> 1\u001b[1;33m \u001b[0mfwn\u001b[0m\u001b[1;33m.\u001b[0m\u001b[0mhead\u001b[0m\u001b[1;33m(\u001b[0m\u001b[1;33m)\u001b[0m\u001b[1;33m\u001b[0m\u001b[0m\n\u001b[0m",
      "\u001b[1;31mNameError\u001b[0m: name 'fwn' is not defined"
     ]
    }
   ],
   "source": [
    "fwn.head()"
   ]
  },
  {
   "cell_type": "code",
   "execution_count": 95,
   "metadata": {},
   "outputs": [
    {
     "data": {
      "text/plain": [
       "Index(['0', '1', '2', '3', '4', '5', '6', '7'], dtype='object')"
      ]
     },
     "execution_count": 95,
     "metadata": {},
     "output_type": "execute_result"
    }
   ],
   "source": [
    "df.rename(index=str).index"
   ]
  },
  {
   "cell_type": "code",
   "execution_count": 523,
   "metadata": {},
   "outputs": [
    {
     "data": {
      "text/html": [
       "<div>\n",
       "<style scoped>\n",
       "    .dataframe tbody tr th:only-of-type {\n",
       "        vertical-align: middle;\n",
       "    }\n",
       "\n",
       "    .dataframe tbody tr th {\n",
       "        vertical-align: top;\n",
       "    }\n",
       "\n",
       "    .dataframe thead th {\n",
       "        text-align: right;\n",
       "    }\n",
       "</style>\n",
       "<table border=\"1\" class=\"dataframe\">\n",
       "  <thead>\n",
       "    <tr style=\"text-align: right;\">\n",
       "      <th></th>\n",
       "      <th>FWS Type</th>\n",
       "      <th>Count</th>\n",
       "    </tr>\n",
       "  </thead>\n",
       "  <tbody>\n",
       "    <tr>\n",
       "      <th>1</th>\n",
       "      <td>s_m_HMA_DM_DM_QM_TH_RDR_FIFO_EXCEPTION_PROC1_INS</td>\n",
       "      <td>18</td>\n",
       "    </tr>\n",
       "    <tr>\n",
       "      <th>2</th>\n",
       "      <td>s_m_HMA_CTRL_MSDB_Campaign_VINmasterCampaign_P...</td>\n",
       "      <td>11</td>\n",
       "    </tr>\n",
       "    <tr>\n",
       "      <th>3</th>\n",
       "      <td>s_m_HMA_DM_DM_DCRM_TF_WARR_CLAIM_OP_GROUP_PROC1</td>\n",
       "      <td>10</td>\n",
       "    </tr>\n",
       "    <tr>\n",
       "      <th>4</th>\n",
       "      <td>s_m_KMA_CDM_CDM_ODS_QUEUE_PROC1</td>\n",
       "      <td>7</td>\n",
       "    </tr>\n",
       "    <tr>\n",
       "      <th>5</th>\n",
       "      <td>s_m_HMA_DM_DM_GCRM_TF_WARR_CLAIM_OP_GROUP_PROC...</td>\n",
       "      <td>6</td>\n",
       "    </tr>\n",
       "  </tbody>\n",
       "</table>\n",
       "</div>"
      ],
      "text/plain": [
       "                                            FWS Type  Count\n",
       "1   s_m_HMA_DM_DM_QM_TH_RDR_FIFO_EXCEPTION_PROC1_INS     18\n",
       "2  s_m_HMA_CTRL_MSDB_Campaign_VINmasterCampaign_P...     11\n",
       "3    s_m_HMA_DM_DM_DCRM_TF_WARR_CLAIM_OP_GROUP_PROC1     10\n",
       "4                   s_m_KMA_CDM_CDM_ODS_QUEUE_PROC1       7\n",
       "5  s_m_HMA_DM_DM_GCRM_TF_WARR_CLAIM_OP_GROUP_PROC...      6"
      ]
     },
     "execution_count": 523,
     "metadata": {},
     "output_type": "execute_result"
    }
   ],
   "source": [
    "df.head()"
   ]
  },
  {
   "cell_type": "code",
   "execution_count": 511,
   "metadata": {},
   "outputs": [
    {
     "data": {
      "text/html": [
       "<div>\n",
       "<style scoped>\n",
       "    .dataframe tbody tr th:only-of-type {\n",
       "        vertical-align: middle;\n",
       "    }\n",
       "\n",
       "    .dataframe tbody tr th {\n",
       "        vertical-align: top;\n",
       "    }\n",
       "\n",
       "    .dataframe thead th {\n",
       "        text-align: right;\n",
       "    }\n",
       "</style>\n",
       "<table border=\"1\" class=\"dataframe\">\n",
       "  <thead>\n",
       "    <tr style=\"text-align: right;\">\n",
       "      <th></th>\n",
       "      <th>FWS Type</th>\n",
       "      <th>Count</th>\n",
       "    </tr>\n",
       "  </thead>\n",
       "  <tbody>\n",
       "    <tr>\n",
       "      <th>0</th>\n",
       "      <td>s_m_HMA_DM_DM_QM_TH_RDR_FIFO_EXCEPTION_PROC1_INS</td>\n",
       "      <td>18</td>\n",
       "    </tr>\n",
       "    <tr>\n",
       "      <th>1</th>\n",
       "      <td>s_m_HMA_CTRL_MSDB_Campaign_VINmasterCampaign_P...</td>\n",
       "      <td>11</td>\n",
       "    </tr>\n",
       "    <tr>\n",
       "      <th>2</th>\n",
       "      <td>s_m_HMA_DM_DM_DCRM_TF_WARR_CLAIM_OP_GROUP_PROC1</td>\n",
       "      <td>10</td>\n",
       "    </tr>\n",
       "    <tr>\n",
       "      <th>3</th>\n",
       "      <td>s_m_KMA_CDM_CDM_ODS_QUEUE_PROC1</td>\n",
       "      <td>7</td>\n",
       "    </tr>\n",
       "    <tr>\n",
       "      <th>4</th>\n",
       "      <td>s_m_HMA_DM_DM_GCRM_TF_WARR_CLAIM_OP_GROUP_PROC...</td>\n",
       "      <td>6</td>\n",
       "    </tr>\n",
       "    <tr>\n",
       "      <th>5</th>\n",
       "      <td>s_m_HMA_MDMSTG_MDM_C_GROUP_PREF_CATEGORY_PROC1...</td>\n",
       "      <td>6</td>\n",
       "    </tr>\n",
       "    <tr>\n",
       "      <th>6</th>\n",
       "      <td>s_m_KMA_DM_AUD_SQL_WIS_TF_WARR_CLAIM_PROC1</td>\n",
       "      <td>5</td>\n",
       "    </tr>\n",
       "    <tr>\n",
       "      <th>7</th>\n",
       "      <td>s_m_HMA_PROD_DM_CAP_TS_DTC_SESSION2_PROC02_01_INS</td>\n",
       "      <td>5</td>\n",
       "    </tr>\n",
       "  </tbody>\n",
       "</table>\n",
       "</div>"
      ],
      "text/plain": [
       "                                            FWS Type  Count\n",
       "0   s_m_HMA_DM_DM_QM_TH_RDR_FIFO_EXCEPTION_PROC1_INS     18\n",
       "1  s_m_HMA_CTRL_MSDB_Campaign_VINmasterCampaign_P...     11\n",
       "2    s_m_HMA_DM_DM_DCRM_TF_WARR_CLAIM_OP_GROUP_PROC1     10\n",
       "3                   s_m_KMA_CDM_CDM_ODS_QUEUE_PROC1       7\n",
       "4  s_m_HMA_DM_DM_GCRM_TF_WARR_CLAIM_OP_GROUP_PROC...      6\n",
       "5  s_m_HMA_MDMSTG_MDM_C_GROUP_PREF_CATEGORY_PROC1...      6\n",
       "6         s_m_KMA_DM_AUD_SQL_WIS_TF_WARR_CLAIM_PROC1      5\n",
       "7  s_m_HMA_PROD_DM_CAP_TS_DTC_SESSION2_PROC02_01_INS      5"
      ]
     },
     "execution_count": 511,
     "metadata": {},
     "output_type": "execute_result"
    }
   ],
   "source": [
    "data = pd.Series(x).reset_index(name='Count').rename(columns={'index':'FWS Type'})\n",
    "df=data.head(8)\n",
    "df"
   ]
  },
  {
   "cell_type": "code",
   "execution_count": 448,
   "metadata": {},
   "outputs": [],
   "source": [
    "data= pd.read_excel('C:\\\\Users\\\\Devendran.D\\\\Downloads\\\\Batch Monitoring Run Book.xlsx')\n",
    "x=data['Failed Workflow Session'].value_counts()\n",
    "data = pd.Series(x).reset_index(name='Count').rename(columns={'index':'FWS Type'})\n",
    "p5 = figure(x_range=data['FWS Type'],plot_width=400, plot_height=400,x_axis_label=\"Failed Workflow Session\", y_axis_label=\"Count\",title=\"Count of Workflow Session\",tools=tools,toolbar_location=None,tooltips=[(\"FWS Type\",\"@x\"),(\"Count\",\"@y\")])\n",
    "p5.line(x=data['FWS Type'],y=data['Count'], color='orange')\n",
    "p5.circle(x=data['FWS Type'],y=data['Count'],size=5, line_color='navy', fill_color='navy')\n",
    "show(p5)"
   ]
  },
  {
   "cell_type": "code",
   "execution_count": 69,
   "metadata": {},
   "outputs": [],
   "source": [
    "fwn = pd.DataFrame(df['Failed Workflow Name'].value_counts().head(8))"
   ]
  },
  {
   "cell_type": "code",
   "execution_count": null,
   "metadata": {},
   "outputs": [],
   "source": []
  },
  {
   "cell_type": "code",
   "execution_count": null,
   "metadata": {},
   "outputs": [],
   "source": []
  },
  {
   "cell_type": "code",
   "execution_count": null,
   "metadata": {},
   "outputs": [],
   "source": []
  },
  {
   "cell_type": "code",
   "execution_count": 134,
   "metadata": {},
   "outputs": [
    {
     "data": {
      "text/html": [
       "<style>.container { width:100% !important; }</style>"
      ],
      "text/plain": [
       "<IPython.core.display.HTML object>"
      ]
     },
     "metadata": {},
     "output_type": "display_data"
    },
    {
     "data": {
      "text/plain": [
       "<function IPython.core.display.display(*objs, include=None, exclude=None, metadata=None, transient=None, display_id=None, **kwargs)>"
      ]
     },
     "execution_count": 134,
     "metadata": {},
     "output_type": "execute_result"
    }
   ],
   "source": [
    "from IPython.core.display import display, HTML\n",
    "display(HTML(\"<style>.container { width:100% !important; }</style>\"))\n",
    "display"
   ]
  },
  {
   "cell_type": "code",
   "execution_count": null,
   "metadata": {},
   "outputs": [],
   "source": []
  },
  {
   "cell_type": "code",
   "execution_count": null,
   "metadata": {},
   "outputs": [],
   "source": []
  },
  {
   "cell_type": "code",
   "execution_count": null,
   "metadata": {},
   "outputs": [],
   "source": []
  }
 ],
 "metadata": {
  "kernelspec": {
   "display_name": "Python 3",
   "language": "python",
   "name": "python3"
  },
  "language_info": {
   "codemirror_mode": {
    "name": "ipython",
    "version": 3
   },
   "file_extension": ".py",
   "mimetype": "text/x-python",
   "name": "python",
   "nbconvert_exporter": "python",
   "pygments_lexer": "ipython3",
   "version": "3.7.6"
  }
 },
 "nbformat": 4,
 "nbformat_minor": 2
}
