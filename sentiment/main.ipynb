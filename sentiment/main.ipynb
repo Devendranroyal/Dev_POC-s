{
 "cells": [
  {
   "cell_type": "code",
   "execution_count": null,
   "metadata": {},
   "outputs": [],
   "source": [
    "from bokeh.io import output_file, show\n",
    "from bokeh.models import TextInput\n",
    "from bokeh.io import output_file, show\n",
    "from bokeh.models import Button\n",
    "from bokeh.models import RadioGroup\n",
    "from bokeh.models.layouts import LayoutDOM, Box, Row, Column, GridBox, Spacer, WidgetBox\n",
    "from bokeh.plotting import figure, curdoc\n",
    "\n",
    "from vaderSentiment.vaderSentiment import SentimentIntensityAnalyzer\n",
    "analyser = SentimentIntensityAnalyzer()\n",
    "\n",
    "text_input1 = TextInput(value=\"\", title=\"Enter Text Input:\")\n",
    "text_input2 = TextInput(value=\"\", title=\"Sentiment:\")\n",
    "\n",
    "def update_data(sentence):\n",
    "    score = analyser.polarity_scores(text_input1.value)\n",
    "    keys, values = zip(*score.items()) \n",
    "    li=list(values)\n",
    "    if (li[3]>=0.05): \n",
    "        res=\"Positive\"\n",
    "        p.image_url(url=[\"Sentiment_analysis/static/positive1.png\"], x=0, y=0, w=0.8, h=0.8,anchor=\"bottom_left\")\n",
    "    if (li[3]>-0.05 and li[3]<0.05):\n",
    "        res=\"Neutral\"\n",
    "        p.image_url(url=[\"Sentiment_analysis/static/neutral1.png\"], x=0, y=0, w=0.8, h=0.8,anchor=\"bottom_left\")\n",
    "    if (li[3]<=-0.05):\n",
    "        res=\"Negative\" \n",
    "        p.image_url(url=[\"Sentiment_analysis/static/negative1.png\"], x=0, y=0, w=0.8, h=0.8,anchor=\"bottom_left\")\n",
    "    text_input2.value=res\n",
    "\n",
    "p = figure(plot_width=150, plot_height=100,toolbar_location=None) \n",
    "p.image_url(url=[\"Sentiment_analysis/static/image.png\"], x=0, y=0, w=0.8, h=0.8,anchor=\"bottom_left\")\n",
    "p.xgrid.visible = False\n",
    "p.ygrid.visible = False\n",
    "p.xaxis.visible = None\n",
    "p.yaxis.visible = None\n",
    "button = Button(label=\"Find the Sentiment\", button_type=\"success\")\n",
    "button.on_click(update_data)\n",
    "\n",
    "text_input=Row(text_input1,text_input2,p)\n",
    "D=Column(text_input,button)\n",
    "\n",
    "curdoc().add_root(D)"
   ]
  }
 ],
 "metadata": {
  "kernelspec": {
   "display_name": "Python 3",
   "language": "python",
   "name": "python3"
  },
  "language_info": {
   "codemirror_mode": {
    "name": "ipython",
    "version": 3
   },
   "file_extension": ".py",
   "mimetype": "text/x-python",
   "name": "python",
   "nbconvert_exporter": "python",
   "pygments_lexer": "ipython3",
   "version": "3.7.6"
  }
 },
 "nbformat": 4,
 "nbformat_minor": 4
}
