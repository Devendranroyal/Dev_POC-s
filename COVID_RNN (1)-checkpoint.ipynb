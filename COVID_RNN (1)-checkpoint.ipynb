{
 "cells": [
  {
   "cell_type": "code",
   "execution_count": 1,
   "metadata": {},
   "outputs": [
    {
     "name": "stderr",
     "output_type": "stream",
     "text": [
      "Using TensorFlow backend.\n"
     ]
    }
   ],
   "source": [
    "import pandas as pd\n",
    "import numpy as np\n",
    "import matplotlib.pyplot as plt\n",
    "from keras import layers"
   ]
  },
  {
   "cell_type": "code",
   "execution_count": 2,
   "metadata": {},
   "outputs": [],
   "source": [
    "data = pd.read_csv('train.csv',index_col = 0)"
   ]
  },
  {
   "cell_type": "code",
   "execution_count": 3,
   "metadata": {
    "scrolled": false
   },
   "outputs": [
    {
     "data": {
      "text/html": [
       "<div>\n",
       "<style scoped>\n",
       "    .dataframe tbody tr th:only-of-type {\n",
       "        vertical-align: middle;\n",
       "    }\n",
       "\n",
       "    .dataframe tbody tr th {\n",
       "        vertical-align: top;\n",
       "    }\n",
       "\n",
       "    .dataframe thead th {\n",
       "        text-align: right;\n",
       "    }\n",
       "</style>\n",
       "<table border=\"1\" class=\"dataframe\">\n",
       "  <thead>\n",
       "    <tr style=\"text-align: right;\">\n",
       "      <th></th>\n",
       "      <th>Province_State</th>\n",
       "      <th>Country_Region</th>\n",
       "      <th>Date</th>\n",
       "      <th>ConfirmedCases</th>\n",
       "      <th>Fatalities</th>\n",
       "    </tr>\n",
       "    <tr>\n",
       "      <th>Id</th>\n",
       "      <th></th>\n",
       "      <th></th>\n",
       "      <th></th>\n",
       "      <th></th>\n",
       "      <th></th>\n",
       "    </tr>\n",
       "  </thead>\n",
       "  <tbody>\n",
       "    <tr>\n",
       "      <th>1</th>\n",
       "      <td>NaN</td>\n",
       "      <td>Afghanistan</td>\n",
       "      <td>2020-01-22</td>\n",
       "      <td>0.0</td>\n",
       "      <td>0.0</td>\n",
       "    </tr>\n",
       "    <tr>\n",
       "      <th>2</th>\n",
       "      <td>NaN</td>\n",
       "      <td>Afghanistan</td>\n",
       "      <td>2020-01-23</td>\n",
       "      <td>0.0</td>\n",
       "      <td>0.0</td>\n",
       "    </tr>\n",
       "    <tr>\n",
       "      <th>3</th>\n",
       "      <td>NaN</td>\n",
       "      <td>Afghanistan</td>\n",
       "      <td>2020-01-24</td>\n",
       "      <td>0.0</td>\n",
       "      <td>0.0</td>\n",
       "    </tr>\n",
       "    <tr>\n",
       "      <th>4</th>\n",
       "      <td>NaN</td>\n",
       "      <td>Afghanistan</td>\n",
       "      <td>2020-01-25</td>\n",
       "      <td>0.0</td>\n",
       "      <td>0.0</td>\n",
       "    </tr>\n",
       "    <tr>\n",
       "      <th>5</th>\n",
       "      <td>NaN</td>\n",
       "      <td>Afghanistan</td>\n",
       "      <td>2020-01-26</td>\n",
       "      <td>0.0</td>\n",
       "      <td>0.0</td>\n",
       "    </tr>\n",
       "  </tbody>\n",
       "</table>\n",
       "</div>"
      ],
      "text/plain": [
       "   Province_State Country_Region        Date  ConfirmedCases  Fatalities\n",
       "Id                                                                      \n",
       "1             NaN    Afghanistan  2020-01-22             0.0         0.0\n",
       "2             NaN    Afghanistan  2020-01-23             0.0         0.0\n",
       "3             NaN    Afghanistan  2020-01-24             0.0         0.0\n",
       "4             NaN    Afghanistan  2020-01-25             0.0         0.0\n",
       "5             NaN    Afghanistan  2020-01-26             0.0         0.0"
      ]
     },
     "execution_count": 3,
     "metadata": {},
     "output_type": "execute_result"
    }
   ],
   "source": [
    "data.head()"
   ]
  },
  {
   "cell_type": "code",
   "execution_count": 4,
   "metadata": {},
   "outputs": [
    {
     "data": {
      "text/html": [
       "<div>\n",
       "<style scoped>\n",
       "    .dataframe tbody tr th:only-of-type {\n",
       "        vertical-align: middle;\n",
       "    }\n",
       "\n",
       "    .dataframe tbody tr th {\n",
       "        vertical-align: top;\n",
       "    }\n",
       "\n",
       "    .dataframe thead th {\n",
       "        text-align: right;\n",
       "    }\n",
       "</style>\n",
       "<table border=\"1\" class=\"dataframe\">\n",
       "  <thead>\n",
       "    <tr style=\"text-align: right;\">\n",
       "      <th></th>\n",
       "      <th>Province_State</th>\n",
       "      <th>Country_Region</th>\n",
       "      <th>Date</th>\n",
       "      <th>ConfirmedCases</th>\n",
       "      <th>Fatalities</th>\n",
       "    </tr>\n",
       "    <tr>\n",
       "      <th>Id</th>\n",
       "      <th></th>\n",
       "      <th></th>\n",
       "      <th></th>\n",
       "      <th></th>\n",
       "      <th></th>\n",
       "    </tr>\n",
       "  </thead>\n",
       "  <tbody>\n",
       "    <tr>\n",
       "      <th>35675</th>\n",
       "      <td>NaN</td>\n",
       "      <td>Zimbabwe</td>\n",
       "      <td>2020-05-07</td>\n",
       "      <td>34.0</td>\n",
       "      <td>4.0</td>\n",
       "    </tr>\n",
       "    <tr>\n",
       "      <th>35676</th>\n",
       "      <td>NaN</td>\n",
       "      <td>Zimbabwe</td>\n",
       "      <td>2020-05-08</td>\n",
       "      <td>34.0</td>\n",
       "      <td>4.0</td>\n",
       "    </tr>\n",
       "    <tr>\n",
       "      <th>35677</th>\n",
       "      <td>NaN</td>\n",
       "      <td>Zimbabwe</td>\n",
       "      <td>2020-05-09</td>\n",
       "      <td>35.0</td>\n",
       "      <td>4.0</td>\n",
       "    </tr>\n",
       "    <tr>\n",
       "      <th>35678</th>\n",
       "      <td>NaN</td>\n",
       "      <td>Zimbabwe</td>\n",
       "      <td>2020-05-10</td>\n",
       "      <td>36.0</td>\n",
       "      <td>4.0</td>\n",
       "    </tr>\n",
       "    <tr>\n",
       "      <th>35679</th>\n",
       "      <td>NaN</td>\n",
       "      <td>Zimbabwe</td>\n",
       "      <td>2020-05-11</td>\n",
       "      <td>36.0</td>\n",
       "      <td>4.0</td>\n",
       "    </tr>\n",
       "  </tbody>\n",
       "</table>\n",
       "</div>"
      ],
      "text/plain": [
       "      Province_State Country_Region        Date  ConfirmedCases  Fatalities\n",
       "Id                                                                         \n",
       "35675            NaN       Zimbabwe  2020-05-07            34.0         4.0\n",
       "35676            NaN       Zimbabwe  2020-05-08            34.0         4.0\n",
       "35677            NaN       Zimbabwe  2020-05-09            35.0         4.0\n",
       "35678            NaN       Zimbabwe  2020-05-10            36.0         4.0\n",
       "35679            NaN       Zimbabwe  2020-05-11            36.0         4.0"
      ]
     },
     "execution_count": 4,
     "metadata": {},
     "output_type": "execute_result"
    }
   ],
   "source": [
    "data.tail()"
   ]
  },
  {
   "cell_type": "code",
   "execution_count": 5,
   "metadata": {},
   "outputs": [
    {
     "name": "stdout",
     "output_type": "stream",
     "text": [
      "<class 'pandas.core.frame.DataFrame'>\n",
      "Int64Index: 34743 entries, 1 to 35679\n",
      "Data columns (total 5 columns):\n",
      " #   Column          Non-Null Count  Dtype  \n",
      "---  ------          --------------  -----  \n",
      " 0   Province_State  14763 non-null  object \n",
      " 1   Country_Region  34743 non-null  object \n",
      " 2   Date            34743 non-null  object \n",
      " 3   ConfirmedCases  34743 non-null  float64\n",
      " 4   Fatalities      34743 non-null  float64\n",
      "dtypes: float64(2), object(3)\n",
      "memory usage: 1.6+ MB\n"
     ]
    }
   ],
   "source": [
    "data.info()"
   ]
  },
  {
   "cell_type": "code",
   "execution_count": 6,
   "metadata": {},
   "outputs": [
    {
     "data": {
      "text/plain": [
       "(34743, 5)"
      ]
     },
     "execution_count": 6,
     "metadata": {},
     "output_type": "execute_result"
    }
   ],
   "source": [
    "data.shape"
   ]
  },
  {
   "cell_type": "code",
   "execution_count": 7,
   "metadata": {
    "scrolled": true
   },
   "outputs": [
    {
     "data": {
      "text/plain": [
       "Province_State    19980\n",
       "Country_Region        0\n",
       "Date                  0\n",
       "ConfirmedCases        0\n",
       "Fatalities            0\n",
       "dtype: int64"
      ]
     },
     "execution_count": 7,
     "metadata": {},
     "output_type": "execute_result"
    }
   ],
   "source": [
    "data.isnull().sum()"
   ]
  },
  {
   "cell_type": "code",
   "execution_count": 8,
   "metadata": {},
   "outputs": [
    {
     "data": {
      "text/plain": [
       "0"
      ]
     },
     "execution_count": 8,
     "metadata": {},
     "output_type": "execute_result"
    }
   ],
   "source": [
    "data.duplicated().sum()"
   ]
  },
  {
   "cell_type": "code",
   "execution_count": 9,
   "metadata": {},
   "outputs": [
    {
     "name": "stdout",
     "output_type": "stream",
     "text": [
      "Index(['Province_State', 'Country_Region', 'Date', 'ConfirmedCases',\n",
      "       'Fatalities'],\n",
      "      dtype='object')\n"
     ]
    }
   ],
   "source": [
    "ls = data.columns\n",
    "print(ls)"
   ]
  },
  {
   "cell_type": "code",
   "execution_count": 10,
   "metadata": {},
   "outputs": [
    {
     "name": "stdout",
     "output_type": "stream",
     "text": [
      "column name Province_State \n",
      " [nan 'Australian Capital Territory' 'New South Wales' 'Northern Territory'\n",
      " 'Queensland' 'South Australia' 'Tasmania' 'Victoria' 'Western Australia'\n",
      " 'Alberta' 'British Columbia' 'Manitoba' 'New Brunswick'\n",
      " 'Newfoundland and Labrador' 'Northwest Territories' 'Nova Scotia'\n",
      " 'Ontario' 'Prince Edward Island' 'Quebec' 'Saskatchewan' 'Yukon' 'Anhui'\n",
      " 'Beijing' 'Chongqing' 'Fujian' 'Gansu' 'Guangdong' 'Guangxi' 'Guizhou'\n",
      " 'Hainan' 'Hebei' 'Heilongjiang' 'Henan' 'Hong Kong' 'Hubei' 'Hunan'\n",
      " 'Inner Mongolia' 'Jiangsu' 'Jiangxi' 'Jilin' 'Liaoning' 'Macau' 'Ningxia'\n",
      " 'Qinghai' 'Shaanxi' 'Shandong' 'Shanghai' 'Shanxi' 'Sichuan' 'Tianjin'\n",
      " 'Tibet' 'Xinjiang' 'Yunnan' 'Zhejiang' 'Faroe Islands' 'Greenland'\n",
      " 'French Guiana' 'French Polynesia' 'Guadeloupe' 'Martinique' 'Mayotte'\n",
      " 'New Caledonia' 'Reunion' 'Saint Barthelemy' 'Saint Pierre and Miquelon'\n",
      " 'St Martin' 'Aruba' 'Bonaire, Sint Eustatius and Saba' 'Curacao'\n",
      " 'Sint Maarten' 'Alabama' 'Alaska' 'Arizona' 'Arkansas' 'California'\n",
      " 'Colorado' 'Connecticut' 'Delaware' 'District of Columbia' 'Florida'\n",
      " 'Georgia' 'Guam' 'Hawaii' 'Idaho' 'Illinois' 'Indiana' 'Iowa' 'Kansas'\n",
      " 'Kentucky' 'Louisiana' 'Maine' 'Maryland' 'Massachusetts' 'Michigan'\n",
      " 'Minnesota' 'Mississippi' 'Missouri' 'Montana' 'Nebraska' 'Nevada'\n",
      " 'New Hampshire' 'New Jersey' 'New Mexico' 'New York' 'North Carolina'\n",
      " 'North Dakota' 'Ohio' 'Oklahoma' 'Oregon' 'Pennsylvania' 'Puerto Rico'\n",
      " 'Rhode Island' 'South Carolina' 'South Dakota' 'Tennessee' 'Texas' 'Utah'\n",
      " 'Vermont' 'Virgin Islands' 'Virginia' 'Washington' 'West Virginia'\n",
      " 'Wisconsin' 'Wyoming' 'Anguilla' 'Bermuda' 'British Virgin Islands'\n",
      " 'Cayman Islands' 'Channel Islands' 'Falkland Islands (Malvinas)'\n",
      " 'Gibraltar' 'Isle of Man' 'Montserrat' 'Turks and Caicos Islands'] \n",
      " ---------------------------------------- unique count------- 134\n",
      "column name Country_Region \n",
      " ['Afghanistan' 'Albania' 'Algeria' 'Andorra' 'Angola'\n",
      " 'Antigua and Barbuda' 'Argentina' 'Armenia' 'Australia' 'Austria'\n",
      " 'Azerbaijan' 'Bahamas' 'Bahrain' 'Bangladesh' 'Barbados' 'Belarus'\n",
      " 'Belgium' 'Belize' 'Benin' 'Bhutan' 'Bolivia' 'Bosnia and Herzegovina'\n",
      " 'Botswana' 'Brazil' 'Brunei' 'Bulgaria' 'Burkina Faso' 'Burma' 'Burundi'\n",
      " 'Cabo Verde' 'Cambodia' 'Cameroon' 'Canada' 'Central African Republic'\n",
      " 'Chad' 'Chile' 'China' 'Colombia' 'Congo (Brazzaville)'\n",
      " 'Congo (Kinshasa)' 'Costa Rica' \"Cote d'Ivoire\" 'Croatia' 'Cuba' 'Cyprus'\n",
      " 'Czechia' 'Denmark' 'Diamond Princess' 'Djibouti' 'Dominica'\n",
      " 'Dominican Republic' 'Ecuador' 'Egypt' 'El Salvador' 'Equatorial Guinea'\n",
      " 'Eritrea' 'Estonia' 'Eswatini' 'Ethiopia' 'Fiji' 'Finland' 'France'\n",
      " 'Gabon' 'Gambia' 'Georgia' 'Germany' 'Ghana' 'Greece' 'Grenada'\n",
      " 'Guatemala' 'Guinea' 'Guinea-Bissau' 'Guyana' 'Haiti' 'Holy See'\n",
      " 'Honduras' 'Hungary' 'Iceland' 'India' 'Indonesia' 'Iran' 'Iraq'\n",
      " 'Ireland' 'Israel' 'Italy' 'Jamaica' 'Japan' 'Jordan' 'Kazakhstan'\n",
      " 'Kenya' 'Korea, South' 'Kosovo' 'Kuwait' 'Kyrgyzstan' 'Laos' 'Latvia'\n",
      " 'Lebanon' 'Liberia' 'Libya' 'Liechtenstein' 'Lithuania' 'Luxembourg'\n",
      " 'MS Zaandam' 'Madagascar' 'Malawi' 'Malaysia' 'Maldives' 'Mali' 'Malta'\n",
      " 'Mauritania' 'Mauritius' 'Mexico' 'Moldova' 'Monaco' 'Mongolia'\n",
      " 'Montenegro' 'Morocco' 'Mozambique' 'Namibia' 'Nepal' 'Netherlands'\n",
      " 'New Zealand' 'Nicaragua' 'Niger' 'Nigeria' 'North Macedonia' 'Norway'\n",
      " 'Oman' 'Pakistan' 'Panama' 'Papua New Guinea' 'Paraguay' 'Peru'\n",
      " 'Philippines' 'Poland' 'Portugal' 'Qatar' 'Romania' 'Russia' 'Rwanda'\n",
      " 'Saint Kitts and Nevis' 'Saint Lucia' 'Saint Vincent and the Grenadines'\n",
      " 'San Marino' 'Sao Tome and Principe' 'Saudi Arabia' 'Senegal' 'Serbia'\n",
      " 'Seychelles' 'Sierra Leone' 'Singapore' 'Slovakia' 'Slovenia' 'Somalia'\n",
      " 'South Africa' 'South Sudan' 'Spain' 'Sri Lanka' 'Sudan' 'Suriname'\n",
      " 'Sweden' 'Switzerland' 'Syria' 'Taiwan*' 'Tanzania' 'Thailand'\n",
      " 'Timor-Leste' 'Togo' 'Trinidad and Tobago' 'Tunisia' 'Turkey' 'US'\n",
      " 'Uganda' 'Ukraine' 'United Arab Emirates' 'United Kingdom' 'Uruguay'\n",
      " 'Uzbekistan' 'Venezuela' 'Vietnam' 'West Bank and Gaza' 'Western Sahara'\n",
      " 'Zambia' 'Zimbabwe'] \n",
      " ---------------------------------------- unique count------- 184\n",
      "column name Date \n",
      " ['2020-01-22' '2020-01-23' '2020-01-24' '2020-01-25' '2020-01-26'\n",
      " '2020-01-27' '2020-01-28' '2020-01-29' '2020-01-30' '2020-01-31'\n",
      " '2020-02-01' '2020-02-02' '2020-02-03' '2020-02-04' '2020-02-05'\n",
      " '2020-02-06' '2020-02-07' '2020-02-08' '2020-02-09' '2020-02-10'\n",
      " '2020-02-11' '2020-02-12' '2020-02-13' '2020-02-14' '2020-02-15'\n",
      " '2020-02-16' '2020-02-17' '2020-02-18' '2020-02-19' '2020-02-20'\n",
      " '2020-02-21' '2020-02-22' '2020-02-23' '2020-02-24' '2020-02-25'\n",
      " '2020-02-26' '2020-02-27' '2020-02-28' '2020-02-29' '2020-03-01'\n",
      " '2020-03-02' '2020-03-03' '2020-03-04' '2020-03-05' '2020-03-06'\n",
      " '2020-03-07' '2020-03-08' '2020-03-09' '2020-03-10' '2020-03-11'\n",
      " '2020-03-12' '2020-03-13' '2020-03-14' '2020-03-15' '2020-03-16'\n",
      " '2020-03-17' '2020-03-18' '2020-03-19' '2020-03-20' '2020-03-21'\n",
      " '2020-03-22' '2020-03-23' '2020-03-24' '2020-03-25' '2020-03-26'\n",
      " '2020-03-27' '2020-03-28' '2020-03-29' '2020-03-30' '2020-03-31'\n",
      " '2020-04-01' '2020-04-02' '2020-04-03' '2020-04-04' '2020-04-05'\n",
      " '2020-04-06' '2020-04-07' '2020-04-08' '2020-04-09' '2020-04-10'\n",
      " '2020-04-11' '2020-04-12' '2020-04-13' '2020-04-14' '2020-04-15'\n",
      " '2020-04-16' '2020-04-17' '2020-04-18' '2020-04-19' '2020-04-20'\n",
      " '2020-04-21' '2020-04-22' '2020-04-23' '2020-04-24' '2020-04-25'\n",
      " '2020-04-26' '2020-04-27' '2020-04-28' '2020-04-29' '2020-04-30'\n",
      " '2020-05-01' '2020-05-02' '2020-05-03' '2020-05-04' '2020-05-05'\n",
      " '2020-05-06' '2020-05-07' '2020-05-08' '2020-05-09' '2020-05-10'\n",
      " '2020-05-11'] \n",
      " ---------------------------------------- unique count------- 111\n",
      "column name ConfirmedCases \n",
      " [0.000e+00 1.000e+00 4.000e+00 ... 2.189e+03 2.233e+03 2.325e+03] \n",
      " ---------------------------------------- unique count------- 5572\n",
      "column name Fatalities \n",
      " [0.0000e+00 1.0000e+00 2.0000e+00 ... 3.1587e+04 3.1855e+04 3.2065e+04] \n",
      " ---------------------------------------- unique count------- 1722\n"
     ]
    }
   ],
   "source": [
    "for i in ls:\n",
    "    print('column name',i,'\\n',data[i].unique(),'\\n', \"--\"*20,\"unique count-------\",len(data[i].unique()))\n"
   ]
  },
  {
   "cell_type": "code",
   "execution_count": 11,
   "metadata": {
    "scrolled": true
   },
   "outputs": [
    {
     "data": {
      "text/plain": [
       "2020-03-01    313\n",
       "2020-04-27    313\n",
       "2020-02-21    313\n",
       "2020-04-25    313\n",
       "2020-04-05    313\n",
       "             ... \n",
       "2020-05-04    313\n",
       "2020-05-02    313\n",
       "2020-05-06    313\n",
       "2020-02-18    313\n",
       "2020-03-19    313\n",
       "Name: Date, Length: 111, dtype: int64"
      ]
     },
     "execution_count": 11,
     "metadata": {},
     "output_type": "execute_result"
    }
   ],
   "source": [
    "data['Date'].value_counts()"
   ]
  },
  {
   "cell_type": "code",
   "execution_count": 12,
   "metadata": {},
   "outputs": [
    {
     "data": {
      "text/plain": [
       "US                5994\n",
       "China             3663\n",
       "Canada            1332\n",
       "France            1221\n",
       "United Kingdom    1221\n",
       "                  ... \n",
       "Slovenia           111\n",
       "Kuwait             111\n",
       "Israel             111\n",
       "Norway             111\n",
       "Japan              111\n",
       "Name: Country_Region, Length: 184, dtype: int64"
      ]
     },
     "execution_count": 12,
     "metadata": {},
     "output_type": "execute_result"
    }
   ],
   "source": [
    "data['Country_Region'].value_counts()"
   ]
  },
  {
   "cell_type": "code",
   "execution_count": 13,
   "metadata": {},
   "outputs": [
    {
     "data": {
      "text/html": [
       "<div>\n",
       "<style scoped>\n",
       "    .dataframe tbody tr th:only-of-type {\n",
       "        vertical-align: middle;\n",
       "    }\n",
       "\n",
       "    .dataframe tbody tr th {\n",
       "        vertical-align: top;\n",
       "    }\n",
       "\n",
       "    .dataframe thead th {\n",
       "        text-align: right;\n",
       "    }\n",
       "</style>\n",
       "<table border=\"1\" class=\"dataframe\">\n",
       "  <thead>\n",
       "    <tr style=\"text-align: right;\">\n",
       "      <th></th>\n",
       "      <th>Province_State</th>\n",
       "      <th>Country_Region</th>\n",
       "      <th>Date</th>\n",
       "      <th>ConfirmedCases</th>\n",
       "      <th>Fatalities</th>\n",
       "      <th>date</th>\n",
       "    </tr>\n",
       "    <tr>\n",
       "      <th>Id</th>\n",
       "      <th></th>\n",
       "      <th></th>\n",
       "      <th></th>\n",
       "      <th></th>\n",
       "      <th></th>\n",
       "      <th></th>\n",
       "    </tr>\n",
       "  </thead>\n",
       "  <tbody>\n",
       "    <tr>\n",
       "      <th>1</th>\n",
       "      <td>NaN</td>\n",
       "      <td>Afghanistan</td>\n",
       "      <td>2020-01-22</td>\n",
       "      <td>0.0</td>\n",
       "      <td>0.0</td>\n",
       "      <td>2020-01-22</td>\n",
       "    </tr>\n",
       "    <tr>\n",
       "      <th>2</th>\n",
       "      <td>NaN</td>\n",
       "      <td>Afghanistan</td>\n",
       "      <td>2020-01-23</td>\n",
       "      <td>0.0</td>\n",
       "      <td>0.0</td>\n",
       "      <td>2020-01-23</td>\n",
       "    </tr>\n",
       "    <tr>\n",
       "      <th>3</th>\n",
       "      <td>NaN</td>\n",
       "      <td>Afghanistan</td>\n",
       "      <td>2020-01-24</td>\n",
       "      <td>0.0</td>\n",
       "      <td>0.0</td>\n",
       "      <td>2020-01-24</td>\n",
       "    </tr>\n",
       "    <tr>\n",
       "      <th>4</th>\n",
       "      <td>NaN</td>\n",
       "      <td>Afghanistan</td>\n",
       "      <td>2020-01-25</td>\n",
       "      <td>0.0</td>\n",
       "      <td>0.0</td>\n",
       "      <td>2020-01-25</td>\n",
       "    </tr>\n",
       "    <tr>\n",
       "      <th>5</th>\n",
       "      <td>NaN</td>\n",
       "      <td>Afghanistan</td>\n",
       "      <td>2020-01-26</td>\n",
       "      <td>0.0</td>\n",
       "      <td>0.0</td>\n",
       "      <td>2020-01-26</td>\n",
       "    </tr>\n",
       "  </tbody>\n",
       "</table>\n",
       "</div>"
      ],
      "text/plain": [
       "   Province_State Country_Region        Date  ConfirmedCases  Fatalities  \\\n",
       "Id                                                                         \n",
       "1             NaN    Afghanistan  2020-01-22             0.0         0.0   \n",
       "2             NaN    Afghanistan  2020-01-23             0.0         0.0   \n",
       "3             NaN    Afghanistan  2020-01-24             0.0         0.0   \n",
       "4             NaN    Afghanistan  2020-01-25             0.0         0.0   \n",
       "5             NaN    Afghanistan  2020-01-26             0.0         0.0   \n",
       "\n",
       "         date  \n",
       "Id             \n",
       "1  2020-01-22  \n",
       "2  2020-01-23  \n",
       "3  2020-01-24  \n",
       "4  2020-01-25  \n",
       "5  2020-01-26  "
      ]
     },
     "execution_count": 13,
     "metadata": {},
     "output_type": "execute_result"
    }
   ],
   "source": [
    "data['date']=pd.to_datetime(data['Date'])\n",
    "data.head()"
   ]
  },
  {
   "cell_type": "code",
   "execution_count": 14,
   "metadata": {},
   "outputs": [],
   "source": [
    "data['month_year'] = pd.to_datetime(data['date']).dt.to_period('M')"
   ]
  },
  {
   "cell_type": "code",
   "execution_count": 15,
   "metadata": {},
   "outputs": [
    {
     "name": "stdout",
     "output_type": "stream",
     "text": [
      "<class 'pandas.core.frame.DataFrame'>\n",
      "Int64Index: 34743 entries, 1 to 35679\n",
      "Data columns (total 7 columns):\n",
      " #   Column          Non-Null Count  Dtype         \n",
      "---  ------          --------------  -----         \n",
      " 0   Province_State  14763 non-null  object        \n",
      " 1   Country_Region  34743 non-null  object        \n",
      " 2   Date            34743 non-null  object        \n",
      " 3   ConfirmedCases  34743 non-null  float64       \n",
      " 4   Fatalities      34743 non-null  float64       \n",
      " 5   date            34743 non-null  datetime64[ns]\n",
      " 6   month_year      34743 non-null  period[M]     \n",
      "dtypes: datetime64[ns](1), float64(2), object(3), period[M](1)\n",
      "memory usage: 2.1+ MB\n"
     ]
    }
   ],
   "source": [
    "data.info()"
   ]
  },
  {
   "cell_type": "code",
   "execution_count": 16,
   "metadata": {
    "scrolled": true
   },
   "outputs": [
    {
     "data": {
      "text/plain": [
       "2020-03    9703\n",
       "2020-04    9390\n",
       "2020-02    9077\n",
       "2020-05    3443\n",
       "2020-01    3130\n",
       "Freq: M, Name: month_year, dtype: int64"
      ]
     },
     "execution_count": 16,
     "metadata": {},
     "output_type": "execute_result"
    }
   ],
   "source": [
    "data['month_year'].value_counts()"
   ]
  },
  {
   "cell_type": "code",
   "execution_count": 17,
   "metadata": {},
   "outputs": [
    {
     "name": "stdout",
     "output_type": "stream",
     "text": [
      "2020-01-22 00:00:00 Day Wednesday\n",
      "2020-05-11 00:00:00 Day Monday\n"
     ]
    }
   ],
   "source": [
    "import calendar\n",
    "print(data['date'][1],'Day', calendar.day_name[data['date'][1].weekday()])\n",
    "print(data['date'][35679],'Day', calendar.day_name[data['date'][35679].weekday()])"
   ]
  },
  {
   "cell_type": "code",
   "execution_count": 18,
   "metadata": {},
   "outputs": [],
   "source": [
    "dataset_rnn = data.groupby(['Date']).agg({'ConfirmedCases':'sum','Fatalities':'sum'})"
   ]
  },
  {
   "cell_type": "code",
   "execution_count": 19,
   "metadata": {},
   "outputs": [
    {
     "data": {
      "text/html": [
       "<div>\n",
       "<style scoped>\n",
       "    .dataframe tbody tr th:only-of-type {\n",
       "        vertical-align: middle;\n",
       "    }\n",
       "\n",
       "    .dataframe tbody tr th {\n",
       "        vertical-align: top;\n",
       "    }\n",
       "\n",
       "    .dataframe thead th {\n",
       "        text-align: right;\n",
       "    }\n",
       "</style>\n",
       "<table border=\"1\" class=\"dataframe\">\n",
       "  <thead>\n",
       "    <tr style=\"text-align: right;\">\n",
       "      <th></th>\n",
       "      <th>ConfirmedCases</th>\n",
       "      <th>Fatalities</th>\n",
       "    </tr>\n",
       "    <tr>\n",
       "      <th>Date</th>\n",
       "      <th></th>\n",
       "      <th></th>\n",
       "    </tr>\n",
       "  </thead>\n",
       "  <tbody>\n",
       "    <tr>\n",
       "      <th>2020-01-22</th>\n",
       "      <td>554.0</td>\n",
       "      <td>17.0</td>\n",
       "    </tr>\n",
       "    <tr>\n",
       "      <th>2020-01-23</th>\n",
       "      <td>653.0</td>\n",
       "      <td>18.0</td>\n",
       "    </tr>\n",
       "    <tr>\n",
       "      <th>2020-01-24</th>\n",
       "      <td>939.0</td>\n",
       "      <td>26.0</td>\n",
       "    </tr>\n",
       "    <tr>\n",
       "      <th>2020-01-25</th>\n",
       "      <td>1432.0</td>\n",
       "      <td>42.0</td>\n",
       "    </tr>\n",
       "    <tr>\n",
       "      <th>2020-01-26</th>\n",
       "      <td>2113.0</td>\n",
       "      <td>56.0</td>\n",
       "    </tr>\n",
       "    <tr>\n",
       "      <th>...</th>\n",
       "      <td>...</td>\n",
       "      <td>...</td>\n",
       "    </tr>\n",
       "    <tr>\n",
       "      <th>2020-05-07</th>\n",
       "      <td>3845043.0</td>\n",
       "      <td>269543.0</td>\n",
       "    </tr>\n",
       "    <tr>\n",
       "      <th>2020-05-08</th>\n",
       "      <td>3937319.0</td>\n",
       "      <td>274872.0</td>\n",
       "    </tr>\n",
       "    <tr>\n",
       "      <th>2020-05-09</th>\n",
       "      <td>4023170.0</td>\n",
       "      <td>279277.0</td>\n",
       "    </tr>\n",
       "    <tr>\n",
       "      <th>2020-05-10</th>\n",
       "      <td>4100843.0</td>\n",
       "      <td>282674.0</td>\n",
       "    </tr>\n",
       "    <tr>\n",
       "      <th>2020-05-11</th>\n",
       "      <td>4176589.0</td>\n",
       "      <td>286293.0</td>\n",
       "    </tr>\n",
       "  </tbody>\n",
       "</table>\n",
       "<p>111 rows × 2 columns</p>\n",
       "</div>"
      ],
      "text/plain": [
       "            ConfirmedCases  Fatalities\n",
       "Date                                  \n",
       "2020-01-22           554.0        17.0\n",
       "2020-01-23           653.0        18.0\n",
       "2020-01-24           939.0        26.0\n",
       "2020-01-25          1432.0        42.0\n",
       "2020-01-26          2113.0        56.0\n",
       "...                    ...         ...\n",
       "2020-05-07       3845043.0    269543.0\n",
       "2020-05-08       3937319.0    274872.0\n",
       "2020-05-09       4023170.0    279277.0\n",
       "2020-05-10       4100843.0    282674.0\n",
       "2020-05-11       4176589.0    286293.0\n",
       "\n",
       "[111 rows x 2 columns]"
      ]
     },
     "execution_count": 19,
     "metadata": {},
     "output_type": "execute_result"
    }
   ],
   "source": [
    "dataset_rnn"
   ]
  },
  {
   "cell_type": "code",
   "execution_count": 20,
   "metadata": {},
   "outputs": [],
   "source": [
    "training_set = dataset_rnn.iloc[:,0:1].values"
   ]
  },
  {
   "cell_type": "code",
   "execution_count": 21,
   "metadata": {},
   "outputs": [],
   "source": [
    "#Date Preprocessing\n",
    "from sklearn.preprocessing import MinMaxScaler\n",
    "sc = MinMaxScaler(feature_range=(0,1))\n",
    "training_set_scaled = sc.fit_transform(training_set)\n",
    "\n",
    "#Creating data structure with 30 timesteps \n",
    "X_train = []\n",
    "y_train = []\n",
    "for i in range(30,111):\n",
    "    X_train.append(training_set_scaled[i-30:i, 0])\n",
    "    y_train.append(training_set_scaled[i, 0])\n",
    "    \n",
    "X_train, y_train = np.array(X_train) , np.array(y_train)   \n",
    "\n",
    "#Reshaping\n",
    "X_train = np.reshape(X_train, (X_train.shape[0], X_train.shape[1], 1))"
   ]
  },
  {
   "cell_type": "code",
   "execution_count": 22,
   "metadata": {},
   "outputs": [
    {
     "name": "stdout",
     "output_type": "stream",
     "text": [
      "Epoch 1/50\n",
      "81/81 [==============================] - 2s 29ms/step - loss: 0.1048\n",
      "Epoch 2/50\n",
      "81/81 [==============================] - 1s 11ms/step - loss: 0.0217\n",
      "Epoch 3/50\n",
      "81/81 [==============================] - 1s 10ms/step - loss: 0.0110\n",
      "Epoch 4/50\n",
      "81/81 [==============================] - 1s 10ms/step - loss: 0.0077\n",
      "Epoch 5/50\n",
      "81/81 [==============================] - 1s 11ms/step - loss: 0.0063\n",
      "Epoch 6/50\n",
      "81/81 [==============================] - 1s 11ms/step - loss: 0.0057\n",
      "Epoch 7/50\n",
      "81/81 [==============================] - 1s 11ms/step - loss: 0.0041\n",
      "Epoch 8/50\n",
      "81/81 [==============================] - 1s 10ms/step - loss: 0.0038\n",
      "Epoch 9/50\n",
      "81/81 [==============================] - 1s 10ms/step - loss: 0.0033\n",
      "Epoch 10/50\n",
      "81/81 [==============================] - 1s 11ms/step - loss: 0.0038\n",
      "Epoch 11/50\n",
      "81/81 [==============================] - 1s 10ms/step - loss: 0.0047\n",
      "Epoch 12/50\n",
      "81/81 [==============================] - 1s 9ms/step - loss: 0.0046\n",
      "Epoch 13/50\n",
      "81/81 [==============================] - 1s 9ms/step - loss: 0.0058\n",
      "Epoch 14/50\n",
      "81/81 [==============================] - 1s 9ms/step - loss: 0.0043\n",
      "Epoch 15/50\n",
      "81/81 [==============================] - 1s 9ms/step - loss: 0.0052\n",
      "Epoch 16/50\n",
      "81/81 [==============================] - 1s 10ms/step - loss: 0.0045\n",
      "Epoch 17/50\n",
      "81/81 [==============================] - 1s 9ms/step - loss: 0.0038\n",
      "Epoch 18/50\n",
      "81/81 [==============================] - 1s 9ms/step - loss: 0.0030\n",
      "Epoch 19/50\n",
      "81/81 [==============================] - 1s 10ms/step - loss: 0.0031\n",
      "Epoch 20/50\n",
      "81/81 [==============================] - 1s 13ms/step - loss: 0.0048\n",
      "Epoch 21/50\n",
      "81/81 [==============================] - 1s 12ms/step - loss: 0.0037\n",
      "Epoch 22/50\n",
      "81/81 [==============================] - 1s 13ms/step - loss: 0.0039\n",
      "Epoch 23/50\n",
      "81/81 [==============================] - 1s 10ms/step - loss: 0.0028\n",
      "Epoch 24/50\n",
      "81/81 [==============================] - 1s 9ms/step - loss: 0.0032\n",
      "Epoch 25/50\n",
      "81/81 [==============================] - 1s 10ms/step - loss: 0.0027\n",
      "Epoch 26/50\n",
      "81/81 [==============================] - 1s 11ms/step - loss: 0.0034\n",
      "Epoch 27/50\n",
      "81/81 [==============================] - 1s 12ms/step - loss: 0.0026\n",
      "Epoch 28/50\n",
      "81/81 [==============================] - 1s 11ms/step - loss: 0.0023\n",
      "Epoch 29/50\n",
      "81/81 [==============================] - 1s 9ms/step - loss: 0.0023\n",
      "Epoch 30/50\n",
      "81/81 [==============================] - 1s 9ms/step - loss: 0.0036\n",
      "Epoch 31/50\n",
      "81/81 [==============================] - 1s 9ms/step - loss: 0.0018\n",
      "Epoch 32/50\n",
      "81/81 [==============================] - 1s 9ms/step - loss: 0.0030\n",
      "Epoch 33/50\n",
      "81/81 [==============================] - 1s 11ms/step - loss: 0.0038\n",
      "Epoch 34/50\n",
      "81/81 [==============================] - 1s 11ms/step - loss: 0.0025\n",
      "Epoch 35/50\n",
      "81/81 [==============================] - 1s 9ms/step - loss: 0.0024\n",
      "Epoch 36/50\n",
      "81/81 [==============================] - 1s 9ms/step - loss: 0.0031\n",
      "Epoch 37/50\n",
      "81/81 [==============================] - 1s 9ms/step - loss: 0.0025\n",
      "Epoch 38/50\n",
      "81/81 [==============================] - 1s 9ms/step - loss: 0.0055\n",
      "Epoch 39/50\n",
      "81/81 [==============================] - 1s 9ms/step - loss: 0.0045\n",
      "Epoch 40/50\n",
      "81/81 [==============================] - 1s 10ms/step - loss: 0.0028\n",
      "Epoch 41/50\n",
      "81/81 [==============================] - 1s 12ms/step - loss: 0.0048\n",
      "Epoch 42/50\n",
      "81/81 [==============================] - 1s 11ms/step - loss: 0.0040\n",
      "Epoch 43/50\n",
      "81/81 [==============================] - 1s 12ms/step - loss: 0.0028: 0s - \n",
      "Epoch 44/50\n",
      "81/81 [==============================] - 1s 10ms/step - loss: 0.0023\n",
      "Epoch 45/50\n",
      "81/81 [==============================] - 1s 10ms/step - loss: 0.0038\n",
      "Epoch 46/50\n",
      "81/81 [==============================] - 1s 10ms/step - loss: 0.0024\n",
      "Epoch 47/50\n",
      "81/81 [==============================] - 1s 9ms/step - loss: 0.0025\n",
      "Epoch 48/50\n",
      "81/81 [==============================] - 1s 12ms/step - loss: 0.0023\n",
      "Epoch 49/50\n",
      "81/81 [==============================] - 1s 12ms/step - loss: 0.0046\n",
      "Epoch 50/50\n",
      "81/81 [==============================] - 1s 13ms/step - loss: 0.0040\n"
     ]
    },
    {
     "data": {
      "text/plain": [
       "<keras.callbacks.callbacks.History at 0x1eeceb7f0c8>"
      ]
     },
     "execution_count": 22,
     "metadata": {},
     "output_type": "execute_result"
    }
   ],
   "source": [
    "from keras.models import Sequential\n",
    "from keras.layers import Dense\n",
    "from keras.layers import LSTM\n",
    "from keras.layers import Dropout\n",
    "\n",
    "regressor = Sequential()\n",
    "\n",
    "#Add first LSTM layer and Dropout regularisation\n",
    "regressor.add(LSTM(units =50, return_sequences = True, input_shape = (X_train.shape[1], 1)))\n",
    "regressor.add(Dropout(0.2))\n",
    "\n",
    "#Adding second layer\n",
    "regressor.add(LSTM(units =50, return_sequences = True))\n",
    "regressor.add(Dropout(0.2))\n",
    "\n",
    "#Adding third layer\n",
    "regressor.add(LSTM(units =50, return_sequences = True))\n",
    "regressor.add(Dropout(0.2))\n",
    "\n",
    "#Adding fourth layer\n",
    "regressor.add(LSTM(units =50))\n",
    "regressor.add(Dropout(0.2))\n",
    "\n",
    "#Output layer\n",
    "regressor.add(Dense(units = 1))\n",
    "\n",
    "regressor.compile(optimizer = 'adam', loss = 'mean_squared_error')\n",
    "\n",
    "#Training the model\n",
    "regressor.fit(X_train, y_train, epochs = 50, batch_size = 5)"
   ]
  },
  {
   "cell_type": "code",
   "execution_count": 23,
   "metadata": {},
   "outputs": [
    {
     "name": "stdout",
     "output_type": "stream",
     "text": [
      "Model: \"sequential_1\"\n",
      "_________________________________________________________________\n",
      "Layer (type)                 Output Shape              Param #   \n",
      "=================================================================\n",
      "lstm_1 (LSTM)                (None, 30, 50)            10400     \n",
      "_________________________________________________________________\n",
      "dropout_1 (Dropout)          (None, 30, 50)            0         \n",
      "_________________________________________________________________\n",
      "lstm_2 (LSTM)                (None, 30, 50)            20200     \n",
      "_________________________________________________________________\n",
      "dropout_2 (Dropout)          (None, 30, 50)            0         \n",
      "_________________________________________________________________\n",
      "lstm_3 (LSTM)                (None, 30, 50)            20200     \n",
      "_________________________________________________________________\n",
      "dropout_3 (Dropout)          (None, 30, 50)            0         \n",
      "_________________________________________________________________\n",
      "lstm_4 (LSTM)                (None, 50)                20200     \n",
      "_________________________________________________________________\n",
      "dropout_4 (Dropout)          (None, 50)                0         \n",
      "_________________________________________________________________\n",
      "dense_1 (Dense)              (None, 1)                 51        \n",
      "=================================================================\n",
      "Total params: 71,051\n",
      "Trainable params: 71,051\n",
      "Non-trainable params: 0\n",
      "_________________________________________________________________\n"
     ]
    }
   ],
   "source": [
    "regressor.summary()"
   ]
  },
  {
   "cell_type": "code",
   "execution_count": 24,
   "metadata": {
    "scrolled": false
   },
   "outputs": [
    {
     "data": {
      "text/html": [
       "<div>\n",
       "<style scoped>\n",
       "    .dataframe tbody tr th:only-of-type {\n",
       "        vertical-align: middle;\n",
       "    }\n",
       "\n",
       "    .dataframe tbody tr th {\n",
       "        vertical-align: top;\n",
       "    }\n",
       "\n",
       "    .dataframe thead th {\n",
       "        text-align: right;\n",
       "    }\n",
       "</style>\n",
       "<table border=\"1\" class=\"dataframe\">\n",
       "  <thead>\n",
       "    <tr style=\"text-align: right;\">\n",
       "      <th></th>\n",
       "      <th>ForecastId</th>\n",
       "      <th>Province_State</th>\n",
       "      <th>Country_Region</th>\n",
       "      <th>Date</th>\n",
       "    </tr>\n",
       "  </thead>\n",
       "  <tbody>\n",
       "    <tr>\n",
       "      <th>0</th>\n",
       "      <td>1</td>\n",
       "      <td>NaN</td>\n",
       "      <td>Afghanistan</td>\n",
       "      <td>2020-04-02</td>\n",
       "    </tr>\n",
       "    <tr>\n",
       "      <th>1</th>\n",
       "      <td>2</td>\n",
       "      <td>NaN</td>\n",
       "      <td>Afghanistan</td>\n",
       "      <td>2020-04-03</td>\n",
       "    </tr>\n",
       "    <tr>\n",
       "      <th>2</th>\n",
       "      <td>3</td>\n",
       "      <td>NaN</td>\n",
       "      <td>Afghanistan</td>\n",
       "      <td>2020-04-04</td>\n",
       "    </tr>\n",
       "    <tr>\n",
       "      <th>3</th>\n",
       "      <td>4</td>\n",
       "      <td>NaN</td>\n",
       "      <td>Afghanistan</td>\n",
       "      <td>2020-04-05</td>\n",
       "    </tr>\n",
       "    <tr>\n",
       "      <th>4</th>\n",
       "      <td>5</td>\n",
       "      <td>NaN</td>\n",
       "      <td>Afghanistan</td>\n",
       "      <td>2020-04-06</td>\n",
       "    </tr>\n",
       "  </tbody>\n",
       "</table>\n",
       "</div>"
      ],
      "text/plain": [
       "   ForecastId Province_State Country_Region        Date\n",
       "0           1            NaN    Afghanistan  2020-04-02\n",
       "1           2            NaN    Afghanistan  2020-04-03\n",
       "2           3            NaN    Afghanistan  2020-04-04\n",
       "3           4            NaN    Afghanistan  2020-04-05\n",
       "4           5            NaN    Afghanistan  2020-04-06"
      ]
     },
     "execution_count": 24,
     "metadata": {},
     "output_type": "execute_result"
    }
   ],
   "source": [
    "data_test = pd.read_csv('test.csv')\n",
    "data_test.head()"
   ]
  },
  {
   "cell_type": "code",
   "execution_count": 26,
   "metadata": {},
   "outputs": [],
   "source": [
    "real_confirmed_cases = dataset_rnn.iloc[45:111,0:1].values\n",
    "\n",
    "X_test = []\n",
    "\n",
    "for i in range(45,111):\n",
    "    X_test.append(training_set_scaled[i-30:i, 0])\n",
    "X_test = np.array(X_test)\n",
    "X_test = np.reshape(X_test, (X_test.shape[0], X_test.shape[1], 1))\n",
    "predicted_confirmed_cases = regressor.predict(X_test)\n",
    "predicted_confirmed_cases = sc.inverse_transform(predicted_confirmed_cases)"
   ]
  },
  {
   "cell_type": "code",
   "execution_count": 27,
   "metadata": {},
   "outputs": [
    {
     "data": {
      "image/png": "[encoded data removed]",
      "text/plain": [
       "<Figure size 864x576 with 1 Axes>"
      ]
     },
     "metadata": {
      "needs_background": "light"
     },
     "output_type": "display_data"
    }
   ],
   "source": [
    "plt.figure(figsize = (12,8))\n",
    "plt.plot(real_confirmed_cases, color='c',marker = 'o', label = 'Real Confirmed Cases')\n",
    "plt.plot(predicted_confirmed_cases, color='g',marker = 'o', label = 'Predicted Number of Cases')\n",
    "plt.title('Coronavirus Forecasting Trend')\n",
    "plt.xlabel('Days')\n",
    "plt.ylabel('Number of Cases')\n",
    "plt.legend()\n",
    "plt.show()"
   ]
  },
  {
   "cell_type": "code",
   "execution_count": null,
   "metadata": {},
   "outputs": [],
   "source": []
  }
 ],
 "metadata": {
  "kernelspec": {
   "display_name": "Python 3",
   "language": "python",
   "name": "python3"
  },
  "language_info": {
   "codemirror_mode": {
    "name": "ipython",
    "version": 3
   },
   "file_extension": ".py",
   "mimetype": "text/x-python",
   "name": "python",
   "nbconvert_exporter": "python",
   "pygments_lexer": "ipython3",
   "version": "3.7.6"
  }
 },
 "nbformat": 4,
 "nbformat_minor": 4
}
