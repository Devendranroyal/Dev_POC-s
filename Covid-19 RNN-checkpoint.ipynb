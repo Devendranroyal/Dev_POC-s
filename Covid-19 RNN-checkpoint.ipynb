{
 "cells": [
  {
   "cell_type": "code",
   "execution_count": 1,
   "metadata": {},
   "outputs": [],
   "source": [
    "# Part 1 - Data Preprocessing\n",
    "\n",
    "# Importing the libraries\n",
    "import numpy as np\n",
    "import matplotlib.pyplot as plt\n",
    "import pandas as pd"
   ]
  },
  {
   "cell_type": "code",
   "execution_count": 2,
   "metadata": {},
   "outputs": [
    {
     "data": {
      "text/html": [
       "<div>\n",
       "<style scoped>\n",
       "    .dataframe tbody tr th:only-of-type {\n",
       "        vertical-align: middle;\n",
       "    }\n",
       "\n",
       "    .dataframe tbody tr th {\n",
       "        vertical-align: top;\n",
       "    }\n",
       "\n",
       "    .dataframe thead th {\n",
       "        text-align: right;\n",
       "    }\n",
       "</style>\n",
       "<table border=\"1\" class=\"dataframe\">\n",
       "  <thead>\n",
       "    <tr style=\"text-align: right;\">\n",
       "      <th></th>\n",
       "      <th>Id</th>\n",
       "      <th>Province_State</th>\n",
       "      <th>Country_Region</th>\n",
       "      <th>Date</th>\n",
       "      <th>ConfirmedCases</th>\n",
       "      <th>Fatalities</th>\n",
       "    </tr>\n",
       "  </thead>\n",
       "  <tbody>\n",
       "    <tr>\n",
       "      <th>0</th>\n",
       "      <td>1</td>\n",
       "      <td>NaN</td>\n",
       "      <td>Afghanistan</td>\n",
       "      <td>2020-01-22</td>\n",
       "      <td>0.0</td>\n",
       "      <td>0.0</td>\n",
       "    </tr>\n",
       "    <tr>\n",
       "      <th>1</th>\n",
       "      <td>2</td>\n",
       "      <td>NaN</td>\n",
       "      <td>Afghanistan</td>\n",
       "      <td>2020-01-23</td>\n",
       "      <td>0.0</td>\n",
       "      <td>0.0</td>\n",
       "    </tr>\n",
       "    <tr>\n",
       "      <th>2</th>\n",
       "      <td>3</td>\n",
       "      <td>NaN</td>\n",
       "      <td>Afghanistan</td>\n",
       "      <td>2020-01-24</td>\n",
       "      <td>0.0</td>\n",
       "      <td>0.0</td>\n",
       "    </tr>\n",
       "    <tr>\n",
       "      <th>3</th>\n",
       "      <td>4</td>\n",
       "      <td>NaN</td>\n",
       "      <td>Afghanistan</td>\n",
       "      <td>2020-01-25</td>\n",
       "      <td>0.0</td>\n",
       "      <td>0.0</td>\n",
       "    </tr>\n",
       "    <tr>\n",
       "      <th>4</th>\n",
       "      <td>5</td>\n",
       "      <td>NaN</td>\n",
       "      <td>Afghanistan</td>\n",
       "      <td>2020-01-26</td>\n",
       "      <td>0.0</td>\n",
       "      <td>0.0</td>\n",
       "    </tr>\n",
       "  </tbody>\n",
       "</table>\n",
       "</div>"
      ],
      "text/plain": [
       "   Id Province_State Country_Region        Date  ConfirmedCases  Fatalities\n",
       "0   1            NaN    Afghanistan  2020-01-22             0.0         0.0\n",
       "1   2            NaN    Afghanistan  2020-01-23             0.0         0.0\n",
       "2   3            NaN    Afghanistan  2020-01-24             0.0         0.0\n",
       "3   4            NaN    Afghanistan  2020-01-25             0.0         0.0\n",
       "4   5            NaN    Afghanistan  2020-01-26             0.0         0.0"
      ]
     },
     "execution_count": 2,
     "metadata": {},
     "output_type": "execute_result"
    }
   ],
   "source": [
    "# Importing the training set\n",
    "dataset_train = pd.read_csv(r\"C:\\\\Users\\\\Milgram\\\\Downloads\\\\train.csv\\\\train.csv\")\n",
    "dataset_train.head()"
   ]
  },
  {
   "cell_type": "code",
   "execution_count": 3,
   "metadata": {},
   "outputs": [
    {
     "data": {
      "text/plain": [
       "array([nan, 'Australian Capital Territory', 'New South Wales',\n",
       "       'Northern Territory', 'Queensland', 'South Australia', 'Tasmania',\n",
       "       'Victoria', 'Western Australia', 'Alberta', 'British Columbia',\n",
       "       'Manitoba', 'New Brunswick', 'Newfoundland and Labrador',\n",
       "       'Northwest Territories', 'Nova Scotia', 'Ontario',\n",
       "       'Prince Edward Island', 'Quebec', 'Saskatchewan', 'Yukon', 'Anhui',\n",
       "       'Beijing', 'Chongqing', 'Fujian', 'Gansu', 'Guangdong', 'Guangxi',\n",
       "       'Guizhou', 'Hainan', 'Hebei', 'Heilongjiang', 'Henan', 'Hong Kong',\n",
       "       'Hubei', 'Hunan', 'Inner Mongolia', 'Jiangsu', 'Jiangxi', 'Jilin',\n",
       "       'Liaoning', 'Macau', 'Ningxia', 'Qinghai', 'Shaanxi', 'Shandong',\n",
       "       'Shanghai', 'Shanxi', 'Sichuan', 'Tianjin', 'Tibet', 'Xinjiang',\n",
       "       'Yunnan', 'Zhejiang', 'Faroe Islands', 'Greenland',\n",
       "       'French Guiana', 'French Polynesia', 'Guadeloupe', 'Martinique',\n",
       "       'Mayotte', 'New Caledonia', 'Reunion', 'Saint Barthelemy',\n",
       "       'Saint Pierre and Miquelon', 'St Martin', 'Aruba',\n",
       "       'Bonaire, Sint Eustatius and Saba', 'Curacao', 'Sint Maarten',\n",
       "       'Alabama', 'Alaska', 'Arizona', 'Arkansas', 'California',\n",
       "       'Colorado', 'Connecticut', 'Delaware', 'District of Columbia',\n",
       "       'Florida', 'Georgia', 'Guam', 'Hawaii', 'Idaho', 'Illinois',\n",
       "       'Indiana', 'Iowa', 'Kansas', 'Kentucky', 'Louisiana', 'Maine',\n",
       "       'Maryland', 'Massachusetts', 'Michigan', 'Minnesota',\n",
       "       'Mississippi', 'Missouri', 'Montana', 'Nebraska', 'Nevada',\n",
       "       'New Hampshire', 'New Jersey', 'New Mexico', 'New York',\n",
       "       'North Carolina', 'North Dakota', 'Ohio', 'Oklahoma', 'Oregon',\n",
       "       'Pennsylvania', 'Puerto Rico', 'Rhode Island', 'South Carolina',\n",
       "       'South Dakota', 'Tennessee', 'Texas', 'Utah', 'Vermont',\n",
       "       'Virgin Islands', 'Virginia', 'Washington', 'West Virginia',\n",
       "       'Wisconsin', 'Wyoming', 'Anguilla', 'Bermuda',\n",
       "       'British Virgin Islands', 'Cayman Islands', 'Channel Islands',\n",
       "       'Falkland Islands (Malvinas)', 'Gibraltar', 'Isle of Man',\n",
       "       'Montserrat', 'Turks and Caicos Islands'], dtype=object)"
      ]
     },
     "execution_count": 3,
     "metadata": {},
     "output_type": "execute_result"
    }
   ],
   "source": [
    "dataset_train['Province_State'].unique()"
   ]
  },
  {
   "cell_type": "code",
   "execution_count": 4,
   "metadata": {},
   "outputs": [
    {
     "data": {
      "text/plain": [
       "array(['Afghanistan', 'Albania', 'Algeria', 'Andorra', 'Angola',\n",
       "       'Antigua and Barbuda', 'Argentina', 'Armenia', 'Austria',\n",
       "       'Azerbaijan', 'Bahamas', 'Bahrain', 'Bangladesh', 'Barbados',\n",
       "       'Belarus', 'Belgium', 'Belize', 'Benin', 'Bhutan', 'Bolivia',\n",
       "       'Bosnia and Herzegovina', 'Botswana', 'Brazil', 'Brunei',\n",
       "       'Bulgaria', 'Burkina Faso', 'Burma', 'Burundi', 'Cabo Verde',\n",
       "       'Cambodia', 'Cameroon', 'Central African Republic', 'Chad',\n",
       "       'Chile', 'Colombia', 'Congo (Brazzaville)', 'Congo (Kinshasa)',\n",
       "       'Costa Rica', \"Cote d'Ivoire\", 'Croatia', 'Cuba', 'Cyprus',\n",
       "       'Czechia', 'Denmark', 'Diamond Princess', 'Djibouti', 'Dominica',\n",
       "       'Dominican Republic', 'Ecuador', 'Egypt', 'El Salvador',\n",
       "       'Equatorial Guinea', 'Eritrea', 'Estonia', 'Eswatini', 'Ethiopia',\n",
       "       'Fiji', 'Finland', 'France', 'Gabon', 'Gambia', 'Georgia',\n",
       "       'Germany', 'Ghana', 'Greece', 'Grenada', 'Guatemala', 'Guinea',\n",
       "       'Guinea-Bissau', 'Guyana', 'Haiti', 'Holy See', 'Honduras',\n",
       "       'Hungary', 'Iceland', 'India', 'Indonesia', 'Iran', 'Iraq',\n",
       "       'Ireland', 'Israel', 'Italy', 'Jamaica', 'Japan', 'Jordan',\n",
       "       'Kazakhstan', 'Kenya', 'Korea, South', 'Kosovo', 'Kuwait',\n",
       "       'Kyrgyzstan', 'Laos', 'Latvia', 'Lebanon', 'Liberia', 'Libya',\n",
       "       'Liechtenstein', 'Lithuania', 'Luxembourg', 'MS Zaandam',\n",
       "       'Madagascar', 'Malawi', 'Malaysia', 'Maldives', 'Mali', 'Malta',\n",
       "       'Mauritania', 'Mauritius', 'Mexico', 'Moldova', 'Monaco',\n",
       "       'Mongolia', 'Montenegro', 'Morocco', 'Mozambique', 'Namibia',\n",
       "       'Nepal', 'Netherlands', 'New Zealand', 'Nicaragua', 'Niger',\n",
       "       'Nigeria', 'North Macedonia', 'Norway', 'Oman', 'Pakistan',\n",
       "       'Panama', 'Papua New Guinea', 'Paraguay', 'Peru', 'Philippines',\n",
       "       'Poland', 'Portugal', 'Qatar', 'Romania', 'Russia', 'Rwanda',\n",
       "       'Saint Kitts and Nevis', 'Saint Lucia',\n",
       "       'Saint Vincent and the Grenadines', 'San Marino',\n",
       "       'Sao Tome and Principe', 'Saudi Arabia', 'Senegal', 'Serbia',\n",
       "       'Seychelles', 'Sierra Leone', 'Singapore', 'Slovakia', 'Slovenia',\n",
       "       'Somalia', 'South Africa', 'South Sudan', 'Spain', 'Sri Lanka',\n",
       "       'Sudan', 'Suriname', 'Sweden', 'Switzerland', 'Syria', 'Taiwan*',\n",
       "       'Tanzania', 'Thailand', 'Timor-Leste', 'Togo',\n",
       "       'Trinidad and Tobago', 'Tunisia', 'Turkey', 'Uganda', 'Ukraine',\n",
       "       'United Arab Emirates', 'United Kingdom', 'Uruguay', 'Uzbekistan',\n",
       "       'Venezuela', 'Vietnam', 'West Bank and Gaza', 'Western Sahara',\n",
       "       'Zambia', 'Zimbabwe'], dtype=object)"
      ]
     },
     "execution_count": 4,
     "metadata": {},
     "output_type": "execute_result"
    }
   ],
   "source": [
    "dataset_train['Country_Region'][dataset_train['Province_State'].isnull()].unique()\n",
    "# Province_State is not present in dataset for the following Country_Region"
   ]
  },
  {
   "cell_type": "code",
   "execution_count": 5,
   "metadata": {},
   "outputs": [
    {
     "data": {
      "text/plain": [
       "(34743, 6)"
      ]
     },
     "execution_count": 5,
     "metadata": {},
     "output_type": "execute_result"
    }
   ],
   "source": [
    "dataset_train.shape"
   ]
  },
  {
   "cell_type": "code",
   "execution_count": 6,
   "metadata": {},
   "outputs": [
    {
     "data": {
      "text/plain": [
       "Id                  int64\n",
       "Province_State     object\n",
       "Country_Region     object\n",
       "Date               object\n",
       "ConfirmedCases    float64\n",
       "Fatalities        float64\n",
       "dtype: object"
      ]
     },
     "execution_count": 6,
     "metadata": {},
     "output_type": "execute_result"
    }
   ],
   "source": [
    "dataset_train.dtypes"
   ]
  },
  {
   "cell_type": "code",
   "execution_count": 7,
   "metadata": {},
   "outputs": [],
   "source": [
    "dataset_train['Date'] = pd.to_datetime(dataset_train['Date'])"
   ]
  },
  {
   "cell_type": "code",
   "execution_count": 8,
   "metadata": {},
   "outputs": [
    {
     "data": {
      "text/plain": [
       "Id                         int64\n",
       "Province_State            object\n",
       "Country_Region            object\n",
       "Date              datetime64[ns]\n",
       "ConfirmedCases           float64\n",
       "Fatalities               float64\n",
       "dtype: object"
      ]
     },
     "execution_count": 8,
     "metadata": {},
     "output_type": "execute_result"
    }
   ],
   "source": [
    "dataset_train.dtypes"
   ]
  },
  {
   "cell_type": "code",
   "execution_count": 9,
   "metadata": {},
   "outputs": [
    {
     "data": {
      "text/html": [
       "<div>\n",
       "<style scoped>\n",
       "    .dataframe tbody tr th:only-of-type {\n",
       "        vertical-align: middle;\n",
       "    }\n",
       "\n",
       "    .dataframe tbody tr th {\n",
       "        vertical-align: top;\n",
       "    }\n",
       "\n",
       "    .dataframe thead th {\n",
       "        text-align: right;\n",
       "    }\n",
       "</style>\n",
       "<table border=\"1\" class=\"dataframe\">\n",
       "  <thead>\n",
       "    <tr style=\"text-align: right;\">\n",
       "      <th></th>\n",
       "      <th>Id</th>\n",
       "      <th>Province_State</th>\n",
       "      <th>Country_Region</th>\n",
       "      <th>Date</th>\n",
       "      <th>ConfirmedCases</th>\n",
       "      <th>Fatalities</th>\n",
       "    </tr>\n",
       "  </thead>\n",
       "  <tbody>\n",
       "    <tr>\n",
       "      <th>0</th>\n",
       "      <td>1</td>\n",
       "      <td>NaN</td>\n",
       "      <td>Afghanistan</td>\n",
       "      <td>2020-01-22</td>\n",
       "      <td>0.0</td>\n",
       "      <td>0.0</td>\n",
       "    </tr>\n",
       "    <tr>\n",
       "      <th>1</th>\n",
       "      <td>2</td>\n",
       "      <td>NaN</td>\n",
       "      <td>Afghanistan</td>\n",
       "      <td>2020-01-23</td>\n",
       "      <td>0.0</td>\n",
       "      <td>0.0</td>\n",
       "    </tr>\n",
       "    <tr>\n",
       "      <th>2</th>\n",
       "      <td>3</td>\n",
       "      <td>NaN</td>\n",
       "      <td>Afghanistan</td>\n",
       "      <td>2020-01-24</td>\n",
       "      <td>0.0</td>\n",
       "      <td>0.0</td>\n",
       "    </tr>\n",
       "    <tr>\n",
       "      <th>3</th>\n",
       "      <td>4</td>\n",
       "      <td>NaN</td>\n",
       "      <td>Afghanistan</td>\n",
       "      <td>2020-01-25</td>\n",
       "      <td>0.0</td>\n",
       "      <td>0.0</td>\n",
       "    </tr>\n",
       "    <tr>\n",
       "      <th>4</th>\n",
       "      <td>5</td>\n",
       "      <td>NaN</td>\n",
       "      <td>Afghanistan</td>\n",
       "      <td>2020-01-26</td>\n",
       "      <td>0.0</td>\n",
       "      <td>0.0</td>\n",
       "    </tr>\n",
       "  </tbody>\n",
       "</table>\n",
       "</div>"
      ],
      "text/plain": [
       "   Id Province_State Country_Region       Date  ConfirmedCases  Fatalities\n",
       "0   1            NaN    Afghanistan 2020-01-22             0.0         0.0\n",
       "1   2            NaN    Afghanistan 2020-01-23             0.0         0.0\n",
       "2   3            NaN    Afghanistan 2020-01-24             0.0         0.0\n",
       "3   4            NaN    Afghanistan 2020-01-25             0.0         0.0\n",
       "4   5            NaN    Afghanistan 2020-01-26             0.0         0.0"
      ]
     },
     "execution_count": 9,
     "metadata": {},
     "output_type": "execute_result"
    }
   ],
   "source": [
    "dataset_train.head()"
   ]
  },
  {
   "cell_type": "code",
   "execution_count": 10,
   "metadata": {},
   "outputs": [],
   "source": [
    "dataset_train_input = dataset_train.groupby(['Date'],as_index=False).agg({'ConfirmedCases':'sum'})"
   ]
  },
  {
   "cell_type": "code",
   "execution_count": 11,
   "metadata": {},
   "outputs": [],
   "source": [
    "dataset_train_input = dataset_train_input.iloc[:, 1:2].values"
   ]
  },
  {
   "cell_type": "code",
   "execution_count": 12,
   "metadata": {},
   "outputs": [
    {
     "data": {
      "text/plain": [
       "(111, 1)"
      ]
     },
     "execution_count": 12,
     "metadata": {},
     "output_type": "execute_result"
    }
   ],
   "source": [
    "dataset_train_input.shape"
   ]
  },
  {
   "cell_type": "code",
   "execution_count": 13,
   "metadata": {},
   "outputs": [],
   "source": [
    "# Feature Scaling\n",
    "from sklearn.preprocessing import MinMaxScaler\n",
    "sc = MinMaxScaler(feature_range = (0, 1))\n",
    "training_set_scaled = sc.fit_transform(dataset_train_input)\n"
   ]
  },
  {
   "cell_type": "code",
   "execution_count": null,
   "metadata": {},
   "outputs": [],
   "source": []
  },
  {
   "cell_type": "code",
   "execution_count": 15,
   "metadata": {},
   "outputs": [],
   "source": [
    "# Creating a data structure with 14 timesteps and 1 output\n",
    "X_train = []\n",
    "y_train = []\n",
    "for i in range(14, 103):\n",
    "    X_train.append(training_set_scaled[i-14:i, 0])\n",
    "    y_train.append(training_set_scaled[i, 0])\n",
    "        \n",
    "    \n",
    "X_train, y_train = np.array(X_train), np.array(y_train)"
   ]
  },
  {
   "cell_type": "code",
   "execution_count": 16,
   "metadata": {},
   "outputs": [],
   "source": [
    "X_train = np.reshape(X_train, (X_train.shape[0], X_train.shape[1], 1))"
   ]
  },
  {
   "cell_type": "code",
   "execution_count": 17,
   "metadata": {},
   "outputs": [
    {
     "name": "stderr",
     "output_type": "stream",
     "text": [
      "Using TensorFlow backend.\n"
     ]
    }
   ],
   "source": [
    "# Part 2 - Building the RNN\n",
    "# Importing the Keras libraries and packages\n",
    "from keras.models import Sequential\n",
    "from keras.layers import Dense\n",
    "from keras.layers import LSTM\n",
    "from keras.layers import Dropout\n",
    "\n",
    "# Initialising the RNN\n",
    "regressor = Sequential()\n",
    "\n",
    "# Adding the first LSTM layer and some Dropout regularisation\n",
    "regressor.add(LSTM(units = 50, return_sequences = True, input_shape = (X_train.shape[1], 1)))\n",
    "regressor.add(Dropout(0.2))\n",
    "\n",
    "# Adding a second LSTM layer and some Dropout regularisation\n",
    "regressor.add(LSTM(units = 50, return_sequences = True))\n",
    "regressor.add(Dropout(0.2))\n",
    "\n",
    "# Adding a third LSTM layer and some Dropout regularisation\n",
    "regressor.add(LSTM(units = 50, return_sequences = True))\n",
    "regressor.add(Dropout(0.2))\n",
    "\n",
    "# Adding a fourth LSTM layer and some Dropout regularisation\n",
    "regressor.add(LSTM(units = 50))\n",
    "regressor.add(Dropout(0.2))\n",
    "\n",
    "# Adding the output layer\n",
    "regressor.add(Dense(units = 1))"
   ]
  },
  {
   "cell_type": "code",
   "execution_count": 18,
   "metadata": {},
   "outputs": [
    {
     "name": "stdout",
     "output_type": "stream",
     "text": [
      "Epoch 1/100\n",
      "89/89 [==============================] - 2s 27ms/step - loss: 0.0989\n",
      "Epoch 2/100\n",
      "89/89 [==============================] - 0s 4ms/step - loss: 0.0416\n",
      "Epoch 3/100\n",
      "89/89 [==============================] - 0s 4ms/step - loss: 0.0207\n",
      "Epoch 4/100\n",
      "89/89 [==============================] - 0s 4ms/step - loss: 0.0061\n",
      "Epoch 5/100\n",
      "89/89 [==============================] - 0s 4ms/step - loss: 0.0120\n",
      "Epoch 6/100\n",
      "89/89 [==============================] - 0s 4ms/step - loss: 0.0078\n",
      "Epoch 7/100\n",
      "89/89 [==============================] - 0s 4ms/step - loss: 0.0079\n",
      "Epoch 8/100\n",
      "89/89 [==============================] - 0s 4ms/step - loss: 0.0043\n",
      "Epoch 9/100\n",
      "89/89 [==============================] - 0s 4ms/step - loss: 0.0034A: 0s - loss: 0.0\n",
      "Epoch 10/100\n",
      "89/89 [==============================] - 0s 4ms/step - loss: 0.0045\n",
      "Epoch 11/100\n",
      "89/89 [==============================] - 0s 4ms/step - loss: 0.0037\n",
      "Epoch 12/100\n",
      "89/89 [==============================] - 0s 4ms/step - loss: 0.0028\n",
      "Epoch 13/100\n",
      "89/89 [==============================] - 0s 4ms/step - loss: 0.0032\n",
      "Epoch 14/100\n",
      "89/89 [==============================] - 0s 4ms/step - loss: 0.0028\n",
      "Epoch 15/100\n",
      "89/89 [==============================] - 0s 4ms/step - loss: 0.0023\n",
      "Epoch 16/100\n",
      "89/89 [==============================] - 0s 4ms/step - loss: 0.0025\n",
      "Epoch 17/100\n",
      "89/89 [==============================] - 0s 4ms/step - loss: 0.0018\n",
      "Epoch 18/100\n",
      "89/89 [==============================] - 0s 4ms/step - loss: 0.0019\n",
      "Epoch 19/100\n",
      "89/89 [==============================] - 0s 4ms/step - loss: 0.0017\n",
      "Epoch 20/100\n",
      "89/89 [==============================] - 0s 4ms/step - loss: 0.0019\n",
      "Epoch 21/100\n",
      "89/89 [==============================] - 0s 4ms/step - loss: 0.0019\n",
      "Epoch 22/100\n",
      "89/89 [==============================] - 0s 4ms/step - loss: 0.0019\n",
      "Epoch 23/100\n",
      "89/89 [==============================] - 0s 4ms/step - loss: 0.0025\n",
      "Epoch 24/100\n",
      "89/89 [==============================] - 0s 4ms/step - loss: 0.0015\n",
      "Epoch 25/100\n",
      "89/89 [==============================] - 0s 4ms/step - loss: 0.0017\n",
      "Epoch 26/100\n",
      "89/89 [==============================] - 0s 4ms/step - loss: 0.0015\n",
      "Epoch 27/100\n",
      "89/89 [==============================] - 0s 4ms/step - loss: 0.0019\n",
      "Epoch 28/100\n",
      "89/89 [==============================] - 0s 4ms/step - loss: 0.0020\n",
      "Epoch 29/100\n",
      "89/89 [==============================] - 0s 4ms/step - loss: 0.0019\n",
      "Epoch 30/100\n",
      "89/89 [==============================] - 0s 4ms/step - loss: 0.0019\n",
      "Epoch 31/100\n",
      "89/89 [==============================] - 0s 4ms/step - loss: 0.0025\n",
      "Epoch 32/100\n",
      "89/89 [==============================] - 0s 4ms/step - loss: 0.0021\n",
      "Epoch 33/100\n",
      "89/89 [==============================] - 0s 4ms/step - loss: 0.0019\n",
      "Epoch 34/100\n",
      "89/89 [==============================] - 0s 4ms/step - loss: 0.0013\n",
      "Epoch 35/100\n",
      "89/89 [==============================] - 0s 4ms/step - loss: 0.0013\n",
      "Epoch 36/100\n",
      "89/89 [==============================] - 0s 4ms/step - loss: 0.0014\n",
      "Epoch 37/100\n",
      "89/89 [==============================] - 0s 4ms/step - loss: 0.0017\n",
      "Epoch 38/100\n",
      "89/89 [==============================] - 0s 4ms/step - loss: 0.0014\n",
      "Epoch 39/100\n",
      "89/89 [==============================] - 0s 4ms/step - loss: 9.5449e-04\n",
      "Epoch 40/100\n",
      "89/89 [==============================] - 0s 4ms/step - loss: 0.0013\n",
      "Epoch 41/100\n",
      "89/89 [==============================] - 0s 4ms/step - loss: 0.0016\n",
      "Epoch 42/100\n",
      "89/89 [==============================] - 0s 4ms/step - loss: 0.0017\n",
      "Epoch 43/100\n",
      "89/89 [==============================] - 0s 4ms/step - loss: 0.0010\n",
      "Epoch 44/100\n",
      "89/89 [==============================] - 0s 4ms/step - loss: 0.0013\n",
      "Epoch 45/100\n",
      "89/89 [==============================] - 0s 4ms/step - loss: 0.0013\n",
      "Epoch 46/100\n",
      "89/89 [==============================] - 0s 4ms/step - loss: 0.0015\n",
      "Epoch 47/100\n",
      "89/89 [==============================] - 0s 4ms/step - loss: 0.0013\n",
      "Epoch 48/100\n",
      "89/89 [==============================] - 0s 4ms/step - loss: 0.0013\n",
      "Epoch 49/100\n",
      "89/89 [==============================] - 0s 4ms/step - loss: 0.0012\n",
      "Epoch 50/100\n",
      "89/89 [==============================] - 0s 4ms/step - loss: 0.0015\n",
      "Epoch 51/100\n",
      "89/89 [==============================] - 0s 4ms/step - loss: 0.0017\n",
      "Epoch 52/100\n",
      "89/89 [==============================] - 0s 4ms/step - loss: 0.0014\n",
      "Epoch 53/100\n",
      "89/89 [==============================] - 0s 4ms/step - loss: 0.0017\n",
      "Epoch 54/100\n",
      "89/89 [==============================] - 0s 4ms/step - loss: 0.0014\n",
      "Epoch 55/100\n",
      "89/89 [==============================] - 0s 4ms/step - loss: 0.0012\n",
      "Epoch 56/100\n",
      "89/89 [==============================] - 0s 4ms/step - loss: 0.0020\n",
      "Epoch 57/100\n",
      "89/89 [==============================] - 0s 4ms/step - loss: 0.0014\n",
      "Epoch 58/100\n",
      "89/89 [==============================] - 0s 4ms/step - loss: 0.0014\n",
      "Epoch 59/100\n",
      "89/89 [==============================] - 0s 4ms/step - loss: 0.0011\n",
      "Epoch 60/100\n",
      "89/89 [==============================] - 0s 4ms/step - loss: 0.0019\n",
      "Epoch 61/100\n",
      "89/89 [==============================] - 0s 4ms/step - loss: 0.0013\n",
      "Epoch 62/100\n",
      "89/89 [==============================] - 0s 4ms/step - loss: 0.0019\n",
      "Epoch 63/100\n",
      "89/89 [==============================] - 0s 4ms/step - loss: 0.0017\n",
      "Epoch 64/100\n",
      "89/89 [==============================] - 0s 4ms/step - loss: 0.0014\n",
      "Epoch 65/100\n",
      "89/89 [==============================] - 0s 4ms/step - loss: 0.0015\n",
      "Epoch 66/100\n",
      "89/89 [==============================] - 0s 4ms/step - loss: 0.0016\n",
      "Epoch 67/100\n",
      "89/89 [==============================] - 0s 4ms/step - loss: 0.0013\n",
      "Epoch 68/100\n",
      "89/89 [==============================] - 0s 4ms/step - loss: 0.0021\n",
      "Epoch 69/100\n",
      "89/89 [==============================] - 0s 4ms/step - loss: 0.0019\n",
      "Epoch 70/100\n",
      "89/89 [==============================] - 0s 4ms/step - loss: 0.0019\n",
      "Epoch 71/100\n",
      "89/89 [==============================] - 0s 4ms/step - loss: 0.0017\n",
      "Epoch 72/100\n",
      "89/89 [==============================] - 0s 4ms/step - loss: 0.0016\n",
      "Epoch 73/100\n",
      "89/89 [==============================] - 0s 4ms/step - loss: 0.0019A: 0s - loss: 0.\n",
      "Epoch 74/100\n",
      "89/89 [==============================] - 0s 4ms/step - loss: 0.0020\n",
      "Epoch 75/100\n",
      "89/89 [==============================] - 0s 4ms/step - loss: 0.0024\n",
      "Epoch 76/100\n",
      "89/89 [==============================] - 0s 4ms/step - loss: 0.0014\n",
      "Epoch 77/100\n",
      "89/89 [==============================] - 0s 4ms/step - loss: 0.0011\n",
      "Epoch 78/100\n",
      "89/89 [==============================] - 0s 4ms/step - loss: 0.0014\n",
      "Epoch 79/100\n",
      "89/89 [==============================] - 0s 4ms/step - loss: 0.0014\n",
      "Epoch 80/100\n",
      "89/89 [==============================] - 0s 4ms/step - loss: 0.0019\n",
      "Epoch 81/100\n",
      "89/89 [==============================] - 0s 4ms/step - loss: 0.0013\n",
      "Epoch 82/100\n",
      "89/89 [==============================] - 0s 4ms/step - loss: 8.8803e-04\n",
      "Epoch 83/100\n",
      "89/89 [==============================] - 0s 4ms/step - loss: 0.0013\n",
      "Epoch 84/100\n",
      "89/89 [==============================] - 0s 4ms/step - loss: 7.3333e-04\n",
      "Epoch 85/100\n",
      "89/89 [==============================] - 0s 4ms/step - loss: 0.0019\n",
      "Epoch 86/100\n",
      "89/89 [==============================] - 0s 4ms/step - loss: 0.0013\n",
      "Epoch 87/100\n",
      "89/89 [==============================] - 0s 4ms/step - loss: 0.0012\n",
      "Epoch 88/100\n",
      "89/89 [==============================] - 0s 4ms/step - loss: 0.0020\n",
      "Epoch 89/100\n",
      "89/89 [==============================] - 0s 4ms/step - loss: 0.0011\n",
      "Epoch 90/100\n",
      "89/89 [==============================] - 0s 4ms/step - loss: 0.0012\n",
      "Epoch 91/100\n",
      "89/89 [==============================] - 0s 4ms/step - loss: 0.0014\n",
      "Epoch 92/100\n",
      "89/89 [==============================] - 0s 4ms/step - loss: 0.0012\n",
      "Epoch 93/100\n",
      "89/89 [==============================] - 0s 4ms/step - loss: 0.0016\n",
      "Epoch 94/100\n",
      "89/89 [==============================] - 0s 4ms/step - loss: 0.0016\n",
      "Epoch 95/100\n",
      "89/89 [==============================] - 0s 4ms/step - loss: 0.0012\n",
      "Epoch 96/100\n",
      "89/89 [==============================] - 0s 4ms/step - loss: 0.0017\n",
      "Epoch 97/100\n",
      "89/89 [==============================] - 0s 4ms/step - loss: 0.0021\n",
      "Epoch 98/100\n",
      "89/89 [==============================] - 0s 4ms/step - loss: 0.0027\n",
      "Epoch 99/100\n",
      "89/89 [==============================] - 0s 4ms/step - loss: 0.0013\n",
      "Epoch 100/100\n",
      "89/89 [==============================] - 0s 4ms/step - loss: 0.0010\n"
     ]
    },
    {
     "data": {
      "text/plain": [
       "<keras.callbacks.callbacks.History at 0x23b8b2339c8>"
      ]
     },
     "execution_count": 18,
     "metadata": {},
     "output_type": "execute_result"
    }
   ],
   "source": [
    "# Compiling the RNN\n",
    "regressor.compile(optimizer = 'adam', loss = 'mean_squared_error')\n",
    "\n",
    "# Fitting the RNN to the Training set\n",
    "regressor.fit(X_train, y_train, epochs = 100, batch_size = 16)"
   ]
  },
  {
   "cell_type": "code",
   "execution_count": 44,
   "metadata": {},
   "outputs": [],
   "source": [
    "# Part 3 - Making the predictions and visualising the results\n",
    "dataset_train_input = dataset_train.groupby(['Date'],as_index=False).agg({'ConfirmedCases':'sum'})\n",
    "dataset_train_input = dataset_train_input.iloc[:,1:2]\n",
    "real_confirmed_cases = dataset_train_input[104:].values\n",
    "inputs = dataset_train_input[104 - 14:].values\n",
    "inputs = sc.transform(inputs)\n",
    "X_test = []\n",
    "for i in range(14, 21):\n",
    "    X_test.append(inputs[i-14:i, 0])\n",
    "X_test = np.array(X_test)\n",
    "X_test = np.reshape(X_test, (X_test.shape[0], X_test.shape[1], 1))\n",
    "predicted_confirmed_cases = regressor.predict(X_test)\n",
    "predicted_confirmed_cases = sc.inverse_transform(predicted_confirmed_cases)"
   ]
  },
  {
   "cell_type": "code",
   "execution_count": 48,
   "metadata": {},
   "outputs": [
    {
     "data": {
      "image/png": "[encoded data removed]",
      "text/plain": [
       "<Figure size 432x288 with 1 Axes>"
      ]
     },
     "metadata": {
      "needs_background": "light"
     },
     "output_type": "display_data"
    }
   ],
   "source": [
    "# Visualising the results\n",
    "plt.plot(real_confirmed_cases, color = 'red', marker = 'o', label = 'real_confirmed_cases')\n",
    "plt.plot(predicted_confirmed_cases, color = 'blue', marker = 'o', label = 'predicted_confirmed_cases')\n",
    "plt.title('Confirmed Cases Prediction For Last 7 Days')\n",
    "plt.xlabel('Days')\n",
    "plt.ylabel('Sum of Confirmed Cases of Countries')\n",
    "plt.legend()\n",
    "plt.show()"
   ]
  },
  {
   "cell_type": "code",
   "execution_count": 46,
   "metadata": {},
   "outputs": [
    {
     "data": {
      "text/plain": [
       "'C:\\\\Users\\\\Ruchit Nahata'"
      ]
     },
     "execution_count": 46,
     "metadata": {},
     "output_type": "execute_result"
    }
   ],
   "source": [
    "pwd"
   ]
  },
  {
   "cell_type": "code",
   "execution_count": null,
   "metadata": {},
   "outputs": [],
   "source": []
  }
 ],
 "metadata": {
  "kernelspec": {
   "display_name": "Python 3",
   "language": "python",
   "name": "python3"
  },
  "language_info": {
   "codemirror_mode": {
    "name": "ipython",
    "version": 3
   },
   "file_extension": ".py",
   "mimetype": "text/x-python",
   "name": "python",
   "nbconvert_exporter": "python",
   "pygments_lexer": "ipython3",
   "version": "3.7.6"
  }
 },
 "nbformat": 4,
 "nbformat_minor": 2
}
