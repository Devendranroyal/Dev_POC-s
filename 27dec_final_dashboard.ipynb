{
 "cells": [
  {
   "cell_type": "code",
   "execution_count": 1,
   "metadata": {},
   "outputs": [],
   "source": [
    "import pandas as pd\n",
    "import numpy as np\n",
    "from math import pi\n",
    "from numpy import histogram, linspace\n",
    "from bokeh.layouts import gridplot\n",
    "from bokeh.models import HoverTool\n",
    "from bokeh.plotting import figure\n",
    "from bokeh.io import show, output_file, output_notebook, push_notebook\n",
    "from bokeh.layouts import row, column, gridplot\n",
    "from bokeh.palettes import Spectral6, Category20c\n",
    "from bokeh.transform import factor_cmap, cumsum\n",
    "from bokeh.models.widgets import Paragraph,DataTable, TableColumn\n",
    "from bokeh.models.widgets import Panel, Tabs\n",
    "from bokeh.plotting import figure, curdoc, show\n",
    "from bokeh.models import ColumnDataSource, FactorRange, CustomJS, Slider\n",
    "from bokeh.models import ColumnDataSource\n",
    "from bokeh.layouts import gridplot, row, column, layout\n",
    "import numpy as np\n",
    "from bokeh.io import show, output_file\n",
    "from bokeh.plotting import figure\n",
    "from bokeh.palettes import Spectral5\n",
    "from bokeh.sampledata.autompg import autompg_clean as df\n",
    "from bokeh.transform import factor_cmap\n",
    "\n",
    "from bokeh.models.widgets import Slider, RadioButtonGroup, Button\n",
    "import numpy as np\n",
    "from bokeh.palettes import Spectral6\n",
    "from bokeh.transform import factor_cmap\n",
    "from bokeh.layouts import row, column\n",
    "from bokeh.models import CustomJS, Slider\n",
    "from bokeh.plotting import figure, output_file, show, ColumnDataSource\n",
    "from bokeh.io import output_file, show\n",
    "from bokeh.plotting import figure\n",
    "from bokeh.sampledata.autompg import autompg as df\n",
    "\n",
    "from numpy import histogram, linspace\n"
   ]
  },
  {
   "cell_type": "code",
   "execution_count": 2,
   "metadata": {},
   "outputs": [],
   "source": [
    "from wordcloud import WordCloud\n",
    "from wordcloud import STOPWORDS\n",
    "import matplotlib.pyplot as plt \n"
   ]
  },
  {
   "cell_type": "code",
   "execution_count": 3,
   "metadata": {},
   "outputs": [],
   "source": [
    "df = pd.read_excel('C:\\\\Users\\\\diksha.rai\\\\Copy of Batch Monitoring Run Book.xlsx', parse_dates=[1]) "
   ]
  },
  {
   "cell_type": "code",
   "execution_count": 4,
   "metadata": {},
   "outputs": [
    {
     "data": {
      "text/html": [
       "<div>\n",
       "<style scoped>\n",
       "    .dataframe tbody tr th:only-of-type {\n",
       "        vertical-align: middle;\n",
       "    }\n",
       "\n",
       "    .dataframe tbody tr th {\n",
       "        vertical-align: top;\n",
       "    }\n",
       "\n",
       "    .dataframe thead th {\n",
       "        text-align: right;\n",
       "    }\n",
       "</style>\n",
       "<table border=\"1\" class=\"dataframe\">\n",
       "  <thead>\n",
       "    <tr style=\"text-align: right;\">\n",
       "      <th></th>\n",
       "      <th>#</th>\n",
       "      <th>Date</th>\n",
       "      <th>Incident \\nTime</th>\n",
       "      <th>CBU</th>\n",
       "      <th>Failed Workflow Name</th>\n",
       "      <th>Failed Workflow Session</th>\n",
       "      <th>Reason for Failure</th>\n",
       "      <th>Mitigation Steps</th>\n",
       "      <th>Resolved Date</th>\n",
       "      <th>Resolved Time</th>\n",
       "      <th>ITSMIncident#</th>\n",
       "      <th>Resolved by - Offhsore</th>\n",
       "      <th>Resolved by - On Site</th>\n",
       "      <th>Issue Fixed by onsite/offshore</th>\n",
       "      <th>Month (Formula for Analysis)</th>\n",
       "      <th>Failure Type</th>\n",
       "      <th>Call to HAEA Support\\n(Y / N)</th>\n",
       "      <th>Comments</th>\n",
       "      <th>Ticket # (Failure as part of prod migration)</th>\n",
       "    </tr>\n",
       "  </thead>\n",
       "  <tbody>\n",
       "    <tr>\n",
       "      <td>0</td>\n",
       "      <td>1</td>\n",
       "      <td>2018-09-05</td>\n",
       "      <td>14:30:00</td>\n",
       "      <td>HMA</td>\n",
       "      <td>wf_SCHED_CM_MONTHLY_ACX_DEALER</td>\n",
       "      <td>NaN</td>\n",
       "      <td>Trigger file is missing in the location /expor...</td>\n",
       "      <td>Umesh contact Control-M team (James) and he Co...</td>\n",
       "      <td>2018-09-06 00:00:00</td>\n",
       "      <td>00:42:00</td>\n",
       "      <td>IM02820442</td>\n",
       "      <td>Karan</td>\n",
       "      <td>Umesh</td>\n",
       "      <td>NaN</td>\n",
       "      <td>9/2018</td>\n",
       "      <td>NaN</td>\n",
       "      <td>NaN</td>\n",
       "      <td>NaN</td>\n",
       "      <td>NaN</td>\n",
       "    </tr>\n",
       "    <tr>\n",
       "      <td>1</td>\n",
       "      <td>2</td>\n",
       "      <td>2018-09-07</td>\n",
       "      <td>04:00:00</td>\n",
       "      <td>HMA</td>\n",
       "      <td>wf_SCHED_DAILY_EBIZ_COBALT_VEHICLE</td>\n",
       "      <td>s_m_HMA_CTRL_MSDB_DealerInventory_Mig_PROC1</td>\n",
       "      <td>Terminated with Database Error</td>\n",
       "      <td>Recovered the Workflow</td>\n",
       "      <td>2018-09-07 00:00:00</td>\n",
       "      <td>04:11:00</td>\n",
       "      <td>IM02821516</td>\n",
       "      <td>Karan</td>\n",
       "      <td>Umesh</td>\n",
       "      <td>NaN</td>\n",
       "      <td>9/2018</td>\n",
       "      <td>NaN</td>\n",
       "      <td>NaN</td>\n",
       "      <td>NaN</td>\n",
       "      <td>NaN</td>\n",
       "    </tr>\n",
       "    <tr>\n",
       "      <td>2</td>\n",
       "      <td>3</td>\n",
       "      <td>2018-09-10</td>\n",
       "      <td>23:05:00</td>\n",
       "      <td>KMA</td>\n",
       "      <td>wf_SCHED_CTRLM_DAILY_KMA_ODS_EDQIN</td>\n",
       "      <td>NaN</td>\n",
       "      <td>Workflow does not start as per the schedule wh...</td>\n",
       "      <td>The job has been triggered through CTRL-M for ...</td>\n",
       "      <td>2018-09-10 00:00:00</td>\n",
       "      <td>23:28:00</td>\n",
       "      <td>IM02824253</td>\n",
       "      <td>Umashankar</td>\n",
       "      <td>Arvind/James</td>\n",
       "      <td>NaN</td>\n",
       "      <td>9/2018</td>\n",
       "      <td>NaN</td>\n",
       "      <td>NaN</td>\n",
       "      <td>NaN</td>\n",
       "      <td>NaN</td>\n",
       "    </tr>\n",
       "    <tr>\n",
       "      <td>3</td>\n",
       "      <td>4</td>\n",
       "      <td>2018-09-11</td>\n",
       "      <td>21:11:00</td>\n",
       "      <td>KMA</td>\n",
       "      <td>wf_SCHED_CTRLM_DAILY_KMA_KIWI</td>\n",
       "      <td>s_m_KMA_STG_PROD_DEALER_FINANCIAL_KPI_PROC1</td>\n",
       "      <td>Cannot find specified parameter file [/export/...</td>\n",
       "      <td>Param file is dropped and created by another w...</td>\n",
       "      <td>2018-09-11 00:00:00</td>\n",
       "      <td>21:18:00</td>\n",
       "      <td>IM02823945</td>\n",
       "      <td>Karan</td>\n",
       "      <td>Arvind</td>\n",
       "      <td>NaN</td>\n",
       "      <td>9/2018</td>\n",
       "      <td>NaN</td>\n",
       "      <td>NaN</td>\n",
       "      <td>NaN</td>\n",
       "      <td>NaN</td>\n",
       "    </tr>\n",
       "    <tr>\n",
       "      <td>4</td>\n",
       "      <td>5</td>\n",
       "      <td>2018-09-11</td>\n",
       "      <td>22:37:00</td>\n",
       "      <td>KMA</td>\n",
       "      <td>wf_SCHED_CTRLM_DAILY_KMA_KIA_UNIVERSITY</td>\n",
       "      <td>s_m_KMA_FILE_STG_STG_KU_K900_EV_COURSE_REQ_PROC1</td>\n",
       "      <td>Failed because Source file not available which...</td>\n",
       "      <td>Placed the files in the Unix Path</td>\n",
       "      <td>2018-09-12 00:00:00</td>\n",
       "      <td>04:00:00</td>\n",
       "      <td>*WarrantySupport</td>\n",
       "      <td>Umashankar</td>\n",
       "      <td>Arvind</td>\n",
       "      <td>NaN</td>\n",
       "      <td>9/2018</td>\n",
       "      <td>NaN</td>\n",
       "      <td>NaN</td>\n",
       "      <td>NaN</td>\n",
       "      <td>NaN</td>\n",
       "    </tr>\n",
       "  </tbody>\n",
       "</table>\n",
       "</div>"
      ],
      "text/plain": [
       "   #       Date Incident \\nTime  CBU                     Failed Workflow Name  \\\n",
       "0  1 2018-09-05        14:30:00  HMA           wf_SCHED_CM_MONTHLY_ACX_DEALER   \n",
       "1  2 2018-09-07        04:00:00  HMA       wf_SCHED_DAILY_EBIZ_COBALT_VEHICLE   \n",
       "2  3 2018-09-10        23:05:00  KMA       wf_SCHED_CTRLM_DAILY_KMA_ODS_EDQIN   \n",
       "3  4 2018-09-11        21:11:00  KMA            wf_SCHED_CTRLM_DAILY_KMA_KIWI   \n",
       "4  5 2018-09-11        22:37:00  KMA  wf_SCHED_CTRLM_DAILY_KMA_KIA_UNIVERSITY   \n",
       "\n",
       "                            Failed Workflow Session  \\\n",
       "0                                               NaN   \n",
       "1       s_m_HMA_CTRL_MSDB_DealerInventory_Mig_PROC1   \n",
       "2                                               NaN   \n",
       "3       s_m_KMA_STG_PROD_DEALER_FINANCIAL_KPI_PROC1   \n",
       "4  s_m_KMA_FILE_STG_STG_KU_K900_EV_COURSE_REQ_PROC1   \n",
       "\n",
       "                                  Reason for Failure  \\\n",
       "0  Trigger file is missing in the location /expor...   \n",
       "1                     Terminated with Database Error   \n",
       "2  Workflow does not start as per the schedule wh...   \n",
       "3  Cannot find specified parameter file [/export/...   \n",
       "4  Failed because Source file not available which...   \n",
       "\n",
       "                                    Mitigation Steps        Resolved Date  \\\n",
       "0  Umesh contact Control-M team (James) and he Co...  2018-09-06 00:00:00   \n",
       "1                             Recovered the Workflow  2018-09-07 00:00:00   \n",
       "2  The job has been triggered through CTRL-M for ...  2018-09-10 00:00:00   \n",
       "3  Param file is dropped and created by another w...  2018-09-11 00:00:00   \n",
       "4                  Placed the files in the Unix Path  2018-09-12 00:00:00   \n",
       "\n",
       "  Resolved Time     ITSMIncident# Resolved by - Offhsore  \\\n",
       "0      00:42:00        IM02820442                  Karan   \n",
       "1      04:11:00        IM02821516                  Karan   \n",
       "2      23:28:00        IM02824253             Umashankar   \n",
       "3      21:18:00       IM02823945                   Karan   \n",
       "4      04:00:00  *WarrantySupport             Umashankar   \n",
       "\n",
       "  Resolved by - On Site Issue Fixed by onsite/offshore  \\\n",
       "0                 Umesh                            NaN   \n",
       "1                 Umesh                            NaN   \n",
       "2          Arvind/James                            NaN   \n",
       "3                Arvind                            NaN   \n",
       "4                Arvind                            NaN   \n",
       "\n",
       "  Month (Formula for Analysis) Failure Type Call to HAEA Support\\n(Y / N)  \\\n",
       "0                       9/2018          NaN                           NaN   \n",
       "1                       9/2018          NaN                           NaN   \n",
       "2                       9/2018          NaN                           NaN   \n",
       "3                       9/2018          NaN                           NaN   \n",
       "4                       9/2018          NaN                           NaN   \n",
       "\n",
       "  Comments Ticket # (Failure as part of prod migration)  \n",
       "0      NaN                                          NaN  \n",
       "1      NaN                                          NaN  \n",
       "2      NaN                                          NaN  \n",
       "3      NaN                                          NaN  \n",
       "4      NaN                                          NaN  "
      ]
     },
     "execution_count": 4,
     "metadata": {},
     "output_type": "execute_result"
    }
   ],
   "source": [
    "df.head()"
   ]
  },
  {
   "cell_type": "code",
   "execution_count": 5,
   "metadata": {},
   "outputs": [],
   "source": [
    "airtemp_fig = figure()"
   ]
  },
  {
   "cell_type": "code",
   "execution_count": 6,
   "metadata": {},
   "outputs": [],
   "source": [
    "\n",
    "windspeed_fig = figure()"
   ]
  },
  {
   "cell_type": "code",
   "execution_count": 7,
   "metadata": {},
   "outputs": [],
   "source": [
    "comment_words = ' '\n",
    "stopwords = set(STOPWORDS) "
   ]
  },
  {
   "cell_type": "code",
   "execution_count": 8,
   "metadata": {},
   "outputs": [],
   "source": [
    "# iterate through the csv file \n",
    "for val in df['Mitigation Steps']: \n",
    "      \n",
    "    # typecaste each val to string \n",
    "    val = str(val) \n",
    "  \n",
    "    # split the value \n",
    "    tokens = val.split() \n",
    "      \n",
    "    # Converts each token into lowercase \n",
    "    for i in range(len(tokens)): \n",
    "        tokens[i] = tokens[i].lower() \n",
    "          \n",
    "    for words in tokens: \n",
    "        comment_words = comment_words + words + ' '\n",
    "    "
   ]
  },
  {
   "cell_type": "code",
   "execution_count": 9,
   "metadata": {},
   "outputs": [],
   "source": [
    "wordcloud = WordCloud(width = 800, height = 800, max_words=30,\n",
    "                background_color ='white', \n",
    "                stopwords = stopwords, \n",
    "                min_font_size = 2).generate(comment_words) "
   ]
  },
  {
   "cell_type": "code",
   "execution_count": 10,
   "metadata": {},
   "outputs": [
    {
     "data": {
      "image/png": "[encoded data removed]",
      "text/plain": [
       "<Figure size 576x576 with 1 Axes>"
      ]
     },
     "metadata": {
      "needs_background": "light"
     },
     "output_type": "display_data"
    }
   ],
   "source": [
    "# plot the WordCloud image                        \n",
    "plt.figure(figsize = (8, 8), facecolor = None) \n",
    "plt.imshow(wordcloud) \n",
    "plt.axis(\"off\") \n",
    "plt.tight_layout(pad = 0) "
   ]
  },
  {
   "cell_type": "code",
   "execution_count": 11,
   "metadata": {},
   "outputs": [
    {
     "data": {
      "text/plain": [
       "<wordcloud.wordcloud.WordCloud at 0x1700b092908>"
      ]
     },
     "execution_count": 11,
     "metadata": {},
     "output_type": "execute_result"
    }
   ],
   "source": [
    "wordcloud.to_file(\"wc.png\")"
   ]
  },
  {
   "cell_type": "code",
   "execution_count": 12,
   "metadata": {},
   "outputs": [
    {
     "data": {
      "text/plain": [
       "<wordcloud.wordcloud.WordCloud at 0x1700b092908>"
      ]
     },
     "execution_count": 12,
     "metadata": {},
     "output_type": "execute_result"
    }
   ],
   "source": [
    "wordcloud.to_file(\"wc.pdf\")"
   ]
  },
  {
   "cell_type": "code",
   "execution_count": 13,
   "metadata": {},
   "outputs": [],
   "source": [
    "fwn = pd.DataFrame(df['Failed Workflow Name'].value_counts().head(8))"
   ]
  },
  {
   "cell_type": "code",
   "execution_count": 14,
   "metadata": {},
   "outputs": [],
   "source": [
    "fws = pd.DataFrame(df['Failed Workflow Session'].value_counts().head(8))"
   ]
  },
  {
   "cell_type": "code",
   "execution_count": 15,
   "metadata": {},
   "outputs": [],
   "source": [
    "DC = df.groupby([df['Date'].dt.year, df['Date'].dt.month]).agg({'count'})"
   ]
  },
  {
   "cell_type": "code",
   "execution_count": 16,
   "metadata": {},
   "outputs": [],
   "source": [
    "DC.to_csv('DateCount.csv')"
   ]
  },
  {
   "cell_type": "code",
   "execution_count": 17,
   "metadata": {},
   "outputs": [],
   "source": [
    "df2 = pd.read_csv('C:\\\\Users\\\\diksha.rai\\\\Documents\\\\My Received Files\\\\da_co.csv')"
   ]
  },
  {
   "cell_type": "code",
   "execution_count": 18,
   "metadata": {},
   "outputs": [],
   "source": [
    "x=df['Failure Type'].value_counts()"
   ]
  },
  {
   "cell_type": "code",
   "execution_count": 19,
   "metadata": {},
   "outputs": [],
   "source": [
    "data = pd.Series(x).reset_index(name='Count').rename(columns={'index':'Failure Type'})"
   ]
  },
  {
   "cell_type": "code",
   "execution_count": 20,
   "metadata": {},
   "outputs": [],
   "source": [
    "data_new=pd.read_csv(\"C:\\\\Users\\\\diksha.rai\\\\MissingValue Percentage.csv\")"
   ]
  },
  {
   "cell_type": "code",
   "execution_count": 21,
   "metadata": {},
   "outputs": [
    {
     "data": {
      "text/html": [
       "<div>\n",
       "<style scoped>\n",
       "    .dataframe tbody tr th:only-of-type {\n",
       "        vertical-align: middle;\n",
       "    }\n",
       "\n",
       "    .dataframe tbody tr th {\n",
       "        vertical-align: top;\n",
       "    }\n",
       "\n",
       "    .dataframe thead th {\n",
       "        text-align: right;\n",
       "    }\n",
       "</style>\n",
       "<table border=\"1\" class=\"dataframe\">\n",
       "  <thead>\n",
       "    <tr style=\"text-align: right;\">\n",
       "      <th></th>\n",
       "      <th>Name</th>\n",
       "      <th>Percentage</th>\n",
       "    </tr>\n",
       "  </thead>\n",
       "  <tbody>\n",
       "    <tr>\n",
       "      <td>0</td>\n",
       "      <td>Date</td>\n",
       "      <td>0.00</td>\n",
       "    </tr>\n",
       "    <tr>\n",
       "      <td>1</td>\n",
       "      <td>Incident \\nTime</td>\n",
       "      <td>3.14</td>\n",
       "    </tr>\n",
       "    <tr>\n",
       "      <td>2</td>\n",
       "      <td>CBU</td>\n",
       "      <td>0.31</td>\n",
       "    </tr>\n",
       "    <tr>\n",
       "      <td>3</td>\n",
       "      <td>Failed Workflow Name</td>\n",
       "      <td>0.16</td>\n",
       "    </tr>\n",
       "    <tr>\n",
       "      <td>4</td>\n",
       "      <td>Failed Workflow Session</td>\n",
       "      <td>19.50</td>\n",
       "    </tr>\n",
       "    <tr>\n",
       "      <td>5</td>\n",
       "      <td>Reason for Failure</td>\n",
       "      <td>4.40</td>\n",
       "    </tr>\n",
       "    <tr>\n",
       "      <td>6</td>\n",
       "      <td>Mitigation Steps</td>\n",
       "      <td>15.25</td>\n",
       "    </tr>\n",
       "    <tr>\n",
       "      <td>7</td>\n",
       "      <td>Resolved Date</td>\n",
       "      <td>16.82</td>\n",
       "    </tr>\n",
       "    <tr>\n",
       "      <td>8</td>\n",
       "      <td>Resolved Time</td>\n",
       "      <td>22.80</td>\n",
       "    </tr>\n",
       "    <tr>\n",
       "      <td>9</td>\n",
       "      <td>ITSMIncident#</td>\n",
       "      <td>3.62</td>\n",
       "    </tr>\n",
       "    <tr>\n",
       "      <td>10</td>\n",
       "      <td>Resolved by - Offhsore</td>\n",
       "      <td>15.72</td>\n",
       "    </tr>\n",
       "    <tr>\n",
       "      <td>11</td>\n",
       "      <td>Resolved by - On Site</td>\n",
       "      <td>9.75</td>\n",
       "    </tr>\n",
       "    <tr>\n",
       "      <td>12</td>\n",
       "      <td>Issue Fixed by onsite/offshore</td>\n",
       "      <td>70.91</td>\n",
       "    </tr>\n",
       "    <tr>\n",
       "      <td>13</td>\n",
       "      <td>Month (Formula for Analysis)</td>\n",
       "      <td>57.86</td>\n",
       "    </tr>\n",
       "    <tr>\n",
       "      <td>14</td>\n",
       "      <td>Failure Type</td>\n",
       "      <td>78.93</td>\n",
       "    </tr>\n",
       "    <tr>\n",
       "      <td>15</td>\n",
       "      <td>Call to HAEA Support\\n(Y / N)</td>\n",
       "      <td>64.47</td>\n",
       "    </tr>\n",
       "    <tr>\n",
       "      <td>16</td>\n",
       "      <td>Comments</td>\n",
       "      <td>97.17</td>\n",
       "    </tr>\n",
       "    <tr>\n",
       "      <td>17</td>\n",
       "      <td>Ticket # (Failure as part of prod migration)</td>\n",
       "      <td>99.84</td>\n",
       "    </tr>\n",
       "  </tbody>\n",
       "</table>\n",
       "</div>"
      ],
      "text/plain": [
       "                                            Name  Percentage\n",
       "0                                           Date        0.00\n",
       "1                                Incident \\nTime        3.14\n",
       "2                                            CBU        0.31\n",
       "3                           Failed Workflow Name        0.16\n",
       "4                        Failed Workflow Session       19.50\n",
       "5                             Reason for Failure        4.40\n",
       "6                               Mitigation Steps       15.25\n",
       "7                                  Resolved Date       16.82\n",
       "8                                  Resolved Time       22.80\n",
       "9                                  ITSMIncident#        3.62\n",
       "10                        Resolved by - Offhsore       15.72\n",
       "11                         Resolved by - On Site        9.75\n",
       "12                Issue Fixed by onsite/offshore       70.91\n",
       "13                  Month (Formula for Analysis)       57.86\n",
       "14                                  Failure Type       78.93\n",
       "15                 Call to HAEA Support\\n(Y / N)       64.47\n",
       "16                                      Comments       97.17\n",
       "17  Ticket # (Failure as part of prod migration)       99.84"
      ]
     },
     "execution_count": 21,
     "metadata": {},
     "output_type": "execute_result"
    }
   ],
   "source": [
    "data_new"
   ]
  },
  {
   "cell_type": "code",
   "execution_count": 24,
   "metadata": {},
   "outputs": [],
   "source": [
    "output_file(\"Hyundai_EDA.html\")\n",
    "tools=\"pan,wheel_zoom,box_zoom,reset,save,box_select,hover\"\n",
    "#p1 = Paragraph(text=\"\"\"\"\"\", width=400, height=100)\n",
    "\n",
    "#-Predective Analytics Data Analysis\n",
    "#p2 =Paragraph(text=\"\"\" Hyundai-Predective Analytics-EDA \"\"\", width=800, height=100, style={'font-size': '300%', 'color':'blue'},sizing_mode='fixed')\n",
    "p2 = Paragraph(text=\"\"\"Hyundai-Predective -Analysis\"\"\", width=600, height=100, style={'font-size': '300%', 'color':'firebrick'})\n",
    "p3 = figure(plot_width=400, plot_height=400, title=\"WORDCOUNT\")\n",
    "p3.image_url(url=['C:\\\\Users\\\\Diksha.rai\\\\wc.png'], x=0, y=0, w=0.8, h=0.8,anchor=\"bottom_left\")\n",
    "p3.xaxis.visible = None\n",
    "p3.yaxis.visible = None\n",
    "\n",
    "\n",
    "#p4 = figure(tools=\"pan,wheel_zoom,box_zoom,reset\")\n",
    "p4 = figure(plot_width=400, plot_height=400,x_axis_label=\"Failed Workflow Name\", y_axis_label=\"Count\",title=\"Top 8 failing Workflows\", tools=tools,toolbar_location=\"right\" ,tooltips=[(\"Workflow\",\"@x\"),(\"Count\",\"@top\")])\n",
    "p4.vbar(x=range(8), top=fwn['Failed Workflow Name'], width=0.9)\n",
    "p4.y_range.start =0\n",
    "p4.y_range.end = 30\n",
    "p4.xaxis.major_label_orientation = pi/4\n",
    "y0 = x\n",
    "y1 = [10 - i for i in x]\n",
    "y2 = [abs(i - 5) for i in x]\n",
    "\n",
    "\n",
    "\n",
    "#p5 = figure(plot_width=400, plot_height=400,x_axis_label=\"Failed Workflow Session\", y_axis_label=\"Count\",title=\"Count of Workflow Session\",tools=tools,toolbar_location=None,tooltips=[(\"Workflow\",\"@x\"),(\"Count\",\"@y\")])\n",
    "#p5.line(x=range(8),y=fws['Failed Workflow Session'], color='orange')\n",
    "#p5.circle(x=range(8),y=fws['Failed Workflow Session'],size=5, line_color='navy', fill_color='navy')\n",
    "\n",
    "p5 = figure(plot_width=400, plot_height=400,x_axis_label=\"Failed Workflow Session\", y_axis_label=\"Count\",title=\"Count of Workflow Session\",tools=tools,toolbar_location=\"right\",)\n",
    "p5.line(x=range(8),y=fws['Failed Workflow Session'], color='orange')\n",
    "p5.circle(x=range(8),y=fws['Failed Workflow Session'],size=5, line_color='navy', fill_color=\"blue\")\n",
    "p5.add_tools(HoverTool(tooltips=[(\"Workflow\",\"@x\"),(\"Count\",\"@y\")]))\n",
    "\n",
    "#p = figure(plot_height=350, x_range=group, toolbar_location=None, tools=\"\")\n",
    "#p.vbar(x='cyl', top='mpg_mean', width=0.9, source=group)\n",
    "\n",
    "#p.add_tools(HoverTool(tooltips=[(\"Avg MPG\", \"@mpg_mean\")]))\n",
    "\n",
    "#show(p)\n",
    "\n",
    "p6 = figure(x_range = df2.Month,plot_width=600, plot_height=400,x_axis_label=\"Month\", y_axis_label=\"Count\",title=\"Count of failures based on Month\",tools=tools,toolbar_location=\"right\",tooltips=[(\"Month\",\"@x\"),(\"Count\",\"@y\")])\n",
    "p6.line(x=df2.Month,y=df2.Count, color='orange')\n",
    "p6.circle(x=df2.Month,y=df2.Count,size=5, line_color='navy', fill_color='red')\n",
    "p6.xaxis.major_label_orientation = pi/4\n",
    "\n",
    "\n",
    "p7 = figure(plot_width=1200, plot_height=400,x_axis_label=\"Failure Type\", y_axis_label=\"Count\",title=\"Count of Failure Type \",tools=tools,toolbar_location=\"right\",tooltips=[(\"Failure Type\",\"@x\"),(\"Count\",\"@y\")],\n",
    "            y_range=[0,30], x_range=data['Failure Type'])\n",
    "p7.segment(data['Failure Type'],0, data['Failure Type'], data['Count'], line_width=2, line_color=\"orangered\", )\n",
    "p7.circle(data['Failure Type'], data['Count'], size=45, fill_color=\"yellow\", line_color=\"firebrick\", line_width=3,) \n",
    "#p7.xaxis.major_label_orientation = pi/4 \n",
    "\n",
    "p8 = figure(x_range=data_new.Name,plot_width=600, plot_height=400,x_axis_label=\"Column Name\", y_axis_label=\"Percentage of Missing Values\",title=\"Missing Values Percentage\",tools=tools,toolbar_location=\"right\",border_fill_color=\"whitesmoke\",background_fill_color=\"pink\",tooltips=[(\"Col.Name\",\"@x\"),(\"Percentage\",\"@top\")])\n",
    "p8.vbar(x=data_new.Name, top=data_new.Percentage, width=0.9)\n",
    "p8.y_range.start = 0\n",
    "p8.y_range.end = 100\n",
    "#p8.xaxis.major_label_orientation = pi/4 \n",
    "p1 = Paragraph(text=\"\"\"\"\"\", width=400, height=100)\n",
    "\n",
    "#grid=gridplot([[p2],[p3,p4],[p5,p6],[p7,p8]]) \n",
    "#show(grid)\n",
    "\n",
    "\n",
    "\n",
    "#l = gridplot([\n",
    "   # [p1,p2],\n",
    "    #[p3,p5],\n",
    "    #[p6,p7],\n",
    "    #[p8,p4]\n",
    "#], sizing_mode='stretch_width')\n",
    "#show(l)\n",
    "\n",
    "\n",
    "#l = gridplot([\n",
    "   ## [p1,p2],\n",
    "   ## [p3,p5,p6],\n",
    "    #[p7,p8]\n",
    "#], sizing_mode='stretch_width')\n",
    "#show(l)\n",
    "\n",
    "#show(row(p3,p4,p5),(p6,p7,p8))\n",
    "\n",
    "#show(l)\n",
    "#Layout=coulmn(p3,p4,p5)\n",
    "#Layout=column(p6,p7,p8)\n",
    "#grid=gridplot([[p5,p3],[p4,p6],[p7,p8]])\n",
    "#show(grid)\n",
    "\n",
    "\n",
    "#show(((p5, p4, p3))\n",
    "#grid=gridplot([[p1],[p3,p4,p5],[p6,p7,p8]])\n",
    "#show(grid) \n",
    "#show(column(row(p1,p2,p3),(p4,p5,p6,p7,p8), sizing_mode='scale_width'))\n",
    "# put all the plots in an HBox\n",
    "#row1=row([[p8,p6,p7],[p4,p5]])\n",
    "#row2=row(p3,p4,p5)\n",
    "#show(row1)\n",
    "\n",
    "col1 = row(p3,p4,p5)\n",
    "col2 = row(p6,p8)\n",
    "col3 =row(p1,p2)\n",
    "col4 =row(p7)\n",
    "\n",
    "show(column(col3,col1,col2,col4))\n",
    "\n",
    "\n",
    "#grid=gridplot([[p1,p2],[p3,p5,p4],[p6,p8,p7]])\n",
    "#3show(grid)\n",
    "\n",
    "\n",
    " \n",
    "#grid=gridplot([[p3,p4],[p5,p6],[p7,p8]], plot_width=400, plot_height=400,sizing_mode=\"stretch_width\")\n",
    "#show(grid)\n",
    "#show(row(p6,p7,p8),ncols=2)\n",
    "#show(column(p3, p4, p5,p6,p7,p8))\n",
    "#show(row([p3,p4,p5],[p6,p7,p8]))\n",
    "#show(column([p3,p4,p5]))\n",
    "#[p6,p7,p8])\n",
    "#gridplot([p1, p2, p3],[p4,p5,p6],ncols=2)\n",
    "#show(grid)\n",
    "#show(row([p6,p7,p8],\n",
    "       #  [p6,p7,p8],sizing_mode='strecth_width')\n",
    "    #)\n",
    "#grid=gridplot([[p5,p6],[p3,p4],[p7,p8]],sizing_mode='strecth_width')\n",
    "#show(grid) \n",
    "\n",
    "#show(column(p3,p4,p5,p6,p7,p8),ncols=2,sizing_mode='strecth_width')\n",
    "#grid = gridplot([[p1, p2], [p3, p4],[p5,p6],[p7,p8]])\n",
    "#show(grid)\n",
    "#gridplot([p1, p2, p3,p4,p5,p6,p7,p8], ncols=2)\n",
    "#show(grid)\n",
    " \n",
    "#ncols=3, plot_width=250, plot_height=250), plot_width=800, plot_height=400\n",
    "#grid = gridplot([p1, p2, p3, p4, p5, p6,p7,p8])\n",
    "#show(grid)\n",
    "#grid = gridplot([[None,p2], [p3, p4],[p5,p6],[p7,p8]], plot_width=450, plot_height=250)\n",
    "#show(grid)\n",
    "#grid = gridplot([[None,p2],[p3,p5],[p7,p6],[p8,p4]], plot_width=600, plot_height=400)\n",
    "#show(grid)\n",
    "#show(row(p2,p3,p4,p5))\n",
    "#show(column(p6,p7,p8))\n",
    "#grid(column(p1, row(column(p2, p3), p4)))\n",
    "#layout([[p1, p2], [p3, p4]])\n",
    "#Layout = layout(\n",
    "   # [p8],\n",
    "   # [[button, slider]],\n",
    "   # sizing_mode='stretch_both'\n",
    "\n",
    "#t_slider = Slider(start=0.0, end=1.0, value=1.0, step=.01,\n",
    "                 # title=\"Failed work flow\", width=140)\n",
    "#l= gridplot([[p1, column(t_slider, p3)],[p4,p5]])\n",
    "#curdoc().add_root(l)\n",
    "#show(l) \n",
    "#l = column(gridplot([[p1, column(t_slider, p3)]]), p2)\n",
    "#layout = column(widgetbox(slider), plot)\n",
    "#curdoc().add_root(layout)\n",
    "#layout = column(\n",
    "   # plot, \n",
    "   ## row(button, slider, height=100, sizing_mode=\"stretch_width\"), \n",
    "   # sizing_mode=\"stretch_both\"\n",
    "##)\n",
    "#def callback(attr, old, new):\n",
    "#scale = slider.value\n",
    " #new_y = np.sin(scale/x)\n",
    "#show(column([p3,p4,p5],[p6,p8,None]))\n"
   ]
  },
  {
   "cell_type": "code",
   "execution_count": 23,
   "metadata": {},
   "outputs": [],
   "source": [
    "p3 = figure(plot_width=800, plot_height=400, title=\"WORDCOUNT\")\n",
    "p3.image_url(url=['C:\\\\Users\\\\Diksha.rai\\\\wc.png'], x=0, y=0, w=0.8, h=0.8,anchor=\"bottom_left\")\n",
    "p3.xaxis.visible = None\n",
    "p3.yaxis.visible = None\n",
    "show(p3)"
   ]
  },
  {
   "cell_type": "code",
   "execution_count": 1127,
   "metadata": {},
   "outputs": [],
   "source": [
    "# generate some synthetic time series for six different categories\n",
    "cats = list(\"abcdef\")\n",
    "yy = np.random.randn(2000)\n",
    "g = np.random.choice(cats, 2000)\n",
    "for i, l in enumerate(cats):\n",
    "    yy[g == l] += i // 2\n",
    "df = pd.DataFrame(dict(score=yy, group=g))\n"
   ]
  },
  {
   "cell_type": "code",
   "execution_count": 506,
   "metadata": {},
   "outputs": [],
   "source": [
    "groups = df.groupby('group')\n",
    "q1 = groups.quantile(q=0.25)\n",
    "q2 = groups.quantile(q=0.5)\n",
    "q3 = groups.quantile(q=0.75)\n",
    "iqr = q3 - q1\n",
    "upper = q3 + 1.5*iqr\n",
    "lower = q1 - 1.5*iqr"
   ]
  },
  {
   "cell_type": "code",
   "execution_count": 407,
   "metadata": {},
   "outputs": [],
   "source": [
    "# find the outliers for each category\n",
    "def outliers(group):\n",
    "    cat = group.name\n",
    "    return group[(group.score > upper.loc[cat]['score']) | (group.score < lower.loc[cat]['score'])]['score']\n",
    "out = groups.apply(outliers).dropna()\n"
   ]
  },
  {
   "cell_type": "code",
   "execution_count": 408,
   "metadata": {},
   "outputs": [],
   "source": [
    "if not out.empty:\n",
    "    outx = []\n",
    "    outy = []\n",
    "    for keys in out.index:\n",
    "        outx.append(keys[0])\n",
    "        outy.append(out.loc[keys[0]].loc[keys[1]])\n",
    "\n",
    "p = figure(tools=\"\", background_fill_color=\"#efefef\", x_range=cats, toolbar_location=None)\n"
   ]
  },
  {
   "cell_type": "code",
   "execution_count": 230,
   "metadata": {},
   "outputs": [],
   "source": [
    "# if no outliers, shrink lengths of stems to be no longer than the minimums or maximums\n",
    "qmin = groups.quantile(q=0.00)\n",
    "qmax = groups.quantile(q=1.00)\n",
    "upper.score = [min([x,y]) for (x,y) in zip(list(qmax.loc[:,'score']),upper.score)]\n",
    "lower.score = [max([x,y]) for (x,y) in zip(list(qmin.loc[:,'score']),lower.score)]\n"
   ]
  },
  {
   "cell_type": "code",
   "execution_count": 231,
   "metadata": {},
   "outputs": [
    {
     "data": {
      "text/html": [
       "<div style=\"display: table;\"><div style=\"display: table-row;\"><div style=\"display: table-cell;\"><b title=\"bokeh.models.renderers.GlyphRenderer\">GlyphRenderer</b>(</div><div style=\"display: table-cell;\">id&nbsp;=&nbsp;'93439', <span id=\"93442\" style=\"cursor: pointer;\">&hellip;)</span></div></div><div class=\"93441\" style=\"display: none;\"><div style=\"display: table-cell;\"></div><div style=\"display: table-cell;\">data_source&nbsp;=&nbsp;ColumnDataSource(id='93436', ...),</div></div><div class=\"93441\" style=\"display: none;\"><div style=\"display: table-cell;\"></div><div style=\"display: table-cell;\">glyph&nbsp;=&nbsp;Segment(id='93437', ...),</div></div><div class=\"93441\" style=\"display: none;\"><div style=\"display: table-cell;\"></div><div style=\"display: table-cell;\">hover_glyph&nbsp;=&nbsp;None,</div></div><div class=\"93441\" style=\"display: none;\"><div style=\"display: table-cell;\"></div><div style=\"display: table-cell;\">js_event_callbacks&nbsp;=&nbsp;{},</div></div><div class=\"93441\" style=\"display: none;\"><div style=\"display: table-cell;\"></div><div style=\"display: table-cell;\">js_property_callbacks&nbsp;=&nbsp;{},</div></div><div class=\"93441\" style=\"display: none;\"><div style=\"display: table-cell;\"></div><div style=\"display: table-cell;\">level&nbsp;=&nbsp;'glyph',</div></div><div class=\"93441\" style=\"display: none;\"><div style=\"display: table-cell;\"></div><div style=\"display: table-cell;\">muted&nbsp;=&nbsp;False,</div></div><div class=\"93441\" style=\"display: none;\"><div style=\"display: table-cell;\"></div><div style=\"display: table-cell;\">muted_glyph&nbsp;=&nbsp;None,</div></div><div class=\"93441\" style=\"display: none;\"><div style=\"display: table-cell;\"></div><div style=\"display: table-cell;\">name&nbsp;=&nbsp;None,</div></div><div class=\"93441\" style=\"display: none;\"><div style=\"display: table-cell;\"></div><div style=\"display: table-cell;\">nonselection_glyph&nbsp;=&nbsp;Segment(id='93438', ...),</div></div><div class=\"93441\" style=\"display: none;\"><div style=\"display: table-cell;\"></div><div style=\"display: table-cell;\">selection_glyph&nbsp;=&nbsp;None,</div></div><div class=\"93441\" style=\"display: none;\"><div style=\"display: table-cell;\"></div><div style=\"display: table-cell;\">subscribed_events&nbsp;=&nbsp;[],</div></div><div class=\"93441\" style=\"display: none;\"><div style=\"display: table-cell;\"></div><div style=\"display: table-cell;\">tags&nbsp;=&nbsp;[],</div></div><div class=\"93441\" style=\"display: none;\"><div style=\"display: table-cell;\"></div><div style=\"display: table-cell;\">view&nbsp;=&nbsp;CDSView(id='93440', ...),</div></div><div class=\"93441\" style=\"display: none;\"><div style=\"display: table-cell;\"></div><div style=\"display: table-cell;\">visible&nbsp;=&nbsp;True,</div></div><div class=\"93441\" style=\"display: none;\"><div style=\"display: table-cell;\"></div><div style=\"display: table-cell;\">x_range_name&nbsp;=&nbsp;'default',</div></div><div class=\"93441\" style=\"display: none;\"><div style=\"display: table-cell;\"></div><div style=\"display: table-cell;\">y_range_name&nbsp;=&nbsp;'default')</div></div></div>\n",
       "<script>\n",
       "(function() {\n",
       "  var expanded = false;\n",
       "  var ellipsis = document.getElementById(\"93442\");\n",
       "  ellipsis.addEventListener(\"click\", function() {\n",
       "    var rows = document.getElementsByClassName(\"93441\");\n",
       "    for (var i = 0; i < rows.length; i++) {\n",
       "      var el = rows[i];\n",
       "      el.style.display = expanded ? \"none\" : \"table-row\";\n",
       "    }\n",
       "    ellipsis.innerHTML = expanded ? \"&hellip;)\" : \"&lsaquo;&lsaquo;&lsaquo;\";\n",
       "    expanded = !expanded;\n",
       "  });\n",
       "})();\n",
       "</script>\n"
      ],
      "text/plain": [
       "GlyphRenderer(id='93439', ...)"
      ]
     },
     "execution_count": 231,
     "metadata": {},
     "output_type": "execute_result"
    }
   ],
   "source": [
    "# stems\n",
    "p.segment(cats, upper.score, cats, q3.score, line_color=\"black\")\n",
    "p.segment(cats, lower.score, cats, q1.score, line_color=\"black\")\n"
   ]
  },
  {
   "cell_type": "code",
   "execution_count": 232,
   "metadata": {},
   "outputs": [
    {
     "data": {
      "text/html": [
       "<div style=\"display: table;\"><div style=\"display: table-row;\"><div style=\"display: table-cell;\"><b title=\"bokeh.models.renderers.GlyphRenderer\">GlyphRenderer</b>(</div><div style=\"display: table-cell;\">id&nbsp;=&nbsp;'93451', <span id=\"93454\" style=\"cursor: pointer;\">&hellip;)</span></div></div><div class=\"93453\" style=\"display: none;\"><div style=\"display: table-cell;\"></div><div style=\"display: table-cell;\">data_source&nbsp;=&nbsp;ColumnDataSource(id='93448', ...),</div></div><div class=\"93453\" style=\"display: none;\"><div style=\"display: table-cell;\"></div><div style=\"display: table-cell;\">glyph&nbsp;=&nbsp;VBar(id='93449', ...),</div></div><div class=\"93453\" style=\"display: none;\"><div style=\"display: table-cell;\"></div><div style=\"display: table-cell;\">hover_glyph&nbsp;=&nbsp;None,</div></div><div class=\"93453\" style=\"display: none;\"><div style=\"display: table-cell;\"></div><div style=\"display: table-cell;\">js_event_callbacks&nbsp;=&nbsp;{},</div></div><div class=\"93453\" style=\"display: none;\"><div style=\"display: table-cell;\"></div><div style=\"display: table-cell;\">js_property_callbacks&nbsp;=&nbsp;{},</div></div><div class=\"93453\" style=\"display: none;\"><div style=\"display: table-cell;\"></div><div style=\"display: table-cell;\">level&nbsp;=&nbsp;'glyph',</div></div><div class=\"93453\" style=\"display: none;\"><div style=\"display: table-cell;\"></div><div style=\"display: table-cell;\">muted&nbsp;=&nbsp;False,</div></div><div class=\"93453\" style=\"display: none;\"><div style=\"display: table-cell;\"></div><div style=\"display: table-cell;\">muted_glyph&nbsp;=&nbsp;None,</div></div><div class=\"93453\" style=\"display: none;\"><div style=\"display: table-cell;\"></div><div style=\"display: table-cell;\">name&nbsp;=&nbsp;None,</div></div><div class=\"93453\" style=\"display: none;\"><div style=\"display: table-cell;\"></div><div style=\"display: table-cell;\">nonselection_glyph&nbsp;=&nbsp;VBar(id='93450', ...),</div></div><div class=\"93453\" style=\"display: none;\"><div style=\"display: table-cell;\"></div><div style=\"display: table-cell;\">selection_glyph&nbsp;=&nbsp;None,</div></div><div class=\"93453\" style=\"display: none;\"><div style=\"display: table-cell;\"></div><div style=\"display: table-cell;\">subscribed_events&nbsp;=&nbsp;[],</div></div><div class=\"93453\" style=\"display: none;\"><div style=\"display: table-cell;\"></div><div style=\"display: table-cell;\">tags&nbsp;=&nbsp;[],</div></div><div class=\"93453\" style=\"display: none;\"><div style=\"display: table-cell;\"></div><div style=\"display: table-cell;\">view&nbsp;=&nbsp;CDSView(id='93452', ...),</div></div><div class=\"93453\" style=\"display: none;\"><div style=\"display: table-cell;\"></div><div style=\"display: table-cell;\">visible&nbsp;=&nbsp;True,</div></div><div class=\"93453\" style=\"display: none;\"><div style=\"display: table-cell;\"></div><div style=\"display: table-cell;\">x_range_name&nbsp;=&nbsp;'default',</div></div><div class=\"93453\" style=\"display: none;\"><div style=\"display: table-cell;\"></div><div style=\"display: table-cell;\">y_range_name&nbsp;=&nbsp;'default')</div></div></div>\n",
       "<script>\n",
       "(function() {\n",
       "  var expanded = false;\n",
       "  var ellipsis = document.getElementById(\"93454\");\n",
       "  ellipsis.addEventListener(\"click\", function() {\n",
       "    var rows = document.getElementsByClassName(\"93453\");\n",
       "    for (var i = 0; i < rows.length; i++) {\n",
       "      var el = rows[i];\n",
       "      el.style.display = expanded ? \"none\" : \"table-row\";\n",
       "    }\n",
       "    ellipsis.innerHTML = expanded ? \"&hellip;)\" : \"&lsaquo;&lsaquo;&lsaquo;\";\n",
       "    expanded = !expanded;\n",
       "  });\n",
       "})();\n",
       "</script>\n"
      ],
      "text/plain": [
       "GlyphRenderer(id='93451', ...)"
      ]
     },
     "execution_count": 232,
     "metadata": {},
     "output_type": "execute_result"
    }
   ],
   "source": [
    "# boxes\n",
    "p.vbar(cats, 0.7, q2.score, q3.score, fill_color=\"#E08E79\", line_color=\"black\")\n",
    "p.vbar(cats, 0.7, q1.score, q2.score, fill_color=\"#3B8686\", line_color=\"black\")\n"
   ]
  },
  {
   "cell_type": "code",
   "execution_count": 233,
   "metadata": {},
   "outputs": [
    {
     "data": {
      "text/html": [
       "<div style=\"display: table;\"><div style=\"display: table-row;\"><div style=\"display: table-cell;\"><b title=\"bokeh.models.renderers.GlyphRenderer\">GlyphRenderer</b>(</div><div style=\"display: table-cell;\">id&nbsp;=&nbsp;'93463', <span id=\"93466\" style=\"cursor: pointer;\">&hellip;)</span></div></div><div class=\"93465\" style=\"display: none;\"><div style=\"display: table-cell;\"></div><div style=\"display: table-cell;\">data_source&nbsp;=&nbsp;ColumnDataSource(id='93460', ...),</div></div><div class=\"93465\" style=\"display: none;\"><div style=\"display: table-cell;\"></div><div style=\"display: table-cell;\">glyph&nbsp;=&nbsp;Rect(id='93461', ...),</div></div><div class=\"93465\" style=\"display: none;\"><div style=\"display: table-cell;\"></div><div style=\"display: table-cell;\">hover_glyph&nbsp;=&nbsp;None,</div></div><div class=\"93465\" style=\"display: none;\"><div style=\"display: table-cell;\"></div><div style=\"display: table-cell;\">js_event_callbacks&nbsp;=&nbsp;{},</div></div><div class=\"93465\" style=\"display: none;\"><div style=\"display: table-cell;\"></div><div style=\"display: table-cell;\">js_property_callbacks&nbsp;=&nbsp;{},</div></div><div class=\"93465\" style=\"display: none;\"><div style=\"display: table-cell;\"></div><div style=\"display: table-cell;\">level&nbsp;=&nbsp;'glyph',</div></div><div class=\"93465\" style=\"display: none;\"><div style=\"display: table-cell;\"></div><div style=\"display: table-cell;\">muted&nbsp;=&nbsp;False,</div></div><div class=\"93465\" style=\"display: none;\"><div style=\"display: table-cell;\"></div><div style=\"display: table-cell;\">muted_glyph&nbsp;=&nbsp;None,</div></div><div class=\"93465\" style=\"display: none;\"><div style=\"display: table-cell;\"></div><div style=\"display: table-cell;\">name&nbsp;=&nbsp;None,</div></div><div class=\"93465\" style=\"display: none;\"><div style=\"display: table-cell;\"></div><div style=\"display: table-cell;\">nonselection_glyph&nbsp;=&nbsp;Rect(id='93462', ...),</div></div><div class=\"93465\" style=\"display: none;\"><div style=\"display: table-cell;\"></div><div style=\"display: table-cell;\">selection_glyph&nbsp;=&nbsp;None,</div></div><div class=\"93465\" style=\"display: none;\"><div style=\"display: table-cell;\"></div><div style=\"display: table-cell;\">subscribed_events&nbsp;=&nbsp;[],</div></div><div class=\"93465\" style=\"display: none;\"><div style=\"display: table-cell;\"></div><div style=\"display: table-cell;\">tags&nbsp;=&nbsp;[],</div></div><div class=\"93465\" style=\"display: none;\"><div style=\"display: table-cell;\"></div><div style=\"display: table-cell;\">view&nbsp;=&nbsp;CDSView(id='93464', ...),</div></div><div class=\"93465\" style=\"display: none;\"><div style=\"display: table-cell;\"></div><div style=\"display: table-cell;\">visible&nbsp;=&nbsp;True,</div></div><div class=\"93465\" style=\"display: none;\"><div style=\"display: table-cell;\"></div><div style=\"display: table-cell;\">x_range_name&nbsp;=&nbsp;'default',</div></div><div class=\"93465\" style=\"display: none;\"><div style=\"display: table-cell;\"></div><div style=\"display: table-cell;\">y_range_name&nbsp;=&nbsp;'default')</div></div></div>\n",
       "<script>\n",
       "(function() {\n",
       "  var expanded = false;\n",
       "  var ellipsis = document.getElementById(\"93466\");\n",
       "  ellipsis.addEventListener(\"click\", function() {\n",
       "    var rows = document.getElementsByClassName(\"93465\");\n",
       "    for (var i = 0; i < rows.length; i++) {\n",
       "      var el = rows[i];\n",
       "      el.style.display = expanded ? \"none\" : \"table-row\";\n",
       "    }\n",
       "    ellipsis.innerHTML = expanded ? \"&hellip;)\" : \"&lsaquo;&lsaquo;&lsaquo;\";\n",
       "    expanded = !expanded;\n",
       "  });\n",
       "})();\n",
       "</script>\n"
      ],
      "text/plain": [
       "GlyphRenderer(id='93463', ...)"
      ]
     },
     "execution_count": 233,
     "metadata": {},
     "output_type": "execute_result"
    }
   ],
   "source": [
    "# whiskers (almost-0 height rects simpler than segments)\n",
    "p.rect(cats, lower.score, 0.2, 0.01, line_color=\"black\")\n",
    "p.rect(cats, upper.score, 0.2, 0.01, line_color=\"black\")\n"
   ]
  },
  {
   "cell_type": "code",
   "execution_count": 234,
   "metadata": {},
   "outputs": [],
   "source": [
    "# outliers\n",
    "if not out.empty:\n",
    "    p.circle(outx, outy, size=6, color=\"#F38630\", fill_alpha=0.6)\n",
    "\n",
    "p.xgrid.grid_line_color = None\n",
    "p.ygrid.grid_line_color = \"white\"\n",
    "p.grid.grid_line_width = 2\n",
    "p.xaxis.major_label_text_font_size=\"12pt\"\n",
    "\n",
    "output_file(\"boxplot.html\", title=\"boxplot.py example\")\n",
    "\n",
    "show(p)"
   ]
  },
  {
   "cell_type": "code",
   "execution_count": 820,
   "metadata": {},
   "outputs": [],
   "source": [
    "# Generate some synthetic time series for six different categories\n",
    "cats = list(\"123456\")\n",
    "yy = np.random.randn(2000)\n",
    "g = np.random.choice(cats, 2000)\n",
    "for i, l in enumerate(cats):\n",
    "    yy[g == l] += i // 2\n",
    "df = pd.DataFrame(dict(score=yy, group=g))\n"
   ]
  },
  {
   "cell_type": "code",
   "execution_count": 821,
   "metadata": {},
   "outputs": [],
   "source": [
    "# Find the quartiles and IQR foor each category\n",
    "groups = df.groupby('group')\n",
    "q1 = groups.quantile(q=0.25)\n",
    "q2 = groups.quantile(q=0.5)\n",
    "q3 = groups.quantile(q=0.75)\n",
    "iqr = q3 - q1\n",
    "upper = q3 + 1.5*iqr\n",
    "lower = q1 - 1.5*iqr"
   ]
  },
  {
   "cell_type": "code",
   "execution_count": 822,
   "metadata": {},
   "outputs": [],
   "source": [
    "# find the outliers for each category\n",
    "def outliers(group):\n",
    "    cat = group.name\n",
    "    return group[(group.score > upper.loc[cat][0]) | (group.score < lower.loc[cat][0])]['score']\n",
    "out = groups.apply(outliers).dropna()"
   ]
  },
  {
   "cell_type": "code",
   "execution_count": 823,
   "metadata": {},
   "outputs": [],
   "source": [
    "qmin = groups.quantile(q=0.00)\n",
    "qmax = groups.quantile(q=1.00)\n",
    "upper.score = [min([x,y]) for (x,y) in zip(list(qmax.iloc[:,0]),upper.score) ]\n",
    "lower.score = [max([x,y]) for (x,y) in zip(list(qmin.iloc[:,0]),lower.score) ]\n"
   ]
  },
  {
   "cell_type": "code",
   "execution_count": 824,
   "metadata": {},
   "outputs": [
    {
     "data": {
      "text/html": [
       "<div style=\"display: table;\"><div style=\"display: table-row;\"><div style=\"display: table-cell;\"><b title=\"bokeh.models.renderers.GlyphRenderer\">GlyphRenderer</b>(</div><div style=\"display: table-cell;\">id&nbsp;=&nbsp;'300499', <span id=\"300540\" style=\"cursor: pointer;\">&hellip;)</span></div></div><div class=\"300539\" style=\"display: none;\"><div style=\"display: table-cell;\"></div><div style=\"display: table-cell;\">data_source&nbsp;=&nbsp;ColumnDataSource(id='300496', ...),</div></div><div class=\"300539\" style=\"display: none;\"><div style=\"display: table-cell;\"></div><div style=\"display: table-cell;\">glyph&nbsp;=&nbsp;Segment(id='300497', ...),</div></div><div class=\"300539\" style=\"display: none;\"><div style=\"display: table-cell;\"></div><div style=\"display: table-cell;\">hover_glyph&nbsp;=&nbsp;None,</div></div><div class=\"300539\" style=\"display: none;\"><div style=\"display: table-cell;\"></div><div style=\"display: table-cell;\">js_event_callbacks&nbsp;=&nbsp;{},</div></div><div class=\"300539\" style=\"display: none;\"><div style=\"display: table-cell;\"></div><div style=\"display: table-cell;\">js_property_callbacks&nbsp;=&nbsp;{},</div></div><div class=\"300539\" style=\"display: none;\"><div style=\"display: table-cell;\"></div><div style=\"display: table-cell;\">level&nbsp;=&nbsp;'glyph',</div></div><div class=\"300539\" style=\"display: none;\"><div style=\"display: table-cell;\"></div><div style=\"display: table-cell;\">muted&nbsp;=&nbsp;False,</div></div><div class=\"300539\" style=\"display: none;\"><div style=\"display: table-cell;\"></div><div style=\"display: table-cell;\">muted_glyph&nbsp;=&nbsp;None,</div></div><div class=\"300539\" style=\"display: none;\"><div style=\"display: table-cell;\"></div><div style=\"display: table-cell;\">name&nbsp;=&nbsp;None,</div></div><div class=\"300539\" style=\"display: none;\"><div style=\"display: table-cell;\"></div><div style=\"display: table-cell;\">nonselection_glyph&nbsp;=&nbsp;Segment(id='300498', ...),</div></div><div class=\"300539\" style=\"display: none;\"><div style=\"display: table-cell;\"></div><div style=\"display: table-cell;\">selection_glyph&nbsp;=&nbsp;None,</div></div><div class=\"300539\" style=\"display: none;\"><div style=\"display: table-cell;\"></div><div style=\"display: table-cell;\">subscribed_events&nbsp;=&nbsp;[],</div></div><div class=\"300539\" style=\"display: none;\"><div style=\"display: table-cell;\"></div><div style=\"display: table-cell;\">tags&nbsp;=&nbsp;[],</div></div><div class=\"300539\" style=\"display: none;\"><div style=\"display: table-cell;\"></div><div style=\"display: table-cell;\">view&nbsp;=&nbsp;CDSView(id='300500', ...),</div></div><div class=\"300539\" style=\"display: none;\"><div style=\"display: table-cell;\"></div><div style=\"display: table-cell;\">visible&nbsp;=&nbsp;True,</div></div><div class=\"300539\" style=\"display: none;\"><div style=\"display: table-cell;\"></div><div style=\"display: table-cell;\">x_range_name&nbsp;=&nbsp;'default',</div></div><div class=\"300539\" style=\"display: none;\"><div style=\"display: table-cell;\"></div><div style=\"display: table-cell;\">y_range_name&nbsp;=&nbsp;'default')</div></div></div>\n",
       "<script>\n",
       "(function() {\n",
       "  var expanded = false;\n",
       "  var ellipsis = document.getElementById(\"300540\");\n",
       "  ellipsis.addEventListener(\"click\", function() {\n",
       "    var rows = document.getElementsByClassName(\"300539\");\n",
       "    for (var i = 0; i < rows.length; i++) {\n",
       "      var el = rows[i];\n",
       "      el.style.display = expanded ? \"none\" : \"table-row\";\n",
       "    }\n",
       "    ellipsis.innerHTML = expanded ? \"&hellip;)\" : \"&lsaquo;&lsaquo;&lsaquo;\";\n",
       "    expanded = !expanded;\n",
       "  });\n",
       "})();\n",
       "</script>\n"
      ],
      "text/plain": [
       "GlyphRenderer(id='300499', ...)"
      ]
     },
     "execution_count": 824,
     "metadata": {},
     "output_type": "execute_result"
    }
   ],
   "source": [
    "p.segment(cats, upper.score, cats, q3.score, line_width=2, line_color=\"black\")\n",
    "p.segment(cats, lower.score, cats, q1.score, line_width=2, line_color=\"black\")"
   ]
  },
  {
   "cell_type": "code",
   "execution_count": 825,
   "metadata": {},
   "outputs": [
    {
     "data": {
      "text/html": [
       "<div style=\"display: table;\"><div style=\"display: table-row;\"><div style=\"display: table-cell;\"><b title=\"bokeh.models.renderers.GlyphRenderer\">GlyphRenderer</b>(</div><div style=\"display: table-cell;\">id&nbsp;=&nbsp;'300589', <span id=\"300634\" style=\"cursor: pointer;\">&hellip;)</span></div></div><div class=\"300633\" style=\"display: none;\"><div style=\"display: table-cell;\"></div><div style=\"display: table-cell;\">data_source&nbsp;=&nbsp;ColumnDataSource(id='300586', ...),</div></div><div class=\"300633\" style=\"display: none;\"><div style=\"display: table-cell;\"></div><div style=\"display: table-cell;\">glyph&nbsp;=&nbsp;Rect(id='300587', ...),</div></div><div class=\"300633\" style=\"display: none;\"><div style=\"display: table-cell;\"></div><div style=\"display: table-cell;\">hover_glyph&nbsp;=&nbsp;None,</div></div><div class=\"300633\" style=\"display: none;\"><div style=\"display: table-cell;\"></div><div style=\"display: table-cell;\">js_event_callbacks&nbsp;=&nbsp;{},</div></div><div class=\"300633\" style=\"display: none;\"><div style=\"display: table-cell;\"></div><div style=\"display: table-cell;\">js_property_callbacks&nbsp;=&nbsp;{},</div></div><div class=\"300633\" style=\"display: none;\"><div style=\"display: table-cell;\"></div><div style=\"display: table-cell;\">level&nbsp;=&nbsp;'glyph',</div></div><div class=\"300633\" style=\"display: none;\"><div style=\"display: table-cell;\"></div><div style=\"display: table-cell;\">muted&nbsp;=&nbsp;False,</div></div><div class=\"300633\" style=\"display: none;\"><div style=\"display: table-cell;\"></div><div style=\"display: table-cell;\">muted_glyph&nbsp;=&nbsp;None,</div></div><div class=\"300633\" style=\"display: none;\"><div style=\"display: table-cell;\"></div><div style=\"display: table-cell;\">name&nbsp;=&nbsp;None,</div></div><div class=\"300633\" style=\"display: none;\"><div style=\"display: table-cell;\"></div><div style=\"display: table-cell;\">nonselection_glyph&nbsp;=&nbsp;Rect(id='300588', ...),</div></div><div class=\"300633\" style=\"display: none;\"><div style=\"display: table-cell;\"></div><div style=\"display: table-cell;\">selection_glyph&nbsp;=&nbsp;None,</div></div><div class=\"300633\" style=\"display: none;\"><div style=\"display: table-cell;\"></div><div style=\"display: table-cell;\">subscribed_events&nbsp;=&nbsp;[],</div></div><div class=\"300633\" style=\"display: none;\"><div style=\"display: table-cell;\"></div><div style=\"display: table-cell;\">tags&nbsp;=&nbsp;[],</div></div><div class=\"300633\" style=\"display: none;\"><div style=\"display: table-cell;\"></div><div style=\"display: table-cell;\">view&nbsp;=&nbsp;CDSView(id='300590', ...),</div></div><div class=\"300633\" style=\"display: none;\"><div style=\"display: table-cell;\"></div><div style=\"display: table-cell;\">visible&nbsp;=&nbsp;True,</div></div><div class=\"300633\" style=\"display: none;\"><div style=\"display: table-cell;\"></div><div style=\"display: table-cell;\">x_range_name&nbsp;=&nbsp;'default',</div></div><div class=\"300633\" style=\"display: none;\"><div style=\"display: table-cell;\"></div><div style=\"display: table-cell;\">y_range_name&nbsp;=&nbsp;'default')</div></div></div>\n",
       "<script>\n",
       "(function() {\n",
       "  var expanded = false;\n",
       "  var ellipsis = document.getElementById(\"300634\");\n",
       "  ellipsis.addEventListener(\"click\", function() {\n",
       "    var rows = document.getElementsByClassName(\"300633\");\n",
       "    for (var i = 0; i < rows.length; i++) {\n",
       "      var el = rows[i];\n",
       "      el.style.display = expanded ? \"none\" : \"table-row\";\n",
       "    }\n",
       "    ellipsis.innerHTML = expanded ? \"&hellip;)\" : \"&lsaquo;&lsaquo;&lsaquo;\";\n",
       "    expanded = !expanded;\n",
       "  });\n",
       "})();\n",
       "</script>\n"
      ],
      "text/plain": [
       "GlyphRenderer(id='300589', ...)"
      ]
     },
     "execution_count": 825,
     "metadata": {},
     "output_type": "execute_result"
    }
   ],
   "source": [
    "p.rect(cats, (q3.score+q2.score)/2, 0.7, q3.score-q2.score,\n",
    "    fill_color=\"#E08E79\", line_width=2, line_color=\"black\")\n",
    "p.rect(cats, (q2.score+q1.score)/2, 0.7, q2.score-q1.score,\n",
    "    fill_color=\"#3B8686\", line_width=2, line_color=\"black\")\n"
   ]
  },
  {
   "cell_type": "code",
   "execution_count": 826,
   "metadata": {},
   "outputs": [
    {
     "data": {
      "text/html": [
       "<div style=\"display: table;\"><div style=\"display: table-row;\"><div style=\"display: table-cell;\"><b title=\"bokeh.models.renderers.GlyphRenderer\">GlyphRenderer</b>(</div><div style=\"display: table-cell;\">id&nbsp;=&nbsp;'300687', <span id=\"300736\" style=\"cursor: pointer;\">&hellip;)</span></div></div><div class=\"300735\" style=\"display: none;\"><div style=\"display: table-cell;\"></div><div style=\"display: table-cell;\">data_source&nbsp;=&nbsp;ColumnDataSource(id='300684', ...),</div></div><div class=\"300735\" style=\"display: none;\"><div style=\"display: table-cell;\"></div><div style=\"display: table-cell;\">glyph&nbsp;=&nbsp;Rect(id='300685', ...),</div></div><div class=\"300735\" style=\"display: none;\"><div style=\"display: table-cell;\"></div><div style=\"display: table-cell;\">hover_glyph&nbsp;=&nbsp;None,</div></div><div class=\"300735\" style=\"display: none;\"><div style=\"display: table-cell;\"></div><div style=\"display: table-cell;\">js_event_callbacks&nbsp;=&nbsp;{},</div></div><div class=\"300735\" style=\"display: none;\"><div style=\"display: table-cell;\"></div><div style=\"display: table-cell;\">js_property_callbacks&nbsp;=&nbsp;{},</div></div><div class=\"300735\" style=\"display: none;\"><div style=\"display: table-cell;\"></div><div style=\"display: table-cell;\">level&nbsp;=&nbsp;'glyph',</div></div><div class=\"300735\" style=\"display: none;\"><div style=\"display: table-cell;\"></div><div style=\"display: table-cell;\">muted&nbsp;=&nbsp;False,</div></div><div class=\"300735\" style=\"display: none;\"><div style=\"display: table-cell;\"></div><div style=\"display: table-cell;\">muted_glyph&nbsp;=&nbsp;None,</div></div><div class=\"300735\" style=\"display: none;\"><div style=\"display: table-cell;\"></div><div style=\"display: table-cell;\">name&nbsp;=&nbsp;None,</div></div><div class=\"300735\" style=\"display: none;\"><div style=\"display: table-cell;\"></div><div style=\"display: table-cell;\">nonselection_glyph&nbsp;=&nbsp;Rect(id='300686', ...),</div></div><div class=\"300735\" style=\"display: none;\"><div style=\"display: table-cell;\"></div><div style=\"display: table-cell;\">selection_glyph&nbsp;=&nbsp;None,</div></div><div class=\"300735\" style=\"display: none;\"><div style=\"display: table-cell;\"></div><div style=\"display: table-cell;\">subscribed_events&nbsp;=&nbsp;[],</div></div><div class=\"300735\" style=\"display: none;\"><div style=\"display: table-cell;\"></div><div style=\"display: table-cell;\">tags&nbsp;=&nbsp;[],</div></div><div class=\"300735\" style=\"display: none;\"><div style=\"display: table-cell;\"></div><div style=\"display: table-cell;\">view&nbsp;=&nbsp;CDSView(id='300688', ...),</div></div><div class=\"300735\" style=\"display: none;\"><div style=\"display: table-cell;\"></div><div style=\"display: table-cell;\">visible&nbsp;=&nbsp;True,</div></div><div class=\"300735\" style=\"display: none;\"><div style=\"display: table-cell;\"></div><div style=\"display: table-cell;\">x_range_name&nbsp;=&nbsp;'default',</div></div><div class=\"300735\" style=\"display: none;\"><div style=\"display: table-cell;\"></div><div style=\"display: table-cell;\">y_range_name&nbsp;=&nbsp;'default')</div></div></div>\n",
       "<script>\n",
       "(function() {\n",
       "  var expanded = false;\n",
       "  var ellipsis = document.getElementById(\"300736\");\n",
       "  ellipsis.addEventListener(\"click\", function() {\n",
       "    var rows = document.getElementsByClassName(\"300735\");\n",
       "    for (var i = 0; i < rows.length; i++) {\n",
       "      var el = rows[i];\n",
       "      el.style.display = expanded ? \"none\" : \"table-row\";\n",
       "    }\n",
       "    ellipsis.innerHTML = expanded ? \"&hellip;)\" : \"&lsaquo;&lsaquo;&lsaquo;\";\n",
       "    expanded = !expanded;\n",
       "  });\n",
       "})();\n",
       "</script>\n"
      ],
      "text/plain": [
       "GlyphRenderer(id='300687', ...)"
      ]
     },
     "execution_count": 826,
     "metadata": {},
     "output_type": "execute_result"
    }
   ],
   "source": [
    "# whiskers (almost-0 height rects simpler than segments)\n",
    "p.rect(cats, lower.score, 0.2, 0.01, line_color=\"black\")\n",
    "p.rect(cats, upper.score, 0.2, 0.01, line_color=\"black\")\n"
   ]
  },
  {
   "cell_type": "code",
   "execution_count": 827,
   "metadata": {},
   "outputs": [],
   "source": [
    "# outliers\n",
    "p.circle(outx, outy, size=6, color=\"#F38630\", fill_alpha=0.6)\n",
    "\n",
    "p.xgrid.grid_line_color = None\n",
    "p.ygrid.grid_line_color = \"white\"\n",
    "p.grid.grid_line_width = 2\n",
    "p.xaxis.major_label_text_font_size=\"12pt\"\n",
    "\n",
    "show(p)"
   ]
  },
  {
   "cell_type": "code",
   "execution_count": null,
   "metadata": {},
   "outputs": [],
   "source": []
  },
  {
   "cell_type": "code",
   "execution_count": null,
   "metadata": {},
   "outputs": [],
   "source": []
  }
 ],
 "metadata": {
  "kernelspec": {
   "display_name": "Python 3",
   "language": "python",
   "name": "python3"
  },
  "language_info": {
   "codemirror_mode": {
    "name": "ipython",
    "version": 3
   },
   "file_extension": ".py",
   "mimetype": "text/x-python",
   "name": "python",
   "nbconvert_exporter": "python",
   "pygments_lexer": "ipython3",
   "version": "3.7.6"
  }
 },
 "nbformat": 4,
 "nbformat_minor": 2
}
