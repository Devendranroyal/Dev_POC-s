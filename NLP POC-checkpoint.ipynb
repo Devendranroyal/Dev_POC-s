{
 "cells": [
  {
   "cell_type": "markdown",
   "metadata": {},
   "source": [
    "1. Import the dataset & Libraries"
   ]
  },
  {
   "cell_type": "code",
   "execution_count": 124,
   "metadata": {},
   "outputs": [],
   "source": [
    "import pandas as pd\n",
    "import nltk\n",
    "import nltk_data\n",
    "from bs4 import BeautifulSoup\n",
    "import string\n",
    "import re\n",
    "import numpy as np\n",
    "from collections import Counter\n",
    "from nltk import tokenize\n",
    "#from nltk.corpus import stopwards\n",
    "#from nltk.tokenize import RegexTokenizer\n",
    "#from nltk.stem import WordNetLemmatizer\n",
    "#from nltk.stem.porter import PorterStemmer"
   ]
  },
  {
   "cell_type": "code",
   "execution_count": 125,
   "metadata": {},
   "outputs": [],
   "source": [
    "#df=pd.read_csv(\"C:\\\\Users\\\\Milgram\\\\Desktop\\\\POC\\\\train.tsv\")\n",
    "df=pd.read_csv('C:\\\\Users\\\\Milgram\\\\Desktop\\\\POC\\\\train.tsv',delimiter='\\t',encoding='utf-8')"
   ]
  },
  {
   "cell_type": "code",
   "execution_count": 126,
   "metadata": {},
   "outputs": [
    {
     "data": {
      "text/html": [
       "<div>\n",
       "<style scoped>\n",
       "    .dataframe tbody tr th:only-of-type {\n",
       "        vertical-align: middle;\n",
       "    }\n",
       "\n",
       "    .dataframe tbody tr th {\n",
       "        vertical-align: top;\n",
       "    }\n",
       "\n",
       "    .dataframe thead th {\n",
       "        text-align: right;\n",
       "    }\n",
       "</style>\n",
       "<table border=\"1\" class=\"dataframe\">\n",
       "  <thead>\n",
       "    <tr style=\"text-align: right;\">\n",
       "      <th></th>\n",
       "      <th>PhraseId</th>\n",
       "      <th>SentenceId</th>\n",
       "      <th>Phrase</th>\n",
       "      <th>Sentiment</th>\n",
       "    </tr>\n",
       "  </thead>\n",
       "  <tbody>\n",
       "    <tr>\n",
       "      <th>0</th>\n",
       "      <td>1</td>\n",
       "      <td>1</td>\n",
       "      <td>A series of escapades demonstrating the adage ...</td>\n",
       "      <td>1</td>\n",
       "    </tr>\n",
       "    <tr>\n",
       "      <th>1</th>\n",
       "      <td>2</td>\n",
       "      <td>1</td>\n",
       "      <td>A series of escapades demonstrating the adage ...</td>\n",
       "      <td>2</td>\n",
       "    </tr>\n",
       "    <tr>\n",
       "      <th>2</th>\n",
       "      <td>3</td>\n",
       "      <td>1</td>\n",
       "      <td>A series</td>\n",
       "      <td>2</td>\n",
       "    </tr>\n",
       "    <tr>\n",
       "      <th>3</th>\n",
       "      <td>4</td>\n",
       "      <td>1</td>\n",
       "      <td>A</td>\n",
       "      <td>2</td>\n",
       "    </tr>\n",
       "    <tr>\n",
       "      <th>4</th>\n",
       "      <td>5</td>\n",
       "      <td>1</td>\n",
       "      <td>series</td>\n",
       "      <td>2</td>\n",
       "    </tr>\n",
       "    <tr>\n",
       "      <th>...</th>\n",
       "      <td>...</td>\n",
       "      <td>...</td>\n",
       "      <td>...</td>\n",
       "      <td>...</td>\n",
       "    </tr>\n",
       "    <tr>\n",
       "      <th>156055</th>\n",
       "      <td>156056</td>\n",
       "      <td>8544</td>\n",
       "      <td>Hearst 's</td>\n",
       "      <td>2</td>\n",
       "    </tr>\n",
       "    <tr>\n",
       "      <th>156056</th>\n",
       "      <td>156057</td>\n",
       "      <td>8544</td>\n",
       "      <td>forced avuncular chortles</td>\n",
       "      <td>1</td>\n",
       "    </tr>\n",
       "    <tr>\n",
       "      <th>156057</th>\n",
       "      <td>156058</td>\n",
       "      <td>8544</td>\n",
       "      <td>avuncular chortles</td>\n",
       "      <td>3</td>\n",
       "    </tr>\n",
       "    <tr>\n",
       "      <th>156058</th>\n",
       "      <td>156059</td>\n",
       "      <td>8544</td>\n",
       "      <td>avuncular</td>\n",
       "      <td>2</td>\n",
       "    </tr>\n",
       "    <tr>\n",
       "      <th>156059</th>\n",
       "      <td>156060</td>\n",
       "      <td>8544</td>\n",
       "      <td>chortles</td>\n",
       "      <td>2</td>\n",
       "    </tr>\n",
       "  </tbody>\n",
       "</table>\n",
       "<p>156060 rows × 4 columns</p>\n",
       "</div>"
      ],
      "text/plain": [
       "        PhraseId  SentenceId  \\\n",
       "0              1           1   \n",
       "1              2           1   \n",
       "2              3           1   \n",
       "3              4           1   \n",
       "4              5           1   \n",
       "...          ...         ...   \n",
       "156055    156056        8544   \n",
       "156056    156057        8544   \n",
       "156057    156058        8544   \n",
       "156058    156059        8544   \n",
       "156059    156060        8544   \n",
       "\n",
       "                                                   Phrase  Sentiment  \n",
       "0       A series of escapades demonstrating the adage ...          1  \n",
       "1       A series of escapades demonstrating the adage ...          2  \n",
       "2                                                A series          2  \n",
       "3                                                       A          2  \n",
       "4                                                  series          2  \n",
       "...                                                   ...        ...  \n",
       "156055                                          Hearst 's          2  \n",
       "156056                          forced avuncular chortles          1  \n",
       "156057                                 avuncular chortles          3  \n",
       "156058                                          avuncular          2  \n",
       "156059                                           chortles          2  \n",
       "\n",
       "[156060 rows x 4 columns]"
      ]
     },
     "execution_count": 126,
     "metadata": {},
     "output_type": "execute_result"
    }
   ],
   "source": [
    "df"
   ]
  },
  {
   "cell_type": "code",
   "execution_count": 127,
   "metadata": {},
   "outputs": [
    {
     "data": {
      "text/html": [
       "<div>\n",
       "<style scoped>\n",
       "    .dataframe tbody tr th:only-of-type {\n",
       "        vertical-align: middle;\n",
       "    }\n",
       "\n",
       "    .dataframe tbody tr th {\n",
       "        vertical-align: top;\n",
       "    }\n",
       "\n",
       "    .dataframe thead th {\n",
       "        text-align: right;\n",
       "    }\n",
       "</style>\n",
       "<table border=\"1\" class=\"dataframe\">\n",
       "  <thead>\n",
       "    <tr style=\"text-align: right;\">\n",
       "      <th></th>\n",
       "      <th>PhraseId</th>\n",
       "      <th>SentenceId</th>\n",
       "      <th>Phrase</th>\n",
       "      <th>Sentiment</th>\n",
       "    </tr>\n",
       "  </thead>\n",
       "  <tbody>\n",
       "    <tr>\n",
       "      <th>0</th>\n",
       "      <td>1</td>\n",
       "      <td>1</td>\n",
       "      <td>A series of escapades demonstrating the adage ...</td>\n",
       "      <td>1</td>\n",
       "    </tr>\n",
       "    <tr>\n",
       "      <th>1</th>\n",
       "      <td>2</td>\n",
       "      <td>1</td>\n",
       "      <td>A series of escapades demonstrating the adage ...</td>\n",
       "      <td>2</td>\n",
       "    </tr>\n",
       "    <tr>\n",
       "      <th>2</th>\n",
       "      <td>3</td>\n",
       "      <td>1</td>\n",
       "      <td>A series</td>\n",
       "      <td>2</td>\n",
       "    </tr>\n",
       "    <tr>\n",
       "      <th>3</th>\n",
       "      <td>4</td>\n",
       "      <td>1</td>\n",
       "      <td>A</td>\n",
       "      <td>2</td>\n",
       "    </tr>\n",
       "    <tr>\n",
       "      <th>4</th>\n",
       "      <td>5</td>\n",
       "      <td>1</td>\n",
       "      <td>series</td>\n",
       "      <td>2</td>\n",
       "    </tr>\n",
       "  </tbody>\n",
       "</table>\n",
       "</div>"
      ],
      "text/plain": [
       "   PhraseId  SentenceId                                             Phrase  \\\n",
       "0         1           1  A series of escapades demonstrating the adage ...   \n",
       "1         2           1  A series of escapades demonstrating the adage ...   \n",
       "2         3           1                                           A series   \n",
       "3         4           1                                                  A   \n",
       "4         5           1                                             series   \n",
       "\n",
       "   Sentiment  \n",
       "0          1  \n",
       "1          2  \n",
       "2          2  \n",
       "3          2  \n",
       "4          2  "
      ]
     },
     "execution_count": 127,
     "metadata": {},
     "output_type": "execute_result"
    }
   ],
   "source": [
    "df.head()"
   ]
  },
  {
   "cell_type": "code",
   "execution_count": 128,
   "metadata": {},
   "outputs": [],
   "source": [
    "df1=pd.read_csv('C:\\\\Users\\\\Milgram\\\\Desktop\\\\POC\\\\test.tsv',delimiter='\\t',encoding='utf-8')"
   ]
  },
  {
   "cell_type": "code",
   "execution_count": 129,
   "metadata": {},
   "outputs": [
    {
     "data": {
      "text/html": [
       "<div>\n",
       "<style scoped>\n",
       "    .dataframe tbody tr th:only-of-type {\n",
       "        vertical-align: middle;\n",
       "    }\n",
       "\n",
       "    .dataframe tbody tr th {\n",
       "        vertical-align: top;\n",
       "    }\n",
       "\n",
       "    .dataframe thead th {\n",
       "        text-align: right;\n",
       "    }\n",
       "</style>\n",
       "<table border=\"1\" class=\"dataframe\">\n",
       "  <thead>\n",
       "    <tr style=\"text-align: right;\">\n",
       "      <th></th>\n",
       "      <th>PhraseId</th>\n",
       "      <th>SentenceId</th>\n",
       "      <th>Phrase</th>\n",
       "    </tr>\n",
       "  </thead>\n",
       "  <tbody>\n",
       "    <tr>\n",
       "      <th>0</th>\n",
       "      <td>156061</td>\n",
       "      <td>8545</td>\n",
       "      <td>An intermittently pleasing but mostly routine ...</td>\n",
       "    </tr>\n",
       "    <tr>\n",
       "      <th>1</th>\n",
       "      <td>156062</td>\n",
       "      <td>8545</td>\n",
       "      <td>An intermittently pleasing but mostly routine ...</td>\n",
       "    </tr>\n",
       "    <tr>\n",
       "      <th>2</th>\n",
       "      <td>156063</td>\n",
       "      <td>8545</td>\n",
       "      <td>An</td>\n",
       "    </tr>\n",
       "    <tr>\n",
       "      <th>3</th>\n",
       "      <td>156064</td>\n",
       "      <td>8545</td>\n",
       "      <td>intermittently pleasing but mostly routine effort</td>\n",
       "    </tr>\n",
       "    <tr>\n",
       "      <th>4</th>\n",
       "      <td>156065</td>\n",
       "      <td>8545</td>\n",
       "      <td>intermittently pleasing but mostly routine</td>\n",
       "    </tr>\n",
       "  </tbody>\n",
       "</table>\n",
       "</div>"
      ],
      "text/plain": [
       "   PhraseId  SentenceId                                             Phrase\n",
       "0    156061        8545  An intermittently pleasing but mostly routine ...\n",
       "1    156062        8545  An intermittently pleasing but mostly routine ...\n",
       "2    156063        8545                                                 An\n",
       "3    156064        8545  intermittently pleasing but mostly routine effort\n",
       "4    156065        8545         intermittently pleasing but mostly routine"
      ]
     },
     "execution_count": 129,
     "metadata": {},
     "output_type": "execute_result"
    }
   ],
   "source": [
    "df1.head()"
   ]
  },
  {
   "cell_type": "code",
   "execution_count": 130,
   "metadata": {},
   "outputs": [
    {
     "data": {
      "text/plain": [
       "(156060, 4)"
      ]
     },
     "execution_count": 130,
     "metadata": {},
     "output_type": "execute_result"
    }
   ],
   "source": [
    "df.shape"
   ]
  },
  {
   "cell_type": "code",
   "execution_count": 131,
   "metadata": {},
   "outputs": [
    {
     "data": {
      "text/plain": [
       "(66292, 3)"
      ]
     },
     "execution_count": 131,
     "metadata": {},
     "output_type": "execute_result"
    }
   ],
   "source": [
    "df1.shape"
   ]
  },
  {
   "cell_type": "markdown",
   "metadata": {},
   "source": [
    "2. Dealing With Missing Values"
   ]
  },
  {
   "cell_type": "code",
   "execution_count": 132,
   "metadata": {},
   "outputs": [
    {
     "data": {
      "text/plain": [
       "PhraseId      0\n",
       "SentenceId    0\n",
       "Phrase        0\n",
       "Sentiment     0\n",
       "dtype: int64"
      ]
     },
     "execution_count": 132,
     "metadata": {},
     "output_type": "execute_result"
    }
   ],
   "source": [
    "#In this step we will check the null values in our dataset and replace or drop as per the dataset\n",
    "df.isna().sum()"
   ]
  },
  {
   "cell_type": "code",
   "execution_count": 133,
   "metadata": {},
   "outputs": [
    {
     "data": {
      "text/plain": [
       "PhraseId      0\n",
       "SentenceId    0\n",
       "Phrase        0\n",
       "Sentiment     0\n",
       "dtype: int64"
      ]
     },
     "execution_count": 133,
     "metadata": {},
     "output_type": "execute_result"
    }
   ],
   "source": [
    "#In this step we will remove all null values\n",
    "df.dropna(inplace=True)\n",
    "df.isna().sum()"
   ]
  },
  {
   "cell_type": "markdown",
   "metadata": {},
   "source": [
    "3. Labeling The Dataset"
   ]
  },
  {
   "cell_type": "code",
   "execution_count": 134,
   "metadata": {},
   "outputs": [
    {
     "data": {
      "text/plain": [
       "array([1, 2, 3, 4, 0], dtype=int64)"
      ]
     },
     "execution_count": 134,
     "metadata": {},
     "output_type": "execute_result"
    }
   ],
   "source": [
    "df['Sentiment'].unique()"
   ]
  },
  {
   "cell_type": "code",
   "execution_count": 135,
   "metadata": {},
   "outputs": [],
   "source": [
    "#As per our dataset there is rating from 1 to 5. So, According to rating we will create there labels, Positive(for 1 & 2 Rating),\n",
    "#Neutral(for 3 Rating) and Negative (for 4,& 5 Rating).\n",
    "def LableFunc(Sentiment):\n",
    "    if Sentiment>=3:\n",
    "        return 'Positive'\n",
    "    elif Sentiment<=1:\n",
    "        return 'Negative'\n",
    "    else:\n",
    "        return 'Neutral'\n",
    "\n",
    "df['Label']=df['Sentiment'].apply(LableFunc)\n",
    "#df1['Label']=df1['Sentiment'].apply(LableFunc)"
   ]
  },
  {
   "cell_type": "code",
   "execution_count": 136,
   "metadata": {},
   "outputs": [
    {
     "data": {
      "text/plain": [
       "array(['Negative', 'Neutral', 'Positive'], dtype=object)"
      ]
     },
     "execution_count": 136,
     "metadata": {},
     "output_type": "execute_result"
    }
   ],
   "source": [
    "df['Label'].unique()"
   ]
  },
  {
   "cell_type": "code",
   "execution_count": 137,
   "metadata": {},
   "outputs": [
    {
     "data": {
      "text/plain": [
       "0    Negative\n",
       "1     Neutral\n",
       "2     Neutral\n",
       "3     Neutral\n",
       "4     Neutral\n",
       "Name: Label, dtype: object"
      ]
     },
     "execution_count": 137,
     "metadata": {},
     "output_type": "execute_result"
    }
   ],
   "source": [
    "df['Label'].head()"
   ]
  },
  {
   "cell_type": "markdown",
   "metadata": {},
   "source": [
    "4. Data Cleaning And Text Preprocessing"
   ]
  },
  {
   "cell_type": "markdown",
   "metadata": {},
   "source": [
    "I. Removing URL."
   ]
  },
  {
   "cell_type": "code",
   "execution_count": 138,
   "metadata": {},
   "outputs": [],
   "source": [
    "#df['Phrase'].iloc[1]\n",
    "import  re\n",
    "\n",
    "def clean_url(Phrase_text):\n",
    "    return re.sub(r'http\\S+','',Phrase_text)\n",
    "\n",
    "df['CleanPhrase']=df['Phrase'].apply(clean_url)"
   ]
  },
  {
   "cell_type": "code",
   "execution_count": 139,
   "metadata": {},
   "outputs": [
    {
     "data": {
      "text/plain": [
       "0    A series of escapades demonstrating the adage ...\n",
       "1    A series of escapades demonstrating the adage ...\n",
       "2                                             A series\n",
       "3                                                    A\n",
       "4                                               series\n",
       "Name: CleanPhrase, dtype: object"
      ]
     },
     "execution_count": 139,
     "metadata": {},
     "output_type": "execute_result"
    }
   ],
   "source": [
    "df['CleanPhrase'].head()"
   ]
  },
  {
   "cell_type": "markdown",
   "metadata": {},
   "source": [
    "II. Removing all irrelevant characters (Numbers and Punctuation)"
   ]
  },
  {
   "cell_type": "code",
   "execution_count": 140,
   "metadata": {},
   "outputs": [],
   "source": [
    "def clean_non_alphanumeric(Phrase_text):\n",
    "    return re.sub('[^a-zA-Z]','',Phrase_text)\n",
    "\n",
    "df['CleanPhrase']=df['CleanPhrase'].apply(clean_non_alphanumeric)"
   ]
  },
  {
   "cell_type": "code",
   "execution_count": 141,
   "metadata": {},
   "outputs": [
    {
     "data": {
      "text/plain": [
       "0    Aseriesofescapadesdemonstratingtheadagethatwha...\n",
       "1    Aseriesofescapadesdemonstratingtheadagethatwha...\n",
       "2                                              Aseries\n",
       "3                                                    A\n",
       "4                                               series\n",
       "Name: CleanPhrase, dtype: object"
      ]
     },
     "execution_count": 141,
     "metadata": {},
     "output_type": "execute_result"
    }
   ],
   "source": [
    "df['CleanPhrase'].head()"
   ]
  },
  {
   "cell_type": "markdown",
   "metadata": {},
   "source": [
    "III. Convert all characters into lowercase"
   ]
  },
  {
   "cell_type": "code",
   "execution_count": 142,
   "metadata": {},
   "outputs": [],
   "source": [
    "def clean_lowercase(Phrase_text):\n",
    "    return str(Phrase_text).lower()\n",
    "\n",
    "df['CleanPhrase']=df['CleanPhrase'].apply(clean_lowercase)"
   ]
  },
  {
   "cell_type": "code",
   "execution_count": 143,
   "metadata": {},
   "outputs": [
    {
     "data": {
      "text/plain": [
       "0    aseriesofescapadesdemonstratingtheadagethatwha...\n",
       "1    aseriesofescapadesdemonstratingtheadagethatwha...\n",
       "2                                              aseries\n",
       "3                                                    a\n",
       "4                                               series\n",
       "Name: CleanPhrase, dtype: object"
      ]
     },
     "execution_count": 143,
     "metadata": {},
     "output_type": "execute_result"
    }
   ],
   "source": [
    "df['CleanPhrase'].head()"
   ]
  },
  {
   "cell_type": "markdown",
   "metadata": {},
   "source": [
    "IV. Tokenization"
   ]
  },
  {
   "cell_type": "code",
   "execution_count": 144,
   "metadata": {},
   "outputs": [],
   "source": [
    "#Tokenization is the process of splitting the given text into smaller pieces called tokens.\n",
    "#Words, numbers, punctuation marks, and others can be considered as tokens\n",
    "#We will use Natural language tool kit (nltk) library for tokenization.\n",
    "#Note: If we have data in the form of paragraphs, and we want to convert the paragraph into sentences, \n",
    "#then we will use nltk.sent_tokenize(paragraph)."
   ]
  },
  {
   "cell_type": "code",
   "execution_count": 145,
   "metadata": {},
   "outputs": [],
   "source": [
    "import nltk \n",
    "from nltk.tokenize import word_tokenize\n",
    "\n",
    "def clean_tokenization(Phrase_text):\n",
    "    return word_tokenize(Phrase_text)\n",
    "\n",
    "df['CleanPhrase']=df['CleanPhrase'].apply(clean_tokenization)"
   ]
  },
  {
   "cell_type": "code",
   "execution_count": 146,
   "metadata": {},
   "outputs": [
    {
     "data": {
      "text/plain": [
       "0    [aseriesofescapadesdemonstratingtheadagethatwh...\n",
       "1    [aseriesofescapadesdemonstratingtheadagethatwh...\n",
       "2                                            [aseries]\n",
       "3                                                  [a]\n",
       "4                                             [series]\n",
       "Name: CleanPhrase, dtype: object"
      ]
     },
     "execution_count": 146,
     "metadata": {},
     "output_type": "execute_result"
    }
   ],
   "source": [
    "df['CleanPhrase'].head()"
   ]
  },
  {
   "cell_type": "markdown",
   "metadata": {},
   "source": [
    "V. Removing Stopwords "
   ]
  },
  {
   "cell_type": "code",
   "execution_count": 147,
   "metadata": {},
   "outputs": [],
   "source": [
    "#“Stopwords” are the most common words in a language like “the”, “a”, “me”, “is”, “to”, “all”,\n",
    "#These words do not carry important meaning and are usually removed from texts.\n",
    "#It is possible to remove stopwords using Natural Language Toolkit (nltk)."
   ]
  },
  {
   "cell_type": "code",
   "execution_count": 148,
   "metadata": {},
   "outputs": [
    {
     "data": {
      "text/plain": [
       "['i',\n",
       " 'me',\n",
       " 'my',\n",
       " 'myself',\n",
       " 'we',\n",
       " 'our',\n",
       " 'ours',\n",
       " 'ourselves',\n",
       " 'you',\n",
       " \"you're\",\n",
       " \"you've\",\n",
       " \"you'll\",\n",
       " \"you'd\",\n",
       " 'your',\n",
       " 'yours',\n",
       " 'yourself',\n",
       " 'yourselves',\n",
       " 'he',\n",
       " 'him',\n",
       " 'his',\n",
       " 'himself',\n",
       " 'she',\n",
       " \"she's\",\n",
       " 'her',\n",
       " 'hers',\n",
       " 'herself',\n",
       " 'it',\n",
       " \"it's\",\n",
       " 'its',\n",
       " 'itself',\n",
       " 'they',\n",
       " 'them',\n",
       " 'their',\n",
       " 'theirs',\n",
       " 'themselves',\n",
       " 'what',\n",
       " 'which',\n",
       " 'who',\n",
       " 'whom',\n",
       " 'this',\n",
       " 'that',\n",
       " \"that'll\",\n",
       " 'these',\n",
       " 'those',\n",
       " 'am',\n",
       " 'is',\n",
       " 'are',\n",
       " 'was',\n",
       " 'were',\n",
       " 'be',\n",
       " 'been',\n",
       " 'being',\n",
       " 'have',\n",
       " 'has',\n",
       " 'had',\n",
       " 'having',\n",
       " 'do',\n",
       " 'does',\n",
       " 'did',\n",
       " 'doing',\n",
       " 'a',\n",
       " 'an',\n",
       " 'the',\n",
       " 'and',\n",
       " 'but',\n",
       " 'if',\n",
       " 'or',\n",
       " 'because',\n",
       " 'as',\n",
       " 'until',\n",
       " 'while',\n",
       " 'of',\n",
       " 'at',\n",
       " 'by',\n",
       " 'for',\n",
       " 'with',\n",
       " 'about',\n",
       " 'against',\n",
       " 'between',\n",
       " 'into',\n",
       " 'through',\n",
       " 'during',\n",
       " 'before',\n",
       " 'after',\n",
       " 'above',\n",
       " 'below',\n",
       " 'to',\n",
       " 'from',\n",
       " 'up',\n",
       " 'down',\n",
       " 'in',\n",
       " 'out',\n",
       " 'on',\n",
       " 'off',\n",
       " 'over',\n",
       " 'under',\n",
       " 'again',\n",
       " 'further',\n",
       " 'then',\n",
       " 'once',\n",
       " 'here',\n",
       " 'there',\n",
       " 'when',\n",
       " 'where',\n",
       " 'why',\n",
       " 'how',\n",
       " 'all',\n",
       " 'any',\n",
       " 'both',\n",
       " 'each',\n",
       " 'few',\n",
       " 'more',\n",
       " 'most',\n",
       " 'other',\n",
       " 'some',\n",
       " 'such',\n",
       " 'no',\n",
       " 'nor',\n",
       " 'not',\n",
       " 'only',\n",
       " 'own',\n",
       " 'same',\n",
       " 'so',\n",
       " 'than',\n",
       " 'too',\n",
       " 'very',\n",
       " 's',\n",
       " 't',\n",
       " 'can',\n",
       " 'will',\n",
       " 'just',\n",
       " 'don',\n",
       " \"don't\",\n",
       " 'should',\n",
       " \"should've\",\n",
       " 'now',\n",
       " 'd',\n",
       " 'll',\n",
       " 'm',\n",
       " 'o',\n",
       " 're',\n",
       " 've',\n",
       " 'y',\n",
       " 'ain',\n",
       " 'aren',\n",
       " \"aren't\",\n",
       " 'couldn',\n",
       " \"couldn't\",\n",
       " 'didn',\n",
       " \"didn't\",\n",
       " 'doesn',\n",
       " \"doesn't\",\n",
       " 'hadn',\n",
       " \"hadn't\",\n",
       " 'hasn',\n",
       " \"hasn't\",\n",
       " 'haven',\n",
       " \"haven't\",\n",
       " 'isn',\n",
       " \"isn't\",\n",
       " 'ma',\n",
       " 'mightn',\n",
       " \"mightn't\",\n",
       " 'mustn',\n",
       " \"mustn't\",\n",
       " 'needn',\n",
       " \"needn't\",\n",
       " 'shan',\n",
       " \"shan't\",\n",
       " 'shouldn',\n",
       " \"shouldn't\",\n",
       " 'wasn',\n",
       " \"wasn't\",\n",
       " 'weren',\n",
       " \"weren't\",\n",
       " 'won',\n",
       " \"won't\",\n",
       " 'wouldn',\n",
       " \"wouldn't\"]"
      ]
     },
     "execution_count": 148,
     "metadata": {},
     "output_type": "execute_result"
    }
   ],
   "source": [
    "#importing the libraries required to remove the stopwords and punctuation\n",
    "from nltk.corpus import stopwords\n",
    "#let's look at the stopwords in english\n",
    "stopwords.words('english')"
   ]
  },
  {
   "cell_type": "code",
   "execution_count": 149,
   "metadata": {},
   "outputs": [],
   "source": [
    "stop_words=set(stopwords.words('english'))\n",
    "def clean_stopwords(token):\n",
    "    return [item for item in token if item not in stop_words]\n",
    "\n",
    "df['CleanPhrase']=df['CleanPhrase'].apply(clean_stopwords)"
   ]
  },
  {
   "cell_type": "code",
   "execution_count": 150,
   "metadata": {},
   "outputs": [
    {
     "data": {
      "text/plain": [
       "0    [aseriesofescapadesdemonstratingtheadagethatwh...\n",
       "1    [aseriesofescapadesdemonstratingtheadagethatwh...\n",
       "2                                            [aseries]\n",
       "3                                                   []\n",
       "4                                             [series]\n",
       "Name: CleanPhrase, dtype: object"
      ]
     },
     "execution_count": 150,
     "metadata": {},
     "output_type": "execute_result"
    }
   ],
   "source": [
    "df['CleanPhrase'].head()"
   ]
  },
  {
   "cell_type": "markdown",
   "metadata": {},
   "source": [
    "VI. Stemming and Lemmatization"
   ]
  },
  {
   "cell_type": "code",
   "execution_count": 151,
   "metadata": {},
   "outputs": [],
   "source": [
    "#reducing the inflectional forms of each word into a common base or root\n",
    "#Stemming usually refers to a crude process that chops off the ends of words in the hope of achieving this goal correctly most of the time\n",
    "# and often includes the removal of derivational units (the obtained element is known as the stem).\n",
    "# lemmatization consists in doing things properly with the use of a vocabulary and morphological analysis of words, \n",
    "#to return the base or dictionary form of a word, which is known as the lemma."
   ]
  },
  {
   "cell_type": "markdown",
   "metadata": {},
   "source": [
    "Stemming:"
   ]
  },
  {
   "cell_type": "code",
   "execution_count": 152,
   "metadata": {},
   "outputs": [],
   "source": [
    "from nltk.stem import PorterStemmer\n",
    "\n",
    "stemmer = PorterStemmer()\n",
    "def clean_stemtoken():\n",
    "    return [stemmer.stem(i) for i in token]\n",
    "\n",
    "#df['CleanPhrase']=df['CleanPhrase'].apply(clean_stemtoken)"
   ]
  },
  {
   "cell_type": "code",
   "execution_count": 153,
   "metadata": {},
   "outputs": [],
   "source": [
    "#df['CleanPhrase']=df['CleanPhrase'].apply(clean_stemtoken)"
   ]
  },
  {
   "cell_type": "markdown",
   "metadata": {},
   "source": [
    "Lemmatization:"
   ]
  },
  {
   "cell_type": "code",
   "execution_count": 154,
   "metadata": {},
   "outputs": [],
   "source": [
    "from nltk.stem import WordNetLemmatizer\n",
    "lemma=WordNetLemmatizer()\n",
    "\n",
    "def clean_lemmatization(token):\n",
    "    return [lemma.lemmatize(word=w,pos='v') for w in token]\n",
    "\n",
    "#df['CleanPhrase']=df['CleanPhrase'].apply(clean_lemmatization)"
   ]
  },
  {
   "cell_type": "code",
   "execution_count": 155,
   "metadata": {},
   "outputs": [],
   "source": [
    "#df['CleanPhrase']=df['CleanPhrase'].apply(clean_lemmatization)"
   ]
  },
  {
   "cell_type": "markdown",
   "metadata": {},
   "source": [
    "VII. Remove the words having length <= 2 "
   ]
  },
  {
   "cell_type": "code",
   "execution_count": 156,
   "metadata": {},
   "outputs": [],
   "source": [
    "#Basically, after performing all required process in text processing there is some kind of noise is present in our corpus\n",
    "#so like that i am removing the words which have very short length."
   ]
  },
  {
   "cell_type": "code",
   "execution_count": 157,
   "metadata": {},
   "outputs": [],
   "source": [
    "def clean_length(token):\n",
    "    return [i for i in token if len(i)>2]\n",
    "\n",
    "df['CleanPhrase']=df['CleanPhrase'].apply(clean_length)"
   ]
  },
  {
   "cell_type": "code",
   "execution_count": 158,
   "metadata": {},
   "outputs": [
    {
     "data": {
      "text/plain": [
       "0    [aseriesofescapadesdemonstratingtheadagethatwh...\n",
       "1    [aseriesofescapadesdemonstratingtheadagethatwh...\n",
       "2                                            [aseries]\n",
       "3                                                   []\n",
       "4                                             [series]\n",
       "Name: CleanPhrase, dtype: object"
      ]
     },
     "execution_count": 158,
     "metadata": {},
     "output_type": "execute_result"
    }
   ],
   "source": [
    "df['CleanPhrase'].head()"
   ]
  },
  {
   "cell_type": "code",
   "execution_count": 159,
   "metadata": {},
   "outputs": [],
   "source": [
    "import re\n",
    "import nltk \n",
    "from nltk.tokenize import word_tokenize\n",
    "from nltk.corpus import stopwords\n",
    "from nltk.stem import PorterStemmer\n",
    "from nltk.stem import WordNetLemmatizer\n",
    "\n",
    "stop_words=set(stopwords.words('english'))\n",
    "lemma=WordNetLemmatizer()\n",
    "\n",
    "def clean_Phrase(phrase_text):\n",
    "    phrase_text=re.sub(r'http\\S+','',phrase_text)                             #removing the url\n",
    "    phrase_text=re.sub('[^a-zA-Z]','',phrase_text)                            #removing Numbers and punctuatino\n",
    "    phrase_text=str(phrase_text).lower()                                      #Convert all characters into lowercase\n",
    "    phrase_text=word_tokenize(phrase_text)                                    #Tokenization\n",
    "    phrase_text=[item for item in phrase_text if item not in stop_words]      #Removing Stop Words\n",
    "    phrase_text=[lemma.lemmatize(word=w,pos='v') for w in phrase_text]        #Lemmatization\n",
    "    phrase_text=[i for i in phrase_text if len(i)>2]                          #Remove the words havig length <=2\n",
    "    phrase_text=''.join(phrase_text)                                          #Converting list to string\n",
    "    return phrase_text\n",
    "\n",
    "df['clean_Phrase']=df['Phrase'].apply(clean_Phrase)\n",
    "df1['clean_Phrase']=df1['Phrase'].apply(clean_Phrase)"
   ]
  },
  {
   "cell_type": "code",
   "execution_count": 160,
   "metadata": {},
   "outputs": [
    {
     "data": {
      "text/plain": [
       "0    aseriesofescapadesdemonstratingtheadagethatwha...\n",
       "1    aseriesofescapadesdemonstratingtheadagethatwha...\n",
       "2                                              aseries\n",
       "3                                                     \n",
       "4                                               series\n",
       "Name: clean_Phrase, dtype: object"
      ]
     },
     "execution_count": 160,
     "metadata": {},
     "output_type": "execute_result"
    }
   ],
   "source": [
    "df['clean_Phrase'].head()"
   ]
  },
  {
   "cell_type": "code",
   "execution_count": 161,
   "metadata": {},
   "outputs": [
    {
     "data": {
      "text/html": [
       "<div>\n",
       "<style scoped>\n",
       "    .dataframe tbody tr th:only-of-type {\n",
       "        vertical-align: middle;\n",
       "    }\n",
       "\n",
       "    .dataframe tbody tr th {\n",
       "        vertical-align: top;\n",
       "    }\n",
       "\n",
       "    .dataframe thead th {\n",
       "        text-align: right;\n",
       "    }\n",
       "</style>\n",
       "<table border=\"1\" class=\"dataframe\">\n",
       "  <thead>\n",
       "    <tr style=\"text-align: right;\">\n",
       "      <th></th>\n",
       "      <th>PhraseId</th>\n",
       "      <th>SentenceId</th>\n",
       "      <th>Phrase</th>\n",
       "      <th>Sentiment</th>\n",
       "      <th>Label</th>\n",
       "      <th>CleanPhrase</th>\n",
       "      <th>clean_Phrase</th>\n",
       "    </tr>\n",
       "  </thead>\n",
       "  <tbody>\n",
       "    <tr>\n",
       "      <th>0</th>\n",
       "      <td>1</td>\n",
       "      <td>1</td>\n",
       "      <td>A series of escapades demonstrating the adage ...</td>\n",
       "      <td>1</td>\n",
       "      <td>Negative</td>\n",
       "      <td>[aseriesofescapadesdemonstratingtheadagethatwh...</td>\n",
       "      <td>aseriesofescapadesdemonstratingtheadagethatwha...</td>\n",
       "    </tr>\n",
       "    <tr>\n",
       "      <th>1</th>\n",
       "      <td>2</td>\n",
       "      <td>1</td>\n",
       "      <td>A series of escapades demonstrating the adage ...</td>\n",
       "      <td>2</td>\n",
       "      <td>Neutral</td>\n",
       "      <td>[aseriesofescapadesdemonstratingtheadagethatwh...</td>\n",
       "      <td>aseriesofescapadesdemonstratingtheadagethatwha...</td>\n",
       "    </tr>\n",
       "    <tr>\n",
       "      <th>2</th>\n",
       "      <td>3</td>\n",
       "      <td>1</td>\n",
       "      <td>A series</td>\n",
       "      <td>2</td>\n",
       "      <td>Neutral</td>\n",
       "      <td>[aseries]</td>\n",
       "      <td>aseries</td>\n",
       "    </tr>\n",
       "    <tr>\n",
       "      <th>3</th>\n",
       "      <td>4</td>\n",
       "      <td>1</td>\n",
       "      <td>A</td>\n",
       "      <td>2</td>\n",
       "      <td>Neutral</td>\n",
       "      <td>[]</td>\n",
       "      <td></td>\n",
       "    </tr>\n",
       "    <tr>\n",
       "      <th>4</th>\n",
       "      <td>5</td>\n",
       "      <td>1</td>\n",
       "      <td>series</td>\n",
       "      <td>2</td>\n",
       "      <td>Neutral</td>\n",
       "      <td>[series]</td>\n",
       "      <td>series</td>\n",
       "    </tr>\n",
       "    <tr>\n",
       "      <th>...</th>\n",
       "      <td>...</td>\n",
       "      <td>...</td>\n",
       "      <td>...</td>\n",
       "      <td>...</td>\n",
       "      <td>...</td>\n",
       "      <td>...</td>\n",
       "      <td>...</td>\n",
       "    </tr>\n",
       "    <tr>\n",
       "      <th>156055</th>\n",
       "      <td>156056</td>\n",
       "      <td>8544</td>\n",
       "      <td>Hearst 's</td>\n",
       "      <td>2</td>\n",
       "      <td>Neutral</td>\n",
       "      <td>[hearsts]</td>\n",
       "      <td>hearsts</td>\n",
       "    </tr>\n",
       "    <tr>\n",
       "      <th>156056</th>\n",
       "      <td>156057</td>\n",
       "      <td>8544</td>\n",
       "      <td>forced avuncular chortles</td>\n",
       "      <td>1</td>\n",
       "      <td>Negative</td>\n",
       "      <td>[forcedavuncularchortles]</td>\n",
       "      <td>forcedavuncularchortles</td>\n",
       "    </tr>\n",
       "    <tr>\n",
       "      <th>156057</th>\n",
       "      <td>156058</td>\n",
       "      <td>8544</td>\n",
       "      <td>avuncular chortles</td>\n",
       "      <td>3</td>\n",
       "      <td>Positive</td>\n",
       "      <td>[avuncularchortles]</td>\n",
       "      <td>avuncularchortles</td>\n",
       "    </tr>\n",
       "    <tr>\n",
       "      <th>156058</th>\n",
       "      <td>156059</td>\n",
       "      <td>8544</td>\n",
       "      <td>avuncular</td>\n",
       "      <td>2</td>\n",
       "      <td>Neutral</td>\n",
       "      <td>[avuncular]</td>\n",
       "      <td>avuncular</td>\n",
       "    </tr>\n",
       "    <tr>\n",
       "      <th>156059</th>\n",
       "      <td>156060</td>\n",
       "      <td>8544</td>\n",
       "      <td>chortles</td>\n",
       "      <td>2</td>\n",
       "      <td>Neutral</td>\n",
       "      <td>[chortles]</td>\n",
       "      <td>chortle</td>\n",
       "    </tr>\n",
       "  </tbody>\n",
       "</table>\n",
       "<p>156060 rows × 7 columns</p>\n",
       "</div>"
      ],
      "text/plain": [
       "        PhraseId  SentenceId  \\\n",
       "0              1           1   \n",
       "1              2           1   \n",
       "2              3           1   \n",
       "3              4           1   \n",
       "4              5           1   \n",
       "...          ...         ...   \n",
       "156055    156056        8544   \n",
       "156056    156057        8544   \n",
       "156057    156058        8544   \n",
       "156058    156059        8544   \n",
       "156059    156060        8544   \n",
       "\n",
       "                                                   Phrase  Sentiment  \\\n",
       "0       A series of escapades demonstrating the adage ...          1   \n",
       "1       A series of escapades demonstrating the adage ...          2   \n",
       "2                                                A series          2   \n",
       "3                                                       A          2   \n",
       "4                                                  series          2   \n",
       "...                                                   ...        ...   \n",
       "156055                                          Hearst 's          2   \n",
       "156056                          forced avuncular chortles          1   \n",
       "156057                                 avuncular chortles          3   \n",
       "156058                                          avuncular          2   \n",
       "156059                                           chortles          2   \n",
       "\n",
       "           Label                                        CleanPhrase  \\\n",
       "0       Negative  [aseriesofescapadesdemonstratingtheadagethatwh...   \n",
       "1        Neutral  [aseriesofescapadesdemonstratingtheadagethatwh...   \n",
       "2        Neutral                                          [aseries]   \n",
       "3        Neutral                                                 []   \n",
       "4        Neutral                                           [series]   \n",
       "...          ...                                                ...   \n",
       "156055   Neutral                                          [hearsts]   \n",
       "156056  Negative                          [forcedavuncularchortles]   \n",
       "156057  Positive                                [avuncularchortles]   \n",
       "156058   Neutral                                        [avuncular]   \n",
       "156059   Neutral                                         [chortles]   \n",
       "\n",
       "                                             clean_Phrase  \n",
       "0       aseriesofescapadesdemonstratingtheadagethatwha...  \n",
       "1       aseriesofescapadesdemonstratingtheadagethatwha...  \n",
       "2                                                 aseries  \n",
       "3                                                          \n",
       "4                                                  series  \n",
       "...                                                   ...  \n",
       "156055                                            hearsts  \n",
       "156056                            forcedavuncularchortles  \n",
       "156057                                  avuncularchortles  \n",
       "156058                                          avuncular  \n",
       "156059                                            chortle  \n",
       "\n",
       "[156060 rows x 7 columns]"
      ]
     },
     "execution_count": 161,
     "metadata": {},
     "output_type": "execute_result"
    }
   ],
   "source": [
    "df"
   ]
  },
  {
   "cell_type": "code",
   "execution_count": 162,
   "metadata": {},
   "outputs": [
    {
     "data": {
      "text/plain": [
       "0    anintermittentlypleasingbutmostlyroutineeffort\n",
       "1    anintermittentlypleasingbutmostlyroutineeffort\n",
       "2                                                  \n",
       "3      intermittentlypleasingbutmostlyroutineeffort\n",
       "4            intermittentlypleasingbutmostlyroutine\n",
       "Name: clean_Phrase, dtype: object"
      ]
     },
     "execution_count": 162,
     "metadata": {},
     "output_type": "execute_result"
    }
   ],
   "source": [
    "df1['clean_Phrase'].head()"
   ]
  },
  {
   "cell_type": "code",
   "execution_count": 163,
   "metadata": {},
   "outputs": [
    {
     "data": {
      "text/html": [
       "<div>\n",
       "<style scoped>\n",
       "    .dataframe tbody tr th:only-of-type {\n",
       "        vertical-align: middle;\n",
       "    }\n",
       "\n",
       "    .dataframe tbody tr th {\n",
       "        vertical-align: top;\n",
       "    }\n",
       "\n",
       "    .dataframe thead th {\n",
       "        text-align: right;\n",
       "    }\n",
       "</style>\n",
       "<table border=\"1\" class=\"dataframe\">\n",
       "  <thead>\n",
       "    <tr style=\"text-align: right;\">\n",
       "      <th></th>\n",
       "      <th>PhraseId</th>\n",
       "      <th>SentenceId</th>\n",
       "      <th>Phrase</th>\n",
       "      <th>clean_Phrase</th>\n",
       "    </tr>\n",
       "  </thead>\n",
       "  <tbody>\n",
       "    <tr>\n",
       "      <th>0</th>\n",
       "      <td>156061</td>\n",
       "      <td>8545</td>\n",
       "      <td>An intermittently pleasing but mostly routine ...</td>\n",
       "      <td>anintermittentlypleasingbutmostlyroutineeffort</td>\n",
       "    </tr>\n",
       "    <tr>\n",
       "      <th>1</th>\n",
       "      <td>156062</td>\n",
       "      <td>8545</td>\n",
       "      <td>An intermittently pleasing but mostly routine ...</td>\n",
       "      <td>anintermittentlypleasingbutmostlyroutineeffort</td>\n",
       "    </tr>\n",
       "    <tr>\n",
       "      <th>2</th>\n",
       "      <td>156063</td>\n",
       "      <td>8545</td>\n",
       "      <td>An</td>\n",
       "      <td></td>\n",
       "    </tr>\n",
       "    <tr>\n",
       "      <th>3</th>\n",
       "      <td>156064</td>\n",
       "      <td>8545</td>\n",
       "      <td>intermittently pleasing but mostly routine effort</td>\n",
       "      <td>intermittentlypleasingbutmostlyroutineeffort</td>\n",
       "    </tr>\n",
       "    <tr>\n",
       "      <th>4</th>\n",
       "      <td>156065</td>\n",
       "      <td>8545</td>\n",
       "      <td>intermittently pleasing but mostly routine</td>\n",
       "      <td>intermittentlypleasingbutmostlyroutine</td>\n",
       "    </tr>\n",
       "    <tr>\n",
       "      <th>...</th>\n",
       "      <td>...</td>\n",
       "      <td>...</td>\n",
       "      <td>...</td>\n",
       "      <td>...</td>\n",
       "    </tr>\n",
       "    <tr>\n",
       "      <th>66287</th>\n",
       "      <td>222348</td>\n",
       "      <td>11855</td>\n",
       "      <td>A long-winded , predictable scenario .</td>\n",
       "      <td>alongwindedpredictablescenario</td>\n",
       "    </tr>\n",
       "    <tr>\n",
       "      <th>66288</th>\n",
       "      <td>222349</td>\n",
       "      <td>11855</td>\n",
       "      <td>A long-winded , predictable scenario</td>\n",
       "      <td>alongwindedpredictablescenario</td>\n",
       "    </tr>\n",
       "    <tr>\n",
       "      <th>66289</th>\n",
       "      <td>222350</td>\n",
       "      <td>11855</td>\n",
       "      <td>A long-winded ,</td>\n",
       "      <td>alongwinded</td>\n",
       "    </tr>\n",
       "    <tr>\n",
       "      <th>66290</th>\n",
       "      <td>222351</td>\n",
       "      <td>11855</td>\n",
       "      <td>A long-winded</td>\n",
       "      <td>alongwinded</td>\n",
       "    </tr>\n",
       "    <tr>\n",
       "      <th>66291</th>\n",
       "      <td>222352</td>\n",
       "      <td>11855</td>\n",
       "      <td>predictable scenario</td>\n",
       "      <td>predictablescenario</td>\n",
       "    </tr>\n",
       "  </tbody>\n",
       "</table>\n",
       "<p>66292 rows × 4 columns</p>\n",
       "</div>"
      ],
      "text/plain": [
       "       PhraseId  SentenceId  \\\n",
       "0        156061        8545   \n",
       "1        156062        8545   \n",
       "2        156063        8545   \n",
       "3        156064        8545   \n",
       "4        156065        8545   \n",
       "...         ...         ...   \n",
       "66287    222348       11855   \n",
       "66288    222349       11855   \n",
       "66289    222350       11855   \n",
       "66290    222351       11855   \n",
       "66291    222352       11855   \n",
       "\n",
       "                                                  Phrase  \\\n",
       "0      An intermittently pleasing but mostly routine ...   \n",
       "1      An intermittently pleasing but mostly routine ...   \n",
       "2                                                     An   \n",
       "3      intermittently pleasing but mostly routine effort   \n",
       "4             intermittently pleasing but mostly routine   \n",
       "...                                                  ...   \n",
       "66287             A long-winded , predictable scenario .   \n",
       "66288               A long-winded , predictable scenario   \n",
       "66289                                    A long-winded ,   \n",
       "66290                                      A long-winded   \n",
       "66291                               predictable scenario   \n",
       "\n",
       "                                         clean_Phrase  \n",
       "0      anintermittentlypleasingbutmostlyroutineeffort  \n",
       "1      anintermittentlypleasingbutmostlyroutineeffort  \n",
       "2                                                      \n",
       "3        intermittentlypleasingbutmostlyroutineeffort  \n",
       "4              intermittentlypleasingbutmostlyroutine  \n",
       "...                                               ...  \n",
       "66287                  alongwindedpredictablescenario  \n",
       "66288                  alongwindedpredictablescenario  \n",
       "66289                                     alongwinded  \n",
       "66290                                     alongwinded  \n",
       "66291                             predictablescenario  \n",
       "\n",
       "[66292 rows x 4 columns]"
      ]
     },
     "execution_count": 163,
     "metadata": {},
     "output_type": "execute_result"
    }
   ],
   "source": [
    "df1"
   ]
  },
  {
   "cell_type": "code",
   "execution_count": 164,
   "metadata": {},
   "outputs": [],
   "source": [
    "train =df[['clean_Phrase','Sentiment','Label']]"
   ]
  },
  {
   "cell_type": "code",
   "execution_count": 165,
   "metadata": {},
   "outputs": [
    {
     "data": {
      "text/html": [
       "<div>\n",
       "<style scoped>\n",
       "    .dataframe tbody tr th:only-of-type {\n",
       "        vertical-align: middle;\n",
       "    }\n",
       "\n",
       "    .dataframe tbody tr th {\n",
       "        vertical-align: top;\n",
       "    }\n",
       "\n",
       "    .dataframe thead th {\n",
       "        text-align: right;\n",
       "    }\n",
       "</style>\n",
       "<table border=\"1\" class=\"dataframe\">\n",
       "  <thead>\n",
       "    <tr style=\"text-align: right;\">\n",
       "      <th></th>\n",
       "      <th>clean_Phrase</th>\n",
       "      <th>Sentiment</th>\n",
       "      <th>Label</th>\n",
       "    </tr>\n",
       "  </thead>\n",
       "  <tbody>\n",
       "    <tr>\n",
       "      <th>0</th>\n",
       "      <td>aseriesofescapadesdemonstratingtheadagethatwha...</td>\n",
       "      <td>1</td>\n",
       "      <td>Negative</td>\n",
       "    </tr>\n",
       "    <tr>\n",
       "      <th>1</th>\n",
       "      <td>aseriesofescapadesdemonstratingtheadagethatwha...</td>\n",
       "      <td>2</td>\n",
       "      <td>Neutral</td>\n",
       "    </tr>\n",
       "    <tr>\n",
       "      <th>2</th>\n",
       "      <td>aseries</td>\n",
       "      <td>2</td>\n",
       "      <td>Neutral</td>\n",
       "    </tr>\n",
       "    <tr>\n",
       "      <th>3</th>\n",
       "      <td></td>\n",
       "      <td>2</td>\n",
       "      <td>Neutral</td>\n",
       "    </tr>\n",
       "    <tr>\n",
       "      <th>4</th>\n",
       "      <td>series</td>\n",
       "      <td>2</td>\n",
       "      <td>Neutral</td>\n",
       "    </tr>\n",
       "  </tbody>\n",
       "</table>\n",
       "</div>"
      ],
      "text/plain": [
       "                                        clean_Phrase  Sentiment     Label\n",
       "0  aseriesofescapadesdemonstratingtheadagethatwha...          1  Negative\n",
       "1  aseriesofescapadesdemonstratingtheadagethatwha...          2   Neutral\n",
       "2                                            aseries          2   Neutral\n",
       "3                                                             2   Neutral\n",
       "4                                             series          2   Neutral"
      ]
     },
     "execution_count": 165,
     "metadata": {},
     "output_type": "execute_result"
    }
   ],
   "source": [
    "train.head()"
   ]
  },
  {
   "cell_type": "code",
   "execution_count": 166,
   "metadata": {},
   "outputs": [],
   "source": [
    "# Removing neutral sentiments\n",
    "train = train[train.Label != \"Neutral\"]"
   ]
  },
  {
   "cell_type": "code",
   "execution_count": 167,
   "metadata": {},
   "outputs": [
    {
     "data": {
      "text/html": [
       "<div>\n",
       "<style scoped>\n",
       "    .dataframe tbody tr th:only-of-type {\n",
       "        vertical-align: middle;\n",
       "    }\n",
       "\n",
       "    .dataframe tbody tr th {\n",
       "        vertical-align: top;\n",
       "    }\n",
       "\n",
       "    .dataframe thead th {\n",
       "        text-align: right;\n",
       "    }\n",
       "</style>\n",
       "<table border=\"1\" class=\"dataframe\">\n",
       "  <thead>\n",
       "    <tr style=\"text-align: right;\">\n",
       "      <th></th>\n",
       "      <th>clean_Phrase</th>\n",
       "      <th>Sentiment</th>\n",
       "      <th>Label</th>\n",
       "    </tr>\n",
       "  </thead>\n",
       "  <tbody>\n",
       "    <tr>\n",
       "      <th>0</th>\n",
       "      <td>aseriesofescapadesdemonstratingtheadagethatwha...</td>\n",
       "      <td>1</td>\n",
       "      <td>Negative</td>\n",
       "    </tr>\n",
       "    <tr>\n",
       "      <th>21</th>\n",
       "      <td>goodforthegoose</td>\n",
       "      <td>3</td>\n",
       "      <td>Positive</td>\n",
       "    </tr>\n",
       "    <tr>\n",
       "      <th>22</th>\n",
       "      <td>good</td>\n",
       "      <td>3</td>\n",
       "      <td>Positive</td>\n",
       "    </tr>\n",
       "    <tr>\n",
       "      <th>33</th>\n",
       "      <td>thegandersomeofwhichoccasionallyamusesbutnoneo...</td>\n",
       "      <td>1</td>\n",
       "      <td>Negative</td>\n",
       "    </tr>\n",
       "    <tr>\n",
       "      <th>46</th>\n",
       "      <td>amuse</td>\n",
       "      <td>3</td>\n",
       "      <td>Positive</td>\n",
       "    </tr>\n",
       "  </tbody>\n",
       "</table>\n",
       "</div>"
      ],
      "text/plain": [
       "                                         clean_Phrase  Sentiment     Label\n",
       "0   aseriesofescapadesdemonstratingtheadagethatwha...          1  Negative\n",
       "21                                    goodforthegoose          3  Positive\n",
       "22                                               good          3  Positive\n",
       "33  thegandersomeofwhichoccasionallyamusesbutnoneo...          1  Negative\n",
       "46                                              amuse          3  Positive"
      ]
     },
     "execution_count": 167,
     "metadata": {},
     "output_type": "execute_result"
    }
   ],
   "source": [
    "train.head()"
   ]
  },
  {
   "cell_type": "code",
   "execution_count": 168,
   "metadata": {},
   "outputs": [
    {
     "data": {
      "text/plain": [
       "3    32927\n",
       "1    27273\n",
       "4     9206\n",
       "0     7072\n",
       "Name: Sentiment, dtype: int64"
      ]
     },
     "execution_count": 168,
     "metadata": {},
     "output_type": "execute_result"
    }
   ],
   "source": [
    "train['Sentiment'].value_counts()"
   ]
  },
  {
   "cell_type": "code",
   "execution_count": 169,
   "metadata": {},
   "outputs": [
    {
     "data": {
      "text/plain": [
       "                                                                                                                            44\n",
       "suck                                                                                                                         8\n",
       "love                                                                                                                         8\n",
       "inspire                                                                                                                      7\n",
       "fail                                                                                                                         7\n",
       "                                                                                                                            ..\n",
       "afinefilm                                                                                                                    1\n",
       "canbeconsideredwork                                                                                                          1\n",
       "ofthegaycommunityasanallinclusiveworldwhereuptightmiddleclassboreslikeantoniacanfeelgoodaboutthemselves                      1\n",
       "farcethoughtfuldialogueelbowedasidebyonelinersandavisualstylethatincorporatesrotoscopeanimationfornoapparentreasonexcept     1\n",
       "itsvisualimagination                                                                                                         1\n",
       "Name: clean_Phrase, Length: 66956, dtype: int64"
      ]
     },
     "execution_count": 169,
     "metadata": {},
     "output_type": "execute_result"
    }
   ],
   "source": [
    "train['clean_Phrase'].value_counts()"
   ]
  },
  {
   "cell_type": "code",
   "execution_count": 170,
   "metadata": {},
   "outputs": [],
   "source": [
    "train =df[['clean_Phrase','Sentiment']]"
   ]
  },
  {
   "cell_type": "code",
   "execution_count": 187,
   "metadata": {},
   "outputs": [
    {
     "data": {
      "text/html": [
       "<div>\n",
       "<style scoped>\n",
       "    .dataframe tbody tr th:only-of-type {\n",
       "        vertical-align: middle;\n",
       "    }\n",
       "\n",
       "    .dataframe tbody tr th {\n",
       "        vertical-align: top;\n",
       "    }\n",
       "\n",
       "    .dataframe thead th {\n",
       "        text-align: right;\n",
       "    }\n",
       "</style>\n",
       "<table border=\"1\" class=\"dataframe\">\n",
       "  <thead>\n",
       "    <tr style=\"text-align: right;\">\n",
       "      <th></th>\n",
       "      <th>clean_Phrase</th>\n",
       "      <th>Sentiment</th>\n",
       "    </tr>\n",
       "  </thead>\n",
       "  <tbody>\n",
       "    <tr>\n",
       "      <th>0</th>\n",
       "      <td>aseriesofescapadesdemonstratingtheadagethatwha...</td>\n",
       "      <td>1</td>\n",
       "    </tr>\n",
       "    <tr>\n",
       "      <th>1</th>\n",
       "      <td>aseriesofescapadesdemonstratingtheadagethatwha...</td>\n",
       "      <td>2</td>\n",
       "    </tr>\n",
       "    <tr>\n",
       "      <th>2</th>\n",
       "      <td>aseries</td>\n",
       "      <td>2</td>\n",
       "    </tr>\n",
       "    <tr>\n",
       "      <th>3</th>\n",
       "      <td></td>\n",
       "      <td>2</td>\n",
       "    </tr>\n",
       "    <tr>\n",
       "      <th>4</th>\n",
       "      <td>series</td>\n",
       "      <td>2</td>\n",
       "    </tr>\n",
       "  </tbody>\n",
       "</table>\n",
       "</div>"
      ],
      "text/plain": [
       "                                        clean_Phrase  Sentiment\n",
       "0  aseriesofescapadesdemonstratingtheadagethatwha...          1\n",
       "1  aseriesofescapadesdemonstratingtheadagethatwha...          2\n",
       "2                                            aseries          2\n",
       "3                                                             2\n",
       "4                                             series          2"
      ]
     },
     "execution_count": 187,
     "metadata": {},
     "output_type": "execute_result"
    }
   ],
   "source": [
    "train.head()"
   ]
  },
  {
   "cell_type": "code",
   "execution_count": 172,
   "metadata": {},
   "outputs": [],
   "source": [
    "test=df1[['clean_Phrase']]"
   ]
  },
  {
   "cell_type": "code",
   "execution_count": 173,
   "metadata": {},
   "outputs": [
    {
     "data": {
      "text/html": [
       "<div>\n",
       "<style scoped>\n",
       "    .dataframe tbody tr th:only-of-type {\n",
       "        vertical-align: middle;\n",
       "    }\n",
       "\n",
       "    .dataframe tbody tr th {\n",
       "        vertical-align: top;\n",
       "    }\n",
       "\n",
       "    .dataframe thead th {\n",
       "        text-align: right;\n",
       "    }\n",
       "</style>\n",
       "<table border=\"1\" class=\"dataframe\">\n",
       "  <thead>\n",
       "    <tr style=\"text-align: right;\">\n",
       "      <th></th>\n",
       "      <th>clean_Phrase</th>\n",
       "    </tr>\n",
       "  </thead>\n",
       "  <tbody>\n",
       "    <tr>\n",
       "      <th>0</th>\n",
       "      <td>anintermittentlypleasingbutmostlyroutineeffort</td>\n",
       "    </tr>\n",
       "    <tr>\n",
       "      <th>1</th>\n",
       "      <td>anintermittentlypleasingbutmostlyroutineeffort</td>\n",
       "    </tr>\n",
       "    <tr>\n",
       "      <th>2</th>\n",
       "      <td></td>\n",
       "    </tr>\n",
       "    <tr>\n",
       "      <th>3</th>\n",
       "      <td>intermittentlypleasingbutmostlyroutineeffort</td>\n",
       "    </tr>\n",
       "    <tr>\n",
       "      <th>4</th>\n",
       "      <td>intermittentlypleasingbutmostlyroutine</td>\n",
       "    </tr>\n",
       "  </tbody>\n",
       "</table>\n",
       "</div>"
      ],
      "text/plain": [
       "                                     clean_Phrase\n",
       "0  anintermittentlypleasingbutmostlyroutineeffort\n",
       "1  anintermittentlypleasingbutmostlyroutineeffort\n",
       "2                                                \n",
       "3    intermittentlypleasingbutmostlyroutineeffort\n",
       "4          intermittentlypleasingbutmostlyroutine"
      ]
     },
     "execution_count": 173,
     "metadata": {},
     "output_type": "execute_result"
    }
   ],
   "source": [
    "test.head()"
   ]
  },
  {
   "cell_type": "code",
   "execution_count": 247,
   "metadata": {},
   "outputs": [],
   "source": [
    "from sklearn.feature_extraction.text import CountVectorizer\n",
    "\n",
    "count_vectorizer = CountVectorizer(max_features=5000, analyzer='word', lowercase=False)\n",
    "#cv = CountVectorizer()\n",
    "\n",
    "x=count_vectorizer.fit_transform(train['clean_Phrase'])\n",
    "#cv.fit(train)\n",
    "#X = cv.transform(train)\n",
    "y = train['Sentiment']\n",
    "#X_test = cv.transform(train)"
   ]
  },
  {
   "cell_type": "code",
   "execution_count": 248,
   "metadata": {},
   "outputs": [
    {
     "data": {
      "text/plain": [
       "(124848,)"
      ]
     },
     "execution_count": 248,
     "metadata": {},
     "output_type": "execute_result"
    }
   ],
   "source": [
    "X_train.shape "
   ]
  },
  {
   "cell_type": "code",
   "execution_count": 249,
   "metadata": {},
   "outputs": [],
   "source": [
    "from sklearn.model_selection import train_test_split\n",
    "\n",
    "x_train,x_test,y_train,y_test = train_test_split(x,y,test_size=0.2,random_state=21)\n",
    "\n",
    "# Model development and prediction - Logistic Regression\n",
    "\n",
    "from sklearn.linear_model import LogisticRegression\n",
    "\n",
    "logr = LogisticRegression()"
   ]
  },
  {
   "cell_type": "code",
   "execution_count": 250,
   "metadata": {},
   "outputs": [
    {
     "name": "stderr",
     "output_type": "stream",
     "text": [
      "C:\\Users\\Milgram\\Anaconda3\\lib\\site-packages\\sklearn\\linear_model\\_logistic.py:940: ConvergenceWarning: lbfgs failed to converge (status=1):\n",
      "STOP: TOTAL NO. of ITERATIONS REACHED LIMIT.\n",
      "\n",
      "Increase the number of iterations (max_iter) or scale the data as shown in:\n",
      "    https://scikit-learn.org/stable/modules/preprocessing.html\n",
      "Please also refer to the documentation for alternative solver options:\n",
      "    https://scikit-learn.org/stable/modules/linear_model.html#logistic-regression\n",
      "  extra_warning_msg=_LOGISTIC_SOLVER_CONVERGENCE_MSG)\n"
     ]
    },
    {
     "data": {
      "text/plain": [
       "LogisticRegression(C=1.0, class_weight=None, dual=False, fit_intercept=True,\n",
       "                   intercept_scaling=1, l1_ratio=None, max_iter=100,\n",
       "                   multi_class='auto', n_jobs=None, penalty='l2',\n",
       "                   random_state=None, solver='lbfgs', tol=0.0001, verbose=0,\n",
       "                   warm_start=False)"
      ]
     },
     "execution_count": 250,
     "metadata": {},
     "output_type": "execute_result"
    }
   ],
   "source": [
    "# fit model with data\n",
    "\n",
    "logr.fit(x_train,y_train)"
   ]
  },
  {
   "cell_type": "code",
   "execution_count": 251,
   "metadata": {},
   "outputs": [
    {
     "data": {
      "text/plain": [
       "array([[    0,     7,  1450,     0,     0],\n",
       "       [    2,    40,  5422,     0,     0],\n",
       "       [    0,    13, 15753,    65,     0],\n",
       "       [    0,     3,  6441,   142,     1],\n",
       "       [    0,     0,  1827,    46,     0]], dtype=int64)"
      ]
     },
     "execution_count": 251,
     "metadata": {},
     "output_type": "execute_result"
    }
   ],
   "source": [
    "# prediction\n",
    "\n",
    "y_pred = logr.predict(x_test)\n",
    "\n",
    "# Model Evaluation using Confusion Matrix - Logistic Regression\n",
    "\n",
    "from sklearn import metrics\n",
    "\n",
    "cnf_matrix = metrics.confusion_matrix(y_test, y_pred)\n",
    "\n",
    "cnf_matrix"
   ]
  },
  {
   "cell_type": "code",
   "execution_count": 252,
   "metadata": {},
   "outputs": [
    {
     "name": "stdout",
     "output_type": "stream",
     "text": [
      "[[    0     7  1450     0     0]\n",
      " [    2    40  5422     0     0]\n",
      " [    0    13 15753    65     0]\n",
      " [    0     3  6441   142     1]\n",
      " [    0     0  1827    46     0]]\n"
     ]
    }
   ],
   "source": [
    "print(cnf_matrix)"
   ]
  },
  {
   "cell_type": "code",
   "execution_count": 253,
   "metadata": {},
   "outputs": [
    {
     "name": "stdout",
     "output_type": "stream",
     "text": [
      "LogisticRegression model accuracy: 0.5105408176342432\n"
     ]
    }
   ],
   "source": [
    "from sklearn import metrics \n",
    "print(\"LogisticRegression model accuracy:\", metrics.accuracy_score(y_test, y_pred))"
   ]
  },
  {
   "cell_type": "code",
   "execution_count": 255,
   "metadata": {},
   "outputs": [
    {
     "name": "stdout",
     "output_type": "stream",
     "text": [
      "              precision    recall  f1-score   support\n",
      "\n",
      "           0       0.00      0.00      0.00      1457\n",
      "           1       0.63      0.01      0.01      5464\n",
      "           2       0.51      1.00      0.67     15831\n",
      "           3       0.56      0.02      0.04      6587\n",
      "           4       0.00      0.00      0.00      1873\n",
      "\n",
      "    accuracy                           0.51     31212\n",
      "   macro avg       0.34      0.20      0.15     31212\n",
      "weighted avg       0.49      0.51      0.35     31212\n",
      "\n"
     ]
    }
   ],
   "source": [
    "from sklearn.metrics import precision_score, recall_score, accuracy_score ,classification_report\n",
    "print(classification_report(y_test, y_pred))"
   ]
  },
  {
   "cell_type": "markdown",
   "metadata": {},
   "source": [
    "-------------------------------------DecisionTree Regression--------------------------------------------"
   ]
  },
  {
   "cell_type": "code",
   "execution_count": 259,
   "metadata": {},
   "outputs": [
    {
     "data": {
      "text/plain": [
       "array([[    0,     7,  1450,     0,     0],\n",
       "       [    2,    40,  5422,     0,     0],\n",
       "       [    0,    13, 15753,    65,     0],\n",
       "       [    0,     3,  6441,   142,     1],\n",
       "       [    0,     0,  1827,    46,     0]], dtype=int64)"
      ]
     },
     "execution_count": 259,
     "metadata": {},
     "output_type": "execute_result"
    }
   ],
   "source": [
    "from sklearn.tree import DecisionTreeRegressor\n",
    "clf = DecisionTreeRegressor()\n",
    "clf.fit(x_train, y_train)\n",
    "clf_predict = clf.predict(x_test)\n",
    "\n",
    "# Model Evaluation using Confusion Matrix - DecisionTree Regression\n",
    "\n",
    "from sklearn import metrics\n",
    "\n",
    "cnf_matrix = metrics.confusion_matrix(y_test, y_pred)\n",
    "\n",
    "cnf_matrix"
   ]
  },
  {
   "cell_type": "code",
   "execution_count": 260,
   "metadata": {},
   "outputs": [
    {
     "name": "stdout",
     "output_type": "stream",
     "text": [
      "              precision    recall  f1-score   support\n",
      "\n",
      "           0       0.00      0.00      0.00      1457\n",
      "           1       0.63      0.01      0.01      5464\n",
      "           2       0.51      1.00      0.67     15831\n",
      "           3       0.56      0.02      0.04      6587\n",
      "           4       0.00      0.00      0.00      1873\n",
      "\n",
      "    accuracy                           0.51     31212\n",
      "   macro avg       0.34      0.20      0.15     31212\n",
      "weighted avg       0.49      0.51      0.35     31212\n",
      "\n"
     ]
    }
   ],
   "source": [
    "print(classification_report(y_test, y_pred))"
   ]
  },
  {
   "cell_type": "code",
   "execution_count": 261,
   "metadata": {},
   "outputs": [
    {
     "name": "stdout",
     "output_type": "stream",
     "text": [
      "DecisionTree Regression model accuracy: 0.5105408176342432\n"
     ]
    }
   ],
   "source": [
    "from sklearn import metrics \n",
    "print(\"DecisionTree Regression model accuracy:\", metrics.accuracy_score(y_test, y_pred))"
   ]
  },
  {
   "cell_type": "code",
   "execution_count": null,
   "metadata": {},
   "outputs": [],
   "source": []
  },
  {
   "cell_type": "markdown",
   "metadata": {},
   "source": [
    "-------------------------------------RandomForest Regression--------------------------------------------"
   ]
  },
  {
   "cell_type": "code",
   "execution_count": null,
   "metadata": {},
   "outputs": [],
   "source": [
    "from sklearn.ensemble import RandomForestRegressor\n",
    "rfc = RandomForestRegressor()\n",
    "rfc.fit(x_train, y_train)\n",
    "rfc_predict = rfc.predict(x_test)\n",
    "\n",
    "# Model Evaluation using Confusion Matrix - DecisionTree Regression\n",
    "\n",
    "from sklearn import metrics\n",
    "\n",
    "cnf_matrix = metrics.confusion_matrix(y_test, y_pred)\n",
    "\n",
    "cnf_matrix"
   ]
  },
  {
   "cell_type": "code",
   "execution_count": null,
   "metadata": {},
   "outputs": [],
   "source": [
    "print(classification_report(y_test, y_pred))"
   ]
  },
  {
   "cell_type": "code",
   "execution_count": null,
   "metadata": {},
   "outputs": [],
   "source": [
    "from sklearn import metrics \n",
    "print(\"RandomForest Regression model accuracy:\", metrics.accuracy_score(y_test, y_pred))"
   ]
  },
  {
   "cell_type": "code",
   "execution_count": null,
   "metadata": {},
   "outputs": [],
   "source": []
  },
  {
   "cell_type": "code",
   "execution_count": null,
   "metadata": {},
   "outputs": [],
   "source": []
  },
  {
   "cell_type": "markdown",
   "metadata": {},
   "source": [
    "-----------------------------------------------Practice----------------------------------------------------------"
   ]
  },
  {
   "cell_type": "code",
   "execution_count": null,
   "metadata": {},
   "outputs": [],
   "source": [
    "feature_cols = ['transaction percentage','CASH_IN', 'CASH_OUT', 'DEBIT', 'PAYMENT', 'TRANSFER', 'C', 'M']\n",
    "x = p[feature_cols]\n",
    "y = p.isFraud\n",
    "# Splitting data\n",
    "\n",
    "from sklearn.model_selection import train_test_split\n",
    "\n",
    "x_train,x_test,y_train,y_test = train_test_split(x,y,test_size=0.2,random_state=21)\n",
    "\n",
    "# Model development and prediction - Logistic Regression\n",
    "\n",
    "from sklearn.linear_model import LogisticRegression\n",
    "\n",
    "logr = LogisticRegression()"
   ]
  },
  {
   "cell_type": "code",
   "execution_count": null,
   "metadata": {},
   "outputs": [],
   "source": [
    "# fit model with data\n",
    "\n",
    "logr.fit(x_train,y_train)"
   ]
  },
  {
   "cell_type": "code",
   "execution_count": null,
   "metadata": {},
   "outputs": [],
   "source": [
    "# prediction\n",
    "\n",
    "y_pred = logr.predict(x_test)\n",
    "\n",
    "# Model Evaluation using Confusion Matrix - Logistic Regression\n",
    "\n",
    "from sklearn import metrics\n",
    "\n",
    "cnf_matrix = metrics.confusion_matrix(y_test, y_pred)\n",
    "\n",
    "cnf_matrix"
   ]
  },
  {
   "cell_type": "code",
   "execution_count": null,
   "metadata": {},
   "outputs": [],
   "source": [
    "print(cnf_matrix)"
   ]
  },
  {
   "cell_type": "code",
   "execution_count": null,
   "metadata": {},
   "outputs": [],
   "source": [
    "from sklearn import metrics \n",
    "print(\"LogisticRegression model accuracy:\", metrics.accuracy_score(y_test, y_pred))"
   ]
  },
  {
   "cell_type": "code",
   "execution_count": null,
   "metadata": {},
   "outputs": [],
   "source": [
    "print(classification_report(y_test, y_pred))"
   ]
  },
  {
   "cell_type": "code",
   "execution_count": null,
   "metadata": {},
   "outputs": [],
   "source": [
    "x = train['clean_Phrase']\n",
    "y = train['Sentiment']\n",
    "# Splitting data\n",
    "\n",
    "from sklearn.model_selection import train_test_split\n",
    "\n",
    "x_train,x_test,y_train,y_test = train_test_split(x,y,test_size=0.2,random_state=21)\n",
    "\n",
    "# Model development and prediction - Logistic Regression\n",
    "\n",
    "from sklearn.linear_model import LogisticRegression\n",
    "\n",
    "logr = LogisticRegression()"
   ]
  },
  {
   "cell_type": "code",
   "execution_count": null,
   "metadata": {},
   "outputs": [],
   "source": [
    "train.dropna(inplace=True)\n",
    "train.isna().sum()\n",
    "from sklearn.feature_extraction.text import CountVectorizer\n",
    "cv = CountVectorizer(train['clean_Phrase'])\n",
    "count_vector=cv.fit_transform(train['clean_Phrase'])\n",
    "count_vector.all()"
   ]
  },
  {
   "cell_type": "code",
   "execution_count": 236,
   "metadata": {},
   "outputs": [
    {
     "name": "stdout",
     "output_type": "stream",
     "text": [
      "   but  can  catch  drink  flies  him  honey  horse  lead  make  more  than  to  vinegar  water  with  you\n",
      "0    0    2      1      0      1    0      1      0     0     0     1     1   0        1      0     2    2\n",
      "1    1    2      0      1      0    1      0      1     1     1     0     0   1        0      1     0    2\n"
     ]
    }
   ],
   "source": [
    ">>> from pandas import DataFrame\n",
    ">>> from sklearn.feature_extraction.text import CountVectorizer\n",
    ">>> docs = [\"You can catch more flies with honey than you can with vinegar.\",\n",
    "...         \"You can lead a horse to water, but you can't make him drink.\"]\n",
    ">>> vect = CountVectorizer(min_df=0., max_df=1.0)\n",
    ">>> X = vect.fit_transform(docs)\n",
    ">>> print(DataFrame(X.A, columns=vect.get_feature_names()).to_string())"
   ]
  },
  {
   "cell_type": "code",
   "execution_count": 2,
   "metadata": {},
   "outputs": [
    {
     "ename": "NameError",
     "evalue": "name 'train' is not defined",
     "output_type": "error",
     "traceback": [
      "\u001b[1;31m---------------------------------------------------------------------------\u001b[0m",
      "\u001b[1;31mNameError\u001b[0m                                 Traceback (most recent call last)",
      "\u001b[1;32m<ipython-input-2-a3f2ec5afeb4>\u001b[0m in \u001b[0;36m<module>\u001b[1;34m\u001b[0m\n\u001b[0;32m      1\u001b[0m \u001b[1;32mfrom\u001b[0m \u001b[0mpandas\u001b[0m \u001b[1;32mimport\u001b[0m \u001b[0mDataFrame\u001b[0m\u001b[1;33m\u001b[0m\u001b[1;33m\u001b[0m\u001b[0m\n\u001b[0;32m      2\u001b[0m \u001b[1;32mfrom\u001b[0m \u001b[0msklearn\u001b[0m\u001b[1;33m.\u001b[0m\u001b[0mfeature_extraction\u001b[0m\u001b[1;33m.\u001b[0m\u001b[0mtext\u001b[0m \u001b[1;32mimport\u001b[0m \u001b[0mCountVectorizer\u001b[0m\u001b[1;33m\u001b[0m\u001b[1;33m\u001b[0m\u001b[0m\n\u001b[1;32m----> 3\u001b[1;33m \u001b[0mdocs\u001b[0m \u001b[1;33m=\u001b[0m\u001b[0mtrain\u001b[0m\u001b[1;33m[\u001b[0m\u001b[1;34m'clean_Phrase'\u001b[0m\u001b[1;33m]\u001b[0m\u001b[1;33m.\u001b[0m\u001b[0mtoarray\u001b[0m\u001b[1;33m(\u001b[0m\u001b[1;33m)\u001b[0m\u001b[1;33m\u001b[0m\u001b[1;33m\u001b[0m\u001b[0m\n\u001b[0m\u001b[0;32m      4\u001b[0m \u001b[0mvect\u001b[0m \u001b[1;33m=\u001b[0m \u001b[0mCountVectorizer\u001b[0m\u001b[1;33m(\u001b[0m\u001b[0mmin_df\u001b[0m\u001b[1;33m=\u001b[0m\u001b[1;36m0.\u001b[0m\u001b[1;33m,\u001b[0m \u001b[0mmax_df\u001b[0m\u001b[1;33m=\u001b[0m\u001b[1;36m1.0\u001b[0m\u001b[1;33m)\u001b[0m\u001b[1;33m\u001b[0m\u001b[1;33m\u001b[0m\u001b[0m\n\u001b[0;32m      5\u001b[0m \u001b[0mX\u001b[0m \u001b[1;33m=\u001b[0m \u001b[0mvect\u001b[0m\u001b[1;33m.\u001b[0m\u001b[0mfit_transform\u001b[0m\u001b[1;33m(\u001b[0m\u001b[0mdocs\u001b[0m\u001b[1;33m)\u001b[0m\u001b[1;33m\u001b[0m\u001b[1;33m\u001b[0m\u001b[0m\n",
      "\u001b[1;31mNameError\u001b[0m: name 'train' is not defined"
     ]
    }
   ],
   "source": [
    ">>> from pandas import DataFrame\n",
    ">>> from sklearn.feature_extraction.text import CountVectorizer\n",
    ">>> docs =train['clean_Phrase'].toarray()\n",
    ">>> vect = CountVectorizer(min_df=0., max_df=1.0)\n",
    ">>> X = vect.fit_transform(docs)\n",
    ">>> print(DataFrame(X.A, columns=vect.get_feature_names()).to_string())"
   ]
  },
  {
   "cell_type": "code",
   "execution_count": 246,
   "metadata": {},
   "outputs": [
    {
     "ename": "NameError",
     "evalue": "name 'count' is not defined",
     "output_type": "error",
     "traceback": [
      "\u001b[1;31m---------------------------------------------------------------------------\u001b[0m",
      "\u001b[1;31mNameError\u001b[0m                                 Traceback (most recent call last)",
      "\u001b[1;32m<ipython-input-246-99128bfe9c8b>\u001b[0m in \u001b[0;36m<module>\u001b[1;34m\u001b[0m\n\u001b[0;32m      3\u001b[0m \u001b[1;32mimport\u001b[0m \u001b[0mpandas\u001b[0m \u001b[1;32mas\u001b[0m \u001b[0mpd\u001b[0m\u001b[1;33m\u001b[0m\u001b[1;33m\u001b[0m\u001b[0m\n\u001b[0;32m      4\u001b[0m \u001b[1;31m# Get feature names\u001b[0m\u001b[1;33m\u001b[0m\u001b[1;33m\u001b[0m\u001b[1;33m\u001b[0m\u001b[0m\n\u001b[1;32m----> 5\u001b[1;33m \u001b[0mfeature_names\u001b[0m \u001b[1;33m=\u001b[0m \u001b[0mcount\u001b[0m\u001b[1;33m.\u001b[0m\u001b[0mget_feature_names\u001b[0m\u001b[1;33m(\u001b[0m\u001b[1;33m)\u001b[0m\u001b[1;33m\u001b[0m\u001b[1;33m\u001b[0m\u001b[0m\n\u001b[0m\u001b[0;32m      6\u001b[0m \u001b[1;33m\u001b[0m\u001b[0m\n\u001b[0;32m      7\u001b[0m \u001b[1;31m# View feature names\u001b[0m\u001b[1;33m\u001b[0m\u001b[1;33m\u001b[0m\u001b[1;33m\u001b[0m\u001b[0m\n",
      "\u001b[1;31mNameError\u001b[0m: name 'count' is not defined"
     ]
    }
   ],
   "source": [
    "import numpy as np\n",
    "from sklearn.feature_extraction.text import CountVectorizer\n",
    "import pandas as pd\n",
    "# Get feature names\n",
    "feature_names = count.get_feature_names()\n",
    "\n",
    "# View feature names\n",
    "feature_names"
   ]
  },
  {
   "cell_type": "code",
   "execution_count": null,
   "metadata": {},
   "outputs": [],
   "source": []
  },
  {
   "cell_type": "code",
   "execution_count": null,
   "metadata": {},
   "outputs": [],
   "source": []
  },
  {
   "cell_type": "code",
   "execution_count": null,
   "metadata": {},
   "outputs": [],
   "source": []
  },
  {
   "cell_type": "code",
   "execution_count": null,
   "metadata": {},
   "outputs": [],
   "source": []
  },
  {
   "cell_type": "code",
   "execution_count": null,
   "metadata": {},
   "outputs": [],
   "source": []
  },
  {
   "cell_type": "code",
   "execution_count": null,
   "metadata": {},
   "outputs": [],
   "source": []
  },
  {
   "cell_type": "code",
   "execution_count": null,
   "metadata": {},
   "outputs": [],
   "source": []
  },
  {
   "cell_type": "code",
   "execution_count": null,
   "metadata": {},
   "outputs": [],
   "source": []
  },
  {
   "cell_type": "code",
   "execution_count": null,
   "metadata": {},
   "outputs": [],
   "source": []
  },
  {
   "cell_type": "code",
   "execution_count": null,
   "metadata": {},
   "outputs": [],
   "source": []
  },
  {
   "cell_type": "code",
   "execution_count": null,
   "metadata": {},
   "outputs": [],
   "source": []
  },
  {
   "cell_type": "code",
   "execution_count": null,
   "metadata": {},
   "outputs": [],
   "source": []
  },
  {
   "cell_type": "code",
   "execution_count": null,
   "metadata": {},
   "outputs": [],
   "source": []
  },
  {
   "cell_type": "code",
   "execution_count": null,
   "metadata": {},
   "outputs": [],
   "source": []
  },
  {
   "cell_type": "markdown",
   "metadata": {},
   "source": [
    "---------------------------------------------------Practice------------------------------------------------------"
   ]
  },
  {
   "cell_type": "code",
   "execution_count": 11,
   "metadata": {},
   "outputs": [
    {
     "data": {
      "text/html": [
       "\n",
       "\n",
       "\n",
       "\n",
       "\n",
       "\n",
       "  <div class=\"bk-root\" id=\"f69209ba-8bb0-4850-9971-856da5cc5469\" data-root-id=\"1998\"></div>\n"
      ]
     },
     "metadata": {},
     "output_type": "display_data"
    },
    {
     "data": {
      "application/javascript": [
       "(function(root) {\n",
       "  function embed_document(root) {\n",
       "    \n",
       "  var docs_json = {\"91061818-8faf-4d47-bb75-7e714c01403e\":{\"roots\":{\"references\":[{\"attributes\":{\"children\":[{\"id\":\"1971\",\"subtype\":\"Figure\",\"type\":\"Plot\"}],\"sizing_mode\":\"scale_width\"},\"id\":\"1998\",\"type\":\"Row\"},{\"attributes\":{},\"id\":\"2010\",\"type\":\"CategoricalTickFormatter\"},{\"attributes\":{},\"id\":\"2012\",\"type\":\"UnionRenderers\"},{\"attributes\":{\"text\":\"Categorical Heatmap\"},\"id\":\"1972\",\"type\":\"Title\"},{\"attributes\":{},\"id\":\"1978\",\"type\":\"CategoricalScale\"},{\"attributes\":{\"below\":[{\"id\":\"1982\",\"type\":\"CategoricalAxis\"}],\"center\":[{\"id\":\"1985\",\"type\":\"Grid\"},{\"id\":\"1989\",\"type\":\"Grid\"}],\"left\":[{\"id\":\"1986\",\"type\":\"CategoricalAxis\"}],\"plot_height\":400,\"plot_width\":400,\"renderers\":[{\"id\":\"1996\",\"type\":\"GlyphRenderer\"}],\"sizing_mode\":\"scale_width\",\"title\":{\"id\":\"1972\",\"type\":\"Title\"},\"toolbar\":{\"id\":\"1991\",\"type\":\"Toolbar\"},\"toolbar_location\":null,\"x_range\":{\"id\":\"1974\",\"type\":\"FactorRange\"},\"x_scale\":{\"id\":\"1978\",\"type\":\"CategoricalScale\"},\"y_range\":{\"id\":\"1976\",\"type\":\"FactorRange\"},\"y_scale\":{\"id\":\"1980\",\"type\":\"CategoricalScale\"}},\"id\":\"1971\",\"subtype\":\"Figure\",\"type\":\"Plot\"},{\"attributes\":{\"dimension\":1,\"ticker\":{\"id\":\"1987\",\"type\":\"CategoricalTicker\"}},\"id\":\"1989\",\"type\":\"Grid\"},{\"attributes\":{},\"id\":\"1987\",\"type\":\"CategoricalTicker\"},{\"attributes\":{},\"id\":\"1983\",\"type\":\"CategoricalTicker\"},{\"attributes\":{\"formatter\":{\"id\":\"2008\",\"type\":\"CategoricalTickFormatter\"},\"ticker\":{\"id\":\"1983\",\"type\":\"CategoricalTicker\"}},\"id\":\"1982\",\"type\":\"CategoricalAxis\"},{\"attributes\":{\"fill_color\":{\"field\":\"fill_color\"},\"height\":{\"units\":\"data\",\"value\":1},\"line_color\":{\"field\":\"line_color\"},\"width\":{\"units\":\"data\",\"value\":1},\"x\":{\"field\":\"x\"},\"y\":{\"field\":\"y\"}},\"id\":\"1994\",\"type\":\"Rect\"},{\"attributes\":{\"active_drag\":\"auto\",\"active_inspect\":\"auto\",\"active_multi\":null,\"active_scroll\":\"auto\",\"active_tap\":\"auto\",\"tools\":[{\"id\":\"1990\",\"type\":\"HoverTool\"}]},\"id\":\"1991\",\"type\":\"Toolbar\"},{\"attributes\":{\"data_source\":{\"id\":\"1993\",\"type\":\"ColumnDataSource\"},\"glyph\":{\"id\":\"1994\",\"type\":\"Rect\"},\"hover_glyph\":null,\"muted_glyph\":null,\"nonselection_glyph\":{\"id\":\"1995\",\"type\":\"Rect\"},\"selection_glyph\":null,\"view\":{\"id\":\"1997\",\"type\":\"CDSView\"}},\"id\":\"1996\",\"type\":\"GlyphRenderer\"},{\"attributes\":{},\"id\":\"2013\",\"type\":\"Selection\"},{\"attributes\":{\"fill_alpha\":{\"value\":0.1},\"fill_color\":{\"value\":\"#1f77b4\"},\"height\":{\"units\":\"data\",\"value\":1},\"line_alpha\":{\"value\":0.1},\"line_color\":{\"value\":\"#1f77b4\"},\"width\":{\"units\":\"data\",\"value\":1},\"x\":{\"field\":\"x\"},\"y\":{\"field\":\"y\"}},\"id\":\"1995\",\"type\":\"Rect\"},{\"attributes\":{\"callback\":null},\"id\":\"1990\",\"type\":\"HoverTool\"},{\"attributes\":{\"ticker\":{\"id\":\"1983\",\"type\":\"CategoricalTicker\"}},\"id\":\"1985\",\"type\":\"Grid\"},{\"attributes\":{\"callback\":null,\"factors\":[\"foo 123\",\"bar:0.2\",\"baz-10\"]},\"id\":\"1976\",\"type\":\"FactorRange\"},{\"attributes\":{},\"id\":\"2008\",\"type\":\"CategoricalTickFormatter\"},{\"attributes\":{},\"id\":\"1980\",\"type\":\"CategoricalScale\"},{\"attributes\":{\"callback\":null,\"factors\":[\"foo 123\",\"bar:0.2\",\"baz-10\"]},\"id\":\"1974\",\"type\":\"FactorRange\"},{\"attributes\":{\"source\":{\"id\":\"1993\",\"type\":\"ColumnDataSource\"}},\"id\":\"1997\",\"type\":\"CDSView\"},{\"attributes\":{\"callback\":null,\"data\":{\"fill_color\":[\"#0B486B\",\"#79BD9A\",\"#CFF09E\",\"#79BD9A\",\"#0B486B\",\"#79BD9A\",\"#CFF09E\",\"#79BD9A\",\"#0B486B\"],\"line_color\":[\"#0B486B\",\"#79BD9A\",\"#CFF09E\",\"#79BD9A\",\"#0B486B\",\"#79BD9A\",\"#CFF09E\",\"#79BD9A\",\"#0B486B\"],\"x\":[\"foo 123\",\"foo 123\",\"foo 123\",\"bar:0.2\",\"bar:0.2\",\"bar:0.2\",\"baz-10\",\"baz-10\",\"baz-10\"],\"y\":[\"foo 123\",\"bar:0.2\",\"baz-10\",\"foo 123\",\"bar:0.2\",\"baz-10\",\"foo 123\",\"bar:0.2\",\"baz-10\"]},\"selected\":{\"id\":\"2013\",\"type\":\"Selection\"},\"selection_policy\":{\"id\":\"2012\",\"type\":\"UnionRenderers\"}},\"id\":\"1993\",\"type\":\"ColumnDataSource\"},{\"attributes\":{\"formatter\":{\"id\":\"2010\",\"type\":\"CategoricalTickFormatter\"},\"ticker\":{\"id\":\"1987\",\"type\":\"CategoricalTicker\"}},\"id\":\"1986\",\"type\":\"CategoricalAxis\"}],\"root_ids\":[\"1998\"]},\"title\":\"Bokeh Application\",\"version\":\"1.3.4\"}};\n",
       "  var render_items = [{\"docid\":\"91061818-8faf-4d47-bb75-7e714c01403e\",\"roots\":{\"1998\":\"f69209ba-8bb0-4850-9971-856da5cc5469\"}}];\n",
       "  root.Bokeh.embed.embed_items_notebook(docs_json, render_items);\n",
       "\n",
       "  }\n",
       "  if (root.Bokeh !== undefined) {\n",
       "    embed_document(root);\n",
       "  } else {\n",
       "    var attempts = 0;\n",
       "    var timer = setInterval(function(root) {\n",
       "      if (root.Bokeh !== undefined) {\n",
       "        embed_document(root);\n",
       "        clearInterval(timer);\n",
       "      }\n",
       "      attempts++;\n",
       "      if (attempts > 100) {\n",
       "        console.log(\"Bokeh: ERROR: Unable to run BokehJS code because BokehJS library is missing\");\n",
       "        clearInterval(timer);\n",
       "      }\n",
       "    }, 10, root)\n",
       "  }\n",
       "})(window);"
      ],
      "application/vnd.bokehjs_exec.v0+json": ""
     },
     "metadata": {
      "application/vnd.bokehjs_exec.v0+json": {
       "id": "1998"
      }
     },
     "output_type": "display_data"
    }
   ],
   "source": [
    "from bokeh.layouts import row\n",
    "from bokeh.plotting import figure, output_file, show\n",
    "\n",
    "#factors = [\"a\", \"b\", \"c\", \"d\", \"e\", \"f\", \"g\", \"h\"]\n",
    "#x =  [50, 40, 65, 10, 25, 37, 80, 60]\n",
    "\n",
    "#dot = figure(title=\"Categorical Dot Plot\", tools=\"\", toolbar_location=None,\n",
    "            #y_range=factors, x_range=[0,100])\n",
    "\n",
    "#dot.segment(0, factors, x, factors, line_width=2, line_color=\"green\", )\n",
    "#dot.circle(x, factors, size=15, fill_color=\"orange\", line_color=\"green\", line_width=3, )\n",
    "\n",
    "factors = [\"foo 123\", \"bar:0.2\", \"baz-10\"]\n",
    "x = [\"foo 123\", \"foo 123\", \"foo 123\", \"bar:0.2\", \"bar:0.2\", \"bar:0.2\", \"baz-10\",  \"baz-10\",  \"baz-10\"]\n",
    "y = [\"foo 123\", \"bar:0.2\", \"baz-10\",  \"foo 123\", \"bar:0.2\", \"baz-10\",  \"foo 123\", \"bar:0.2\", \"baz-10\"]\n",
    "colors = [\n",
    "    \"#0B486B\", \"#79BD9A\", \"#CFF09E\",\n",
    "    \"#79BD9A\", \"#0B486B\", \"#79BD9A\",\n",
    "    \"#CFF09E\", \"#79BD9A\", \"#0B486B\"\n",
    "]\n",
    "\n",
    "hm = figure(title=\"Categorical Heatmap\", tools=\"hover\", toolbar_location=None,\n",
    "            x_range=factors, y_range=factors,plot_height=400,plot_width=400)\n",
    "\n",
    "hm.rect(x, y, color=colors, width=1, height=1)\n",
    "\n",
    "output_file(\"categorical.html\", title=\"categorical.py example\")\n",
    "\n",
    "show(row(hm, sizing_mode=\"scale_width\"))  # open a browser\n",
    "\n"
   ]
  },
  {
   "cell_type": "code",
   "execution_count": 71,
   "metadata": {},
   "outputs": [
    {
     "data": {
      "text/html": [
       "\n",
       "    <div class=\"bk-root\">\n",
       "        <a href=\"https://bokeh.pydata.org\" target=\"_blank\" class=\"bk-logo bk-logo-small bk-logo-notebook\"></a>\n",
       "        <span id=\"62752\">Loading BokehJS ...</span>\n",
       "    </div>"
      ]
     },
     "metadata": {},
     "output_type": "display_data"
    },
    {
     "data": {
      "application/javascript": [
       "\n",
       "(function(root) {\n",
       "  function now() {\n",
       "    return new Date();\n",
       "  }\n",
       "\n",
       "  var force = true;\n",
       "\n",
       "  if (typeof root._bokeh_onload_callbacks === \"undefined\" || force === true) {\n",
       "    root._bokeh_onload_callbacks = [];\n",
       "    root._bokeh_is_loading = undefined;\n",
       "  }\n",
       "\n",
       "  var JS_MIME_TYPE = 'application/javascript';\n",
       "  var HTML_MIME_TYPE = 'text/html';\n",
       "  var EXEC_MIME_TYPE = 'application/vnd.bokehjs_exec.v0+json';\n",
       "  var CLASS_NAME = 'output_bokeh rendered_html';\n",
       "\n",
       "  /**\n",
       "   * Render data to the DOM node\n",
       "   */\n",
       "  function render(props, node) {\n",
       "    var script = document.createElement(\"script\");\n",
       "    node.appendChild(script);\n",
       "  }\n",
       "\n",
       "  /**\n",
       "   * Handle when an output is cleared or removed\n",
       "   */\n",
       "  function handleClearOutput(event, handle) {\n",
       "    var cell = handle.cell;\n",
       "\n",
       "    var id = cell.output_area._bokeh_element_id;\n",
       "    var server_id = cell.output_area._bokeh_server_id;\n",
       "    // Clean up Bokeh references\n",
       "    if (id != null && id in Bokeh.index) {\n",
       "      Bokeh.index[id].model.document.clear();\n",
       "      delete Bokeh.index[id];\n",
       "    }\n",
       "\n",
       "    if (server_id !== undefined) {\n",
       "      // Clean up Bokeh references\n",
       "      var cmd = \"from bokeh.io.state import curstate; print(curstate().uuid_to_server['\" + server_id + \"'].get_sessions()[0].document.roots[0]._id)\";\n",
       "      cell.notebook.kernel.execute(cmd, {\n",
       "        iopub: {\n",
       "          output: function(msg) {\n",
       "            var id = msg.content.text.trim();\n",
       "            if (id in Bokeh.index) {\n",
       "              Bokeh.index[id].model.document.clear();\n",
       "              delete Bokeh.index[id];\n",
       "            }\n",
       "          }\n",
       "        }\n",
       "      });\n",
       "      // Destroy server and session\n",
       "      var cmd = \"import bokeh.io.notebook as ion; ion.destroy_server('\" + server_id + \"')\";\n",
       "      cell.notebook.kernel.execute(cmd);\n",
       "    }\n",
       "  }\n",
       "\n",
       "  /**\n",
       "   * Handle when a new output is added\n",
       "   */\n",
       "  function handleAddOutput(event, handle) {\n",
       "    var output_area = handle.output_area;\n",
       "    var output = handle.output;\n",
       "\n",
       "    // limit handleAddOutput to display_data with EXEC_MIME_TYPE content only\n",
       "    if ((output.output_type != \"display_data\") || (!output.data.hasOwnProperty(EXEC_MIME_TYPE))) {\n",
       "      return\n",
       "    }\n",
       "\n",
       "    var toinsert = output_area.element.find(\".\" + CLASS_NAME.split(' ')[0]);\n",
       "\n",
       "    if (output.metadata[EXEC_MIME_TYPE][\"id\"] !== undefined) {\n",
       "      toinsert[toinsert.length - 1].firstChild.textContent = output.data[JS_MIME_TYPE];\n",
       "      // store reference to embed id on output_area\n",
       "      output_area._bokeh_element_id = output.metadata[EXEC_MIME_TYPE][\"id\"];\n",
       "    }\n",
       "    if (output.metadata[EXEC_MIME_TYPE][\"server_id\"] !== undefined) {\n",
       "      var bk_div = document.createElement(\"div\");\n",
       "      bk_div.innerHTML = output.data[HTML_MIME_TYPE];\n",
       "      var script_attrs = bk_div.children[0].attributes;\n",
       "      for (var i = 0; i < script_attrs.length; i++) {\n",
       "        toinsert[toinsert.length - 1].firstChild.setAttribute(script_attrs[i].name, script_attrs[i].value);\n",
       "      }\n",
       "      // store reference to server id on output_area\n",
       "      output_area._bokeh_server_id = output.metadata[EXEC_MIME_TYPE][\"server_id\"];\n",
       "    }\n",
       "  }\n",
       "\n",
       "  function register_renderer(events, OutputArea) {\n",
       "\n",
       "    function append_mime(data, metadata, element) {\n",
       "      // create a DOM node to render to\n",
       "      var toinsert = this.create_output_subarea(\n",
       "        metadata,\n",
       "        CLASS_NAME,\n",
       "        EXEC_MIME_TYPE\n",
       "      );\n",
       "      this.keyboard_manager.register_events(toinsert);\n",
       "      // Render to node\n",
       "      var props = {data: data, metadata: metadata[EXEC_MIME_TYPE]};\n",
       "      render(props, toinsert[toinsert.length - 1]);\n",
       "      element.append(toinsert);\n",
       "      return toinsert\n",
       "    }\n",
       "\n",
       "    /* Handle when an output is cleared or removed */\n",
       "    events.on('clear_output.CodeCell', handleClearOutput);\n",
       "    events.on('delete.Cell', handleClearOutput);\n",
       "\n",
       "    /* Handle when a new output is added */\n",
       "    events.on('output_added.OutputArea', handleAddOutput);\n",
       "\n",
       "    /**\n",
       "     * Register the mime type and append_mime function with output_area\n",
       "     */\n",
       "    OutputArea.prototype.register_mime_type(EXEC_MIME_TYPE, append_mime, {\n",
       "      /* Is output safe? */\n",
       "      safe: true,\n",
       "      /* Index of renderer in `output_area.display_order` */\n",
       "      index: 0\n",
       "    });\n",
       "  }\n",
       "\n",
       "  // register the mime type if in Jupyter Notebook environment and previously unregistered\n",
       "  if (root.Jupyter !== undefined) {\n",
       "    var events = require('base/js/events');\n",
       "    var OutputArea = require('notebook/js/outputarea').OutputArea;\n",
       "\n",
       "    if (OutputArea.prototype.mime_types().indexOf(EXEC_MIME_TYPE) == -1) {\n",
       "      register_renderer(events, OutputArea);\n",
       "    }\n",
       "  }\n",
       "\n",
       "  \n",
       "  if (typeof (root._bokeh_timeout) === \"undefined\" || force === true) {\n",
       "    root._bokeh_timeout = Date.now() + 5000;\n",
       "    root._bokeh_failed_load = false;\n",
       "  }\n",
       "\n",
       "  var NB_LOAD_WARNING = {'data': {'text/html':\n",
       "     \"<div style='background-color: #fdd'>\\n\"+\n",
       "     \"<p>\\n\"+\n",
       "     \"BokehJS does not appear to have successfully loaded. If loading BokehJS from CDN, this \\n\"+\n",
       "     \"may be due to a slow or bad network connection. Possible fixes:\\n\"+\n",
       "     \"</p>\\n\"+\n",
       "     \"<ul>\\n\"+\n",
       "     \"<li>re-rerun `output_notebook()` to attempt to load from CDN again, or</li>\\n\"+\n",
       "     \"<li>use INLINE resources instead, as so:</li>\\n\"+\n",
       "     \"</ul>\\n\"+\n",
       "     \"<code>\\n\"+\n",
       "     \"from bokeh.resources import INLINE\\n\"+\n",
       "     \"output_notebook(resources=INLINE)\\n\"+\n",
       "     \"</code>\\n\"+\n",
       "     \"</div>\"}};\n",
       "\n",
       "  function display_loaded() {\n",
       "    var el = document.getElementById(\"62752\");\n",
       "    if (el != null) {\n",
       "      el.textContent = \"BokehJS is loading...\";\n",
       "    }\n",
       "    if (root.Bokeh !== undefined) {\n",
       "      if (el != null) {\n",
       "        el.textContent = \"BokehJS \" + root.Bokeh.version + \" successfully loaded.\";\n",
       "      }\n",
       "    } else if (Date.now() < root._bokeh_timeout) {\n",
       "      setTimeout(display_loaded, 100)\n",
       "    }\n",
       "  }\n",
       "\n",
       "\n",
       "  function run_callbacks() {\n",
       "    try {\n",
       "      root._bokeh_onload_callbacks.forEach(function(callback) {\n",
       "        if (callback != null)\n",
       "          callback();\n",
       "      });\n",
       "    } finally {\n",
       "      delete root._bokeh_onload_callbacks\n",
       "    }\n",
       "    console.debug(\"Bokeh: all callbacks have finished\");\n",
       "  }\n",
       "\n",
       "  function load_libs(css_urls, js_urls, callback) {\n",
       "    if (css_urls == null) css_urls = [];\n",
       "    if (js_urls == null) js_urls = [];\n",
       "\n",
       "    root._bokeh_onload_callbacks.push(callback);\n",
       "    if (root._bokeh_is_loading > 0) {\n",
       "      console.debug(\"Bokeh: BokehJS is being loaded, scheduling callback at\", now());\n",
       "      return null;\n",
       "    }\n",
       "    if (js_urls == null || js_urls.length === 0) {\n",
       "      run_callbacks();\n",
       "      return null;\n",
       "    }\n",
       "    console.debug(\"Bokeh: BokehJS not loaded, scheduling load and callback at\", now());\n",
       "    root._bokeh_is_loading = css_urls.length + js_urls.length;\n",
       "\n",
       "    function on_load() {\n",
       "      root._bokeh_is_loading--;\n",
       "      if (root._bokeh_is_loading === 0) {\n",
       "        console.debug(\"Bokeh: all BokehJS libraries/stylesheets loaded\");\n",
       "        run_callbacks()\n",
       "      }\n",
       "    }\n",
       "\n",
       "    function on_error() {\n",
       "      console.error(\"failed to load \" + url);\n",
       "    }\n",
       "\n",
       "    for (var i = 0; i < css_urls.length; i++) {\n",
       "      var url = css_urls[i];\n",
       "      const element = document.createElement(\"link\");\n",
       "      element.onload = on_load;\n",
       "      element.onerror = on_error;\n",
       "      element.rel = \"stylesheet\";\n",
       "      element.type = \"text/css\";\n",
       "      element.href = url;\n",
       "      console.debug(\"Bokeh: injecting link tag for BokehJS stylesheet: \", url);\n",
       "      document.body.appendChild(element);\n",
       "    }\n",
       "\n",
       "    for (var i = 0; i < js_urls.length; i++) {\n",
       "      var url = js_urls[i];\n",
       "      var element = document.createElement('script');\n",
       "      element.onload = on_load;\n",
       "      element.onerror = on_error;\n",
       "      element.async = false;\n",
       "      element.src = url;\n",
       "      console.debug(\"Bokeh: injecting script tag for BokehJS library: \", url);\n",
       "      document.head.appendChild(element);\n",
       "    }\n",
       "  };var element = document.getElementById(\"62752\");\n",
       "  if (element == null) {\n",
       "    console.error(\"Bokeh: ERROR: autoload.js configured with elementid '62752' but no matching script tag was found. \")\n",
       "    return false;\n",
       "  }\n",
       "\n",
       "  function inject_raw_css(css) {\n",
       "    const element = document.createElement(\"style\");\n",
       "    element.appendChild(document.createTextNode(css));\n",
       "    document.body.appendChild(element);\n",
       "  }\n",
       "\n",
       "  var js_urls = [\"https://cdn.pydata.org/bokeh/release/bokeh-1.3.4.min.js\", \"https://cdn.pydata.org/bokeh/release/bokeh-widgets-1.3.4.min.js\", \"https://cdn.pydata.org/bokeh/release/bokeh-tables-1.3.4.min.js\", \"https://cdn.pydata.org/bokeh/release/bokeh-gl-1.3.4.min.js\"];\n",
       "  var css_urls = [];\n",
       "\n",
       "  var inline_js = [\n",
       "    function(Bokeh) {\n",
       "      Bokeh.set_log_level(\"info\");\n",
       "    },\n",
       "    \n",
       "    function(Bokeh) {\n",
       "      \n",
       "    },\n",
       "    function(Bokeh) {} // ensure no trailing comma for IE\n",
       "  ];\n",
       "\n",
       "  function run_inline_js() {\n",
       "    \n",
       "    if ((root.Bokeh !== undefined) || (force === true)) {\n",
       "      for (var i = 0; i < inline_js.length; i++) {\n",
       "        inline_js[i].call(root, root.Bokeh);\n",
       "      }if (force === true) {\n",
       "        display_loaded();\n",
       "      }} else if (Date.now() < root._bokeh_timeout) {\n",
       "      setTimeout(run_inline_js, 100);\n",
       "    } else if (!root._bokeh_failed_load) {\n",
       "      console.log(\"Bokeh: BokehJS failed to load within specified timeout.\");\n",
       "      root._bokeh_failed_load = true;\n",
       "    } else if (force !== true) {\n",
       "      var cell = $(document.getElementById(\"62752\")).parents('.cell').data().cell;\n",
       "      cell.output_area.append_execute_result(NB_LOAD_WARNING)\n",
       "    }\n",
       "\n",
       "  }\n",
       "\n",
       "  if (root._bokeh_is_loading === 0) {\n",
       "    console.debug(\"Bokeh: BokehJS loaded, going straight to plotting\");\n",
       "    run_inline_js();\n",
       "  } else {\n",
       "    load_libs(css_urls, js_urls, function() {\n",
       "      console.debug(\"Bokeh: BokehJS plotting callback run at\", now());\n",
       "      run_inline_js();\n",
       "    });\n",
       "  }\n",
       "}(window));"
      ],
      "application/vnd.bokehjs_load.v0+json": "\n(function(root) {\n  function now() {\n    return new Date();\n  }\n\n  var force = true;\n\n  if (typeof root._bokeh_onload_callbacks === \"undefined\" || force === true) {\n    root._bokeh_onload_callbacks = [];\n    root._bokeh_is_loading = undefined;\n  }\n\n  \n\n  \n  if (typeof (root._bokeh_timeout) === \"undefined\" || force === true) {\n    root._bokeh_timeout = Date.now() + 5000;\n    root._bokeh_failed_load = false;\n  }\n\n  var NB_LOAD_WARNING = {'data': {'text/html':\n     \"<div style='background-color: #fdd'>\\n\"+\n     \"<p>\\n\"+\n     \"BokehJS does not appear to have successfully loaded. If loading BokehJS from CDN, this \\n\"+\n     \"may be due to a slow or bad network connection. Possible fixes:\\n\"+\n     \"</p>\\n\"+\n     \"<ul>\\n\"+\n     \"<li>re-rerun `output_notebook()` to attempt to load from CDN again, or</li>\\n\"+\n     \"<li>use INLINE resources instead, as so:</li>\\n\"+\n     \"</ul>\\n\"+\n     \"<code>\\n\"+\n     \"from bokeh.resources import INLINE\\n\"+\n     \"output_notebook(resources=INLINE)\\n\"+\n     \"</code>\\n\"+\n     \"</div>\"}};\n\n  function display_loaded() {\n    var el = document.getElementById(\"62752\");\n    if (el != null) {\n      el.textContent = \"BokehJS is loading...\";\n    }\n    if (root.Bokeh !== undefined) {\n      if (el != null) {\n        el.textContent = \"BokehJS \" + root.Bokeh.version + \" successfully loaded.\";\n      }\n    } else if (Date.now() < root._bokeh_timeout) {\n      setTimeout(display_loaded, 100)\n    }\n  }\n\n\n  function run_callbacks() {\n    try {\n      root._bokeh_onload_callbacks.forEach(function(callback) {\n        if (callback != null)\n          callback();\n      });\n    } finally {\n      delete root._bokeh_onload_callbacks\n    }\n    console.debug(\"Bokeh: all callbacks have finished\");\n  }\n\n  function load_libs(css_urls, js_urls, callback) {\n    if (css_urls == null) css_urls = [];\n    if (js_urls == null) js_urls = [];\n\n    root._bokeh_onload_callbacks.push(callback);\n    if (root._bokeh_is_loading > 0) {\n      console.debug(\"Bokeh: BokehJS is being loaded, scheduling callback at\", now());\n      return null;\n    }\n    if (js_urls == null || js_urls.length === 0) {\n      run_callbacks();\n      return null;\n    }\n    console.debug(\"Bokeh: BokehJS not loaded, scheduling load and callback at\", now());\n    root._bokeh_is_loading = css_urls.length + js_urls.length;\n\n    function on_load() {\n      root._bokeh_is_loading--;\n      if (root._bokeh_is_loading === 0) {\n        console.debug(\"Bokeh: all BokehJS libraries/stylesheets loaded\");\n        run_callbacks()\n      }\n    }\n\n    function on_error() {\n      console.error(\"failed to load \" + url);\n    }\n\n    for (var i = 0; i < css_urls.length; i++) {\n      var url = css_urls[i];\n      const element = document.createElement(\"link\");\n      element.onload = on_load;\n      element.onerror = on_error;\n      element.rel = \"stylesheet\";\n      element.type = \"text/css\";\n      element.href = url;\n      console.debug(\"Bokeh: injecting link tag for BokehJS stylesheet: \", url);\n      document.body.appendChild(element);\n    }\n\n    for (var i = 0; i < js_urls.length; i++) {\n      var url = js_urls[i];\n      var element = document.createElement('script');\n      element.onload = on_load;\n      element.onerror = on_error;\n      element.async = false;\n      element.src = url;\n      console.debug(\"Bokeh: injecting script tag for BokehJS library: \", url);\n      document.head.appendChild(element);\n    }\n  };var element = document.getElementById(\"62752\");\n  if (element == null) {\n    console.error(\"Bokeh: ERROR: autoload.js configured with elementid '62752' but no matching script tag was found. \")\n    return false;\n  }\n\n  function inject_raw_css(css) {\n    const element = document.createElement(\"style\");\n    element.appendChild(document.createTextNode(css));\n    document.body.appendChild(element);\n  }\n\n  var js_urls = [\"https://cdn.pydata.org/bokeh/release/bokeh-1.3.4.min.js\", \"https://cdn.pydata.org/bokeh/release/bokeh-widgets-1.3.4.min.js\", \"https://cdn.pydata.org/bokeh/release/bokeh-tables-1.3.4.min.js\", \"https://cdn.pydata.org/bokeh/release/bokeh-gl-1.3.4.min.js\"];\n  var css_urls = [];\n\n  var inline_js = [\n    function(Bokeh) {\n      Bokeh.set_log_level(\"info\");\n    },\n    \n    function(Bokeh) {\n      \n    },\n    function(Bokeh) {} // ensure no trailing comma for IE\n  ];\n\n  function run_inline_js() {\n    \n    if ((root.Bokeh !== undefined) || (force === true)) {\n      for (var i = 0; i < inline_js.length; i++) {\n        inline_js[i].call(root, root.Bokeh);\n      }if (force === true) {\n        display_loaded();\n      }} else if (Date.now() < root._bokeh_timeout) {\n      setTimeout(run_inline_js, 100);\n    } else if (!root._bokeh_failed_load) {\n      console.log(\"Bokeh: BokehJS failed to load within specified timeout.\");\n      root._bokeh_failed_load = true;\n    } else if (force !== true) {\n      var cell = $(document.getElementById(\"62752\")).parents('.cell').data().cell;\n      cell.output_area.append_execute_result(NB_LOAD_WARNING)\n    }\n\n  }\n\n  if (root._bokeh_is_loading === 0) {\n    console.debug(\"Bokeh: BokehJS loaded, going straight to plotting\");\n    run_inline_js();\n  } else {\n    load_libs(css_urls, js_urls, function() {\n      console.debug(\"Bokeh: BokehJS plotting callback run at\", now());\n      run_inline_js();\n    });\n  }\n}(window));"
     },
     "metadata": {},
     "output_type": "display_data"
    },
    {
     "data": {
      "text/html": [
       "\n",
       "\n",
       "\n",
       "\n",
       "\n",
       "\n",
       "  <div class=\"bk-root\" id=\"0d51e873-64ec-4af8-a6c6-54d33f110490\" data-root-id=\"62945\"></div>\n"
      ]
     },
     "metadata": {},
     "output_type": "display_data"
    },
    {
     "data": {
      "application/javascript": [
       "(function(root) {\n",
       "  function embed_document(root) {\n",
       "    \n",
       "  var docs_json = {\"bcd8df91-c494-4da1-9fb0-3f6c35b28608\":{\"roots\":{\"references\":[{\"attributes\":{\"children\":[{\"id\":\"62944\",\"type\":\"Row\"}]},\"id\":\"62945\",\"type\":\"WidgetBox\"},{\"attributes\":{\"background_fill_alpha\":{\"value\":0.5},\"background_fill_color\":{\"value\":\"silver\"},\"below\":[{\"id\":\"62764\",\"type\":\"LinearAxis\"}],\"border_fill_alpha\":{\"value\":0.25},\"border_fill_color\":{\"value\":\"gray\"},\"center\":[{\"id\":\"62768\",\"type\":\"Grid\"},{\"id\":\"62773\",\"type\":\"Grid\"}],\"left\":[{\"id\":\"62769\",\"type\":\"LinearAxis\"}],\"min_border_top\":30,\"plot_height\":200,\"plot_width\":200,\"renderers\":[{\"id\":\"62789\",\"type\":\"GlyphRenderer\"}],\"title\":{\"id\":\"62754\",\"type\":\"Title\"},\"toolbar\":{\"id\":\"62780\",\"type\":\"Toolbar\"},\"toolbar_location\":null,\"x_range\":{\"id\":\"62756\",\"type\":\"DataRange1d\"},\"x_scale\":{\"id\":\"62760\",\"type\":\"LinearScale\"},\"y_range\":{\"id\":\"62758\",\"type\":\"Range1d\"},\"y_scale\":{\"id\":\"62762\",\"type\":\"LinearScale\"}},\"id\":\"62753\",\"subtype\":\"Figure\",\"type\":\"Plot\"},{\"attributes\":{},\"id\":\"62937\",\"type\":\"UnionRenderers\"},{\"attributes\":{\"bottom_units\":\"screen\",\"fill_alpha\":{\"value\":0.5},\"fill_color\":{\"value\":\"lightgrey\"},\"left_units\":\"screen\",\"level\":\"overlay\",\"line_alpha\":{\"value\":1.0},\"line_color\":{\"value\":\"black\"},\"line_dash\":[4,4],\"line_width\":{\"value\":2},\"render_mode\":\"css\",\"right_units\":\"screen\",\"top_units\":\"screen\"},\"id\":\"62930\",\"type\":\"BoxAnnotation\"},{\"attributes\":{},\"id\":\"62938\",\"type\":\"Selection\"},{\"attributes\":{},\"id\":\"62935\",\"type\":\"BasicTickFormatter\"},{\"attributes\":{},\"id\":\"62933\",\"type\":\"BasicTickFormatter\"},{\"attributes\":{\"toolbar\":{\"id\":\"62942\",\"type\":\"ProxyToolbar\"}},\"id\":\"62943\",\"type\":\"ToolbarBox\"},{\"attributes\":{\"bottom_units\":\"screen\",\"fill_alpha\":{\"value\":0.5},\"fill_color\":{\"value\":\"lightgrey\"},\"left_units\":\"screen\",\"level\":\"overlay\",\"line_alpha\":{\"value\":1.0},\"line_color\":{\"value\":\"black\"},\"line_dash\":[4,4],\"line_width\":{\"value\":2},\"render_mode\":\"css\",\"right_units\":\"screen\",\"top_units\":\"screen\"},\"id\":\"62939\",\"type\":\"BoxAnnotation\"},{\"attributes\":{\"tools\":[{\"id\":\"62774\",\"type\":\"PanTool\"},{\"id\":\"62775\",\"type\":\"WheelZoomTool\"},{\"id\":\"62776\",\"type\":\"BoxZoomTool\"},{\"id\":\"62777\",\"type\":\"SaveTool\"},{\"id\":\"62778\",\"type\":\"ResetTool\"},{\"id\":\"62779\",\"type\":\"HelpTool\"},{\"id\":\"62812\",\"type\":\"PanTool\"},{\"id\":\"62813\",\"type\":\"WheelZoomTool\"},{\"id\":\"62814\",\"type\":\"BoxZoomTool\"},{\"id\":\"62815\",\"type\":\"SaveTool\"},{\"id\":\"62816\",\"type\":\"ResetTool\"},{\"id\":\"62817\",\"type\":\"HelpTool\"},{\"id\":\"62850\",\"type\":\"PanTool\"},{\"id\":\"62851\",\"type\":\"WheelZoomTool\"},{\"id\":\"62852\",\"type\":\"BoxZoomTool\"},{\"id\":\"62853\",\"type\":\"SaveTool\"},{\"id\":\"62854\",\"type\":\"ResetTool\"},{\"id\":\"62855\",\"type\":\"HelpTool\"},{\"id\":\"62888\",\"type\":\"PanTool\"},{\"id\":\"62889\",\"type\":\"WheelZoomTool\"},{\"id\":\"62890\",\"type\":\"BoxZoomTool\"},{\"id\":\"62891\",\"type\":\"SaveTool\"},{\"id\":\"62892\",\"type\":\"ResetTool\"},{\"id\":\"62893\",\"type\":\"HelpTool\"}]},\"id\":\"62942\",\"type\":\"ProxyToolbar\"},{\"attributes\":{\"children\":[{\"id\":\"62941\",\"type\":\"GridBox\"},{\"id\":\"62943\",\"type\":\"ToolbarBox\"}]},\"id\":\"62944\",\"type\":\"Row\"},{\"attributes\":{\"data_source\":{\"id\":\"62787\",\"type\":\"ColumnDataSource\"},\"glyph\":{\"id\":\"62788\",\"type\":\"Text\"},\"hover_glyph\":null,\"muted_glyph\":null,\"view\":{\"id\":\"62790\",\"type\":\"CDSView\"}},\"id\":\"62789\",\"type\":\"GlyphRenderer\"},{\"attributes\":{},\"id\":\"62884\",\"type\":\"BasicTicker\"},{\"attributes\":{},\"id\":\"62924\",\"type\":\"BasicTickFormatter\"},{\"attributes\":{},\"id\":\"62929\",\"type\":\"Selection\"},{\"attributes\":{\"text_align\":\"center\",\"text_color\":{\"value\":\"Blue\"},\"text_font_size\":{\"value\":\"20px\"},\"x\":{\"field\":\"x\"},\"y\":{\"field\":\"y\"}},\"id\":\"62788\",\"type\":\"Text\"},{\"attributes\":{\"data_source\":{\"id\":\"62825\",\"type\":\"ColumnDataSource\"},\"glyph\":{\"id\":\"62826\",\"type\":\"Text\"},\"hover_glyph\":null,\"muted_glyph\":null,\"view\":{\"id\":\"62828\",\"type\":\"CDSView\"}},\"id\":\"62827\",\"type\":\"GlyphRenderer\"},{\"attributes\":{\"data_source\":{\"id\":\"62863\",\"type\":\"ColumnDataSource\"},\"glyph\":{\"id\":\"62864\",\"type\":\"Text\"},\"hover_glyph\":null,\"muted_glyph\":null,\"view\":{\"id\":\"62866\",\"type\":\"CDSView\"}},\"id\":\"62865\",\"type\":\"GlyphRenderer\"},{\"attributes\":{\"data_source\":{\"id\":\"62901\",\"type\":\"ColumnDataSource\"},\"glyph\":{\"id\":\"62902\",\"type\":\"Text\"},\"hover_glyph\":null,\"muted_glyph\":null,\"view\":{\"id\":\"62904\",\"type\":\"CDSView\"}},\"id\":\"62903\",\"type\":\"GlyphRenderer\"},{\"attributes\":{},\"id\":\"62774\",\"type\":\"PanTool\"},{\"attributes\":{},\"id\":\"62812\",\"type\":\"PanTool\"},{\"attributes\":{},\"id\":\"62908\",\"type\":\"BasicTickFormatter\"},{\"attributes\":{},\"id\":\"62850\",\"type\":\"PanTool\"},{\"attributes\":{},\"id\":\"62775\",\"type\":\"WheelZoomTool\"},{\"attributes\":{},\"id\":\"62888\",\"type\":\"PanTool\"},{\"attributes\":{\"overlay\":{\"id\":\"62912\",\"type\":\"BoxAnnotation\"}},\"id\":\"62776\",\"type\":\"BoxZoomTool\"},{\"attributes\":{},\"id\":\"62813\",\"type\":\"WheelZoomTool\"},{\"attributes\":{},\"id\":\"62777\",\"type\":\"SaveTool\"},{\"attributes\":{\"overlay\":{\"id\":\"62921\",\"type\":\"BoxAnnotation\"}},\"id\":\"62814\",\"type\":\"BoxZoomTool\"},{\"attributes\":{},\"id\":\"62851\",\"type\":\"WheelZoomTool\"},{\"attributes\":{},\"id\":\"62778\",\"type\":\"ResetTool\"},{\"attributes\":{},\"id\":\"62815\",\"type\":\"SaveTool\"},{\"attributes\":{\"overlay\":{\"id\":\"62930\",\"type\":\"BoxAnnotation\"}},\"id\":\"62852\",\"type\":\"BoxZoomTool\"},{\"attributes\":{},\"id\":\"62889\",\"type\":\"WheelZoomTool\"},{\"attributes\":{},\"id\":\"62816\",\"type\":\"ResetTool\"},{\"attributes\":{},\"id\":\"62779\",\"type\":\"HelpTool\"},{\"attributes\":{},\"id\":\"62853\",\"type\":\"SaveTool\"},{\"attributes\":{\"overlay\":{\"id\":\"62939\",\"type\":\"BoxAnnotation\"}},\"id\":\"62890\",\"type\":\"BoxZoomTool\"},{\"attributes\":{},\"id\":\"62854\",\"type\":\"ResetTool\"},{\"attributes\":{\"text_align\":\"center\",\"text_color\":{\"value\":\"firebrick\"},\"text_font_size\":{\"value\":\"50px\"},\"x\":{\"field\":\"x\"},\"y\":{\"field\":\"y\"}},\"id\":\"62864\",\"type\":\"Text\"},{\"attributes\":{},\"id\":\"62817\",\"type\":\"HelpTool\"},{\"attributes\":{},\"id\":\"62891\",\"type\":\"SaveTool\"},{\"attributes\":{},\"id\":\"62892\",\"type\":\"ResetTool\"},{\"attributes\":{\"text_align\":\"center\",\"text_color\":{\"value\":\"Blue\"},\"text_font_size\":{\"value\":\"50px\"},\"x\":{\"field\":\"x\"},\"y\":{\"field\":\"y\"}},\"id\":\"62902\",\"type\":\"Text\"},{\"attributes\":{},\"id\":\"62855\",\"type\":\"HelpTool\"},{\"attributes\":{\"active_drag\":\"auto\",\"active_inspect\":\"auto\",\"active_multi\":null,\"active_scroll\":\"auto\",\"active_tap\":\"auto\",\"tools\":[{\"id\":\"62774\",\"type\":\"PanTool\"},{\"id\":\"62775\",\"type\":\"WheelZoomTool\"},{\"id\":\"62776\",\"type\":\"BoxZoomTool\"},{\"id\":\"62777\",\"type\":\"SaveTool\"},{\"id\":\"62778\",\"type\":\"ResetTool\"},{\"id\":\"62779\",\"type\":\"HelpTool\"}]},\"id\":\"62780\",\"type\":\"Toolbar\"},{\"attributes\":{},\"id\":\"62893\",\"type\":\"HelpTool\"},{\"attributes\":{\"active_drag\":\"auto\",\"active_inspect\":\"auto\",\"active_multi\":null,\"active_scroll\":\"auto\",\"active_tap\":\"auto\",\"tools\":[{\"id\":\"62812\",\"type\":\"PanTool\"},{\"id\":\"62813\",\"type\":\"WheelZoomTool\"},{\"id\":\"62814\",\"type\":\"BoxZoomTool\"},{\"id\":\"62815\",\"type\":\"SaveTool\"},{\"id\":\"62816\",\"type\":\"ResetTool\"},{\"id\":\"62817\",\"type\":\"HelpTool\"}]},\"id\":\"62818\",\"type\":\"Toolbar\"},{\"attributes\":{\"active_drag\":\"auto\",\"active_inspect\":\"auto\",\"active_multi\":null,\"active_scroll\":\"auto\",\"active_tap\":\"auto\",\"tools\":[{\"id\":\"62850\",\"type\":\"PanTool\"},{\"id\":\"62851\",\"type\":\"WheelZoomTool\"},{\"id\":\"62852\",\"type\":\"BoxZoomTool\"},{\"id\":\"62853\",\"type\":\"SaveTool\"},{\"id\":\"62854\",\"type\":\"ResetTool\"},{\"id\":\"62855\",\"type\":\"HelpTool\"}]},\"id\":\"62856\",\"type\":\"Toolbar\"},{\"attributes\":{\"source\":{\"id\":\"62901\",\"type\":\"ColumnDataSource\"}},\"id\":\"62904\",\"type\":\"CDSView\"},{\"attributes\":{\"active_drag\":\"auto\",\"active_inspect\":\"auto\",\"active_multi\":null,\"active_scroll\":\"auto\",\"active_tap\":\"auto\",\"tools\":[{\"id\":\"62888\",\"type\":\"PanTool\"},{\"id\":\"62889\",\"type\":\"WheelZoomTool\"},{\"id\":\"62890\",\"type\":\"BoxZoomTool\"},{\"id\":\"62891\",\"type\":\"SaveTool\"},{\"id\":\"62892\",\"type\":\"ResetTool\"},{\"id\":\"62893\",\"type\":\"HelpTool\"}]},\"id\":\"62894\",\"type\":\"Toolbar\"},{\"attributes\":{\"source\":{\"id\":\"62787\",\"type\":\"ColumnDataSource\"}},\"id\":\"62790\",\"type\":\"CDSView\"},{\"attributes\":{\"callback\":null,\"data\":{\"text\":[\"66292\"],\"x\":[1],\"y\":[1]},\"selected\":{\"id\":\"62929\",\"type\":\"Selection\"},\"selection_policy\":{\"id\":\"62928\",\"type\":\"UnionRenderers\"}},\"id\":\"62863\",\"type\":\"ColumnDataSource\"},{\"attributes\":{\"align\":\"center\",\"text\":\"\",\"text_font_size\":{\"value\":\"15px\"}},\"id\":\"62754\",\"type\":\"Title\"},{\"attributes\":{\"source\":{\"id\":\"62825\",\"type\":\"ColumnDataSource\"}},\"id\":\"62828\",\"type\":\"CDSView\"},{\"attributes\":{\"callback\":null,\"data\":{\"text\":[\"91%\"],\"x\":[1],\"y\":[1]},\"selected\":{\"id\":\"62938\",\"type\":\"Selection\"},\"selection_policy\":{\"id\":\"62937\",\"type\":\"UnionRenderers\"}},\"id\":\"62901\",\"type\":\"ColumnDataSource\"},{\"attributes\":{\"formatter\":{\"id\":\"62906\",\"type\":\"BasicTickFormatter\"},\"ticker\":{\"id\":\"62765\",\"type\":\"BasicTicker\"},\"visible\":false},\"id\":\"62764\",\"type\":\"LinearAxis\"},{\"attributes\":{},\"id\":\"62906\",\"type\":\"BasicTickFormatter\"},{\"attributes\":{\"text_align\":\"center\",\"text_color\":{\"value\":\"firebrick\"},\"text_font_size\":{\"value\":\"50px\"},\"x\":{\"field\":\"x\"},\"y\":{\"field\":\"y\"}},\"id\":\"62826\",\"type\":\"Text\"},{\"attributes\":{\"align\":\"center\",\"text\":\"Train\",\"text_font_size\":{\"value\":\"15px\"}},\"id\":\"62792\",\"type\":\"Title\"},{\"attributes\":{\"source\":{\"id\":\"62863\",\"type\":\"ColumnDataSource\"}},\"id\":\"62866\",\"type\":\"CDSView\"},{\"attributes\":{},\"id\":\"62911\",\"type\":\"Selection\"},{\"attributes\":{\"background_fill_alpha\":{\"value\":0.5},\"background_fill_color\":{\"value\":\"silver\"},\"below\":[{\"id\":\"62840\",\"type\":\"LinearAxis\"}],\"border_fill_alpha\":{\"value\":0.25},\"border_fill_color\":{\"value\":\"gray\"},\"center\":[{\"id\":\"62844\",\"type\":\"Grid\"},{\"id\":\"62849\",\"type\":\"Grid\"}],\"left\":[{\"id\":\"62845\",\"type\":\"LinearAxis\"}],\"min_border_top\":30,\"plot_height\":200,\"plot_width\":200,\"renderers\":[{\"id\":\"62865\",\"type\":\"GlyphRenderer\"}],\"title\":{\"id\":\"62830\",\"type\":\"Title\"},\"toolbar\":{\"id\":\"62856\",\"type\":\"Toolbar\"},\"toolbar_location\":null,\"x_range\":{\"id\":\"62832\",\"type\":\"DataRange1d\"},\"x_scale\":{\"id\":\"62836\",\"type\":\"LinearScale\"},\"y_range\":{\"id\":\"62834\",\"type\":\"Range1d\"},\"y_scale\":{\"id\":\"62838\",\"type\":\"LinearScale\"}},\"id\":\"62829\",\"subtype\":\"Figure\",\"type\":\"Plot\"},{\"attributes\":{},\"id\":\"62919\",\"type\":\"UnionRenderers\"},{\"attributes\":{\"children\":[[{\"id\":\"62753\",\"subtype\":\"Figure\",\"type\":\"Plot\"},0,0],[{\"id\":\"62791\",\"subtype\":\"Figure\",\"type\":\"Plot\"},0,1],[{\"id\":\"62829\",\"subtype\":\"Figure\",\"type\":\"Plot\"},1,0],[{\"id\":\"62867\",\"subtype\":\"Figure\",\"type\":\"Plot\"},1,1]]},\"id\":\"62941\",\"type\":\"GridBox\"},{\"attributes\":{\"callback\":null},\"id\":\"62756\",\"type\":\"DataRange1d\"},{\"attributes\":{\"callback\":null},\"id\":\"62794\",\"type\":\"DataRange1d\"},{\"attributes\":{\"align\":\"center\",\"text\":\"Test\",\"text_font_size\":{\"value\":\"15px\"}},\"id\":\"62830\",\"type\":\"Title\"},{\"attributes\":{\"background_fill_alpha\":{\"value\":0.5},\"background_fill_color\":{\"value\":\"silver\"},\"below\":[{\"id\":\"62878\",\"type\":\"LinearAxis\"}],\"border_fill_alpha\":{\"value\":0.25},\"border_fill_color\":{\"value\":\"gray\"},\"center\":[{\"id\":\"62882\",\"type\":\"Grid\"},{\"id\":\"62887\",\"type\":\"Grid\"}],\"left\":[{\"id\":\"62883\",\"type\":\"LinearAxis\"}],\"min_border_top\":30,\"plot_height\":200,\"plot_width\":200,\"renderers\":[{\"id\":\"62903\",\"type\":\"GlyphRenderer\"}],\"title\":{\"id\":\"62868\",\"type\":\"Title\"},\"toolbar\":{\"id\":\"62894\",\"type\":\"Toolbar\"},\"toolbar_location\":null,\"x_range\":{\"id\":\"62870\",\"type\":\"DataRange1d\"},\"x_scale\":{\"id\":\"62874\",\"type\":\"LinearScale\"},\"y_range\":{\"id\":\"62872\",\"type\":\"Range1d\"},\"y_scale\":{\"id\":\"62876\",\"type\":\"LinearScale\"}},\"id\":\"62867\",\"subtype\":\"Figure\",\"type\":\"Plot\"},{\"attributes\":{\"callback\":null},\"id\":\"62758\",\"type\":\"Range1d\"},{\"attributes\":{\"formatter\":{\"id\":\"62915\",\"type\":\"BasicTickFormatter\"},\"ticker\":{\"id\":\"62803\",\"type\":\"BasicTicker\"},\"visible\":false},\"id\":\"62802\",\"type\":\"LinearAxis\"},{\"attributes\":{\"callback\":null},\"id\":\"62832\",\"type\":\"DataRange1d\"},{\"attributes\":{\"align\":\"center\",\"text\":\"Accuracy\",\"text_font_size\":{\"value\":\"15px\"}},\"id\":\"62868\",\"type\":\"Title\"},{\"attributes\":{\"callback\":null,\"end\":3},\"id\":\"62796\",\"type\":\"Range1d\"},{\"attributes\":{\"formatter\":{\"id\":\"62924\",\"type\":\"BasicTickFormatter\"},\"ticker\":{\"id\":\"62841\",\"type\":\"BasicTicker\"},\"visible\":false},\"id\":\"62840\",\"type\":\"LinearAxis\"},{\"attributes\":{},\"id\":\"62910\",\"type\":\"UnionRenderers\"},{\"attributes\":{},\"id\":\"62760\",\"type\":\"LinearScale\"},{\"attributes\":{\"callback\":null},\"id\":\"62870\",\"type\":\"DataRange1d\"},{\"attributes\":{\"callback\":null,\"end\":3},\"id\":\"62834\",\"type\":\"Range1d\"},{\"attributes\":{\"formatter\":{\"id\":\"62933\",\"type\":\"BasicTickFormatter\"},\"ticker\":{\"id\":\"62879\",\"type\":\"BasicTicker\"},\"visible\":false},\"id\":\"62878\",\"type\":\"LinearAxis\"},{\"attributes\":{},\"id\":\"62762\",\"type\":\"LinearScale\"},{\"attributes\":{},\"id\":\"62798\",\"type\":\"LinearScale\"},{\"attributes\":{\"callback\":null,\"end\":3},\"id\":\"62872\",\"type\":\"Range1d\"},{\"attributes\":{\"bottom_units\":\"screen\",\"fill_alpha\":{\"value\":0.5},\"fill_color\":{\"value\":\"lightgrey\"},\"left_units\":\"screen\",\"level\":\"overlay\",\"line_alpha\":{\"value\":1.0},\"line_color\":{\"value\":\"black\"},\"line_dash\":[4,4],\"line_width\":{\"value\":2},\"render_mode\":\"css\",\"right_units\":\"screen\",\"top_units\":\"screen\"},\"id\":\"62912\",\"type\":\"BoxAnnotation\"},{\"attributes\":{\"ticker\":{\"id\":\"62765\",\"type\":\"BasicTicker\"},\"visible\":false},\"id\":\"62768\",\"type\":\"Grid\"},{\"attributes\":{},\"id\":\"62800\",\"type\":\"LinearScale\"},{\"attributes\":{},\"id\":\"62836\",\"type\":\"LinearScale\"},{\"attributes\":{\"ticker\":{\"id\":\"62803\",\"type\":\"BasicTicker\"},\"visible\":false},\"id\":\"62806\",\"type\":\"Grid\"},{\"attributes\":{},\"id\":\"62838\",\"type\":\"LinearScale\"},{\"attributes\":{},\"id\":\"62874\",\"type\":\"LinearScale\"},{\"attributes\":{\"callback\":null,\"data\":{\"text\":[\"Logistic Regression\"],\"x\":[0.5],\"y\":[0.5]},\"selected\":{\"id\":\"62911\",\"type\":\"Selection\"},\"selection_policy\":{\"id\":\"62910\",\"type\":\"UnionRenderers\"}},\"id\":\"62787\",\"type\":\"ColumnDataSource\"},{\"attributes\":{},\"id\":\"62765\",\"type\":\"BasicTicker\"},{\"attributes\":{},\"id\":\"62917\",\"type\":\"BasicTickFormatter\"},{\"attributes\":{},\"id\":\"62920\",\"type\":\"Selection\"},{\"attributes\":{\"ticker\":{\"id\":\"62841\",\"type\":\"BasicTicker\"},\"visible\":false},\"id\":\"62844\",\"type\":\"Grid\"},{\"attributes\":{},\"id\":\"62876\",\"type\":\"LinearScale\"},{\"attributes\":{},\"id\":\"62915\",\"type\":\"BasicTickFormatter\"},{\"attributes\":{},\"id\":\"62803\",\"type\":\"BasicTicker\"},{\"attributes\":{\"formatter\":{\"id\":\"62908\",\"type\":\"BasicTickFormatter\"},\"ticker\":{\"id\":\"62770\",\"type\":\"BasicTicker\"},\"visible\":false},\"id\":\"62769\",\"type\":\"LinearAxis\"},{\"attributes\":{\"dimension\":1,\"ticker\":{\"id\":\"62770\",\"type\":\"BasicTicker\"},\"visible\":false},\"id\":\"62773\",\"type\":\"Grid\"},{\"attributes\":{\"ticker\":{\"id\":\"62879\",\"type\":\"BasicTicker\"},\"visible\":false},\"id\":\"62882\",\"type\":\"Grid\"},{\"attributes\":{},\"id\":\"62841\",\"type\":\"BasicTicker\"},{\"attributes\":{\"formatter\":{\"id\":\"62917\",\"type\":\"BasicTickFormatter\"},\"ticker\":{\"id\":\"62808\",\"type\":\"BasicTicker\"},\"visible\":false},\"id\":\"62807\",\"type\":\"LinearAxis\"},{\"attributes\":{\"dimension\":1,\"ticker\":{\"id\":\"62808\",\"type\":\"BasicTicker\"},\"visible\":false},\"id\":\"62811\",\"type\":\"Grid\"},{\"attributes\":{},\"id\":\"62770\",\"type\":\"BasicTicker\"},{\"attributes\":{},\"id\":\"62879\",\"type\":\"BasicTicker\"},{\"attributes\":{\"formatter\":{\"id\":\"62926\",\"type\":\"BasicTickFormatter\"},\"ticker\":{\"id\":\"62846\",\"type\":\"BasicTicker\"},\"visible\":false},\"id\":\"62845\",\"type\":\"LinearAxis\"},{\"attributes\":{\"bottom_units\":\"screen\",\"fill_alpha\":{\"value\":0.5},\"fill_color\":{\"value\":\"lightgrey\"},\"left_units\":\"screen\",\"level\":\"overlay\",\"line_alpha\":{\"value\":1.0},\"line_color\":{\"value\":\"black\"},\"line_dash\":[4,4],\"line_width\":{\"value\":2},\"render_mode\":\"css\",\"right_units\":\"screen\",\"top_units\":\"screen\"},\"id\":\"62921\",\"type\":\"BoxAnnotation\"},{\"attributes\":{\"dimension\":1,\"ticker\":{\"id\":\"62846\",\"type\":\"BasicTicker\"},\"visible\":false},\"id\":\"62849\",\"type\":\"Grid\"},{\"attributes\":{},\"id\":\"62808\",\"type\":\"BasicTicker\"},{\"attributes\":{\"formatter\":{\"id\":\"62935\",\"type\":\"BasicTickFormatter\"},\"ticker\":{\"id\":\"62884\",\"type\":\"BasicTicker\"},\"visible\":false},\"id\":\"62883\",\"type\":\"LinearAxis\"},{\"attributes\":{},\"id\":\"62928\",\"type\":\"UnionRenderers\"},{\"attributes\":{},\"id\":\"62846\",\"type\":\"BasicTicker\"},{\"attributes\":{\"callback\":null,\"data\":{\"text\":[\"156060\"],\"x\":[1],\"y\":[1]},\"selected\":{\"id\":\"62920\",\"type\":\"Selection\"},\"selection_policy\":{\"id\":\"62919\",\"type\":\"UnionRenderers\"}},\"id\":\"62825\",\"type\":\"ColumnDataSource\"},{\"attributes\":{},\"id\":\"62926\",\"type\":\"BasicTickFormatter\"},{\"attributes\":{\"background_fill_alpha\":{\"value\":0.5},\"background_fill_color\":{\"value\":\"silver\"},\"below\":[{\"id\":\"62802\",\"type\":\"LinearAxis\"}],\"border_fill_alpha\":{\"value\":0.25},\"border_fill_color\":{\"value\":\"gray\"},\"center\":[{\"id\":\"62806\",\"type\":\"Grid\"},{\"id\":\"62811\",\"type\":\"Grid\"}],\"left\":[{\"id\":\"62807\",\"type\":\"LinearAxis\"}],\"min_border_top\":30,\"plot_height\":200,\"plot_width\":200,\"renderers\":[{\"id\":\"62827\",\"type\":\"GlyphRenderer\"}],\"title\":{\"id\":\"62792\",\"type\":\"Title\"},\"toolbar\":{\"id\":\"62818\",\"type\":\"Toolbar\"},\"toolbar_location\":null,\"x_range\":{\"id\":\"62794\",\"type\":\"DataRange1d\"},\"x_scale\":{\"id\":\"62798\",\"type\":\"LinearScale\"},\"y_range\":{\"id\":\"62796\",\"type\":\"Range1d\"},\"y_scale\":{\"id\":\"62800\",\"type\":\"LinearScale\"}},\"id\":\"62791\",\"subtype\":\"Figure\",\"type\":\"Plot\"},{\"attributes\":{\"dimension\":1,\"ticker\":{\"id\":\"62884\",\"type\":\"BasicTicker\"},\"visible\":false},\"id\":\"62887\",\"type\":\"Grid\"}],\"root_ids\":[\"62945\"]},\"title\":\"Bokeh Application\",\"version\":\"1.3.4\"}};\n",
       "  var render_items = [{\"docid\":\"bcd8df91-c494-4da1-9fb0-3f6c35b28608\",\"roots\":{\"62945\":\"0d51e873-64ec-4af8-a6c6-54d33f110490\"}}];\n",
       "  root.Bokeh.embed.embed_items_notebook(docs_json, render_items);\n",
       "\n",
       "  }\n",
       "  if (root.Bokeh !== undefined) {\n",
       "    embed_document(root);\n",
       "  } else {\n",
       "    var attempts = 0;\n",
       "    var timer = setInterval(function(root) {\n",
       "      if (root.Bokeh !== undefined) {\n",
       "        embed_document(root);\n",
       "        clearInterval(timer);\n",
       "      }\n",
       "      attempts++;\n",
       "      if (attempts > 100) {\n",
       "        console.log(\"Bokeh: ERROR: Unable to run BokehJS code because BokehJS library is missing\");\n",
       "        clearInterval(timer);\n",
       "      }\n",
       "    }, 10, root)\n",
       "  }\n",
       "})(window);"
      ],
      "application/vnd.bokehjs_exec.v0+json": ""
     },
     "metadata": {
      "application/vnd.bokehjs_exec.v0+json": {
       "id": "62945"
      }
     },
     "output_type": "display_data"
    }
   ],
   "source": [
    "from bokeh.io import output_notebook\n",
    "from bokeh.plotting import figure, show\n",
    "from bokeh.models import  LabelSet,ColumnDataSource,Text\n",
    "from bokeh.models.layouts import LayoutDOM, Box, Row, Column, GridBox, Spacer, WidgetBox\n",
    "from bokeh.layouts import row, column, gridplot\n",
    "output_notebook()\n",
    "fig1 = figure(background_fill_color='silver',\n",
    "             background_fill_alpha=0.5,\n",
    "             border_fill_color='gray',\n",
    "             border_fill_alpha=0.25,\n",
    "             plot_height=200,\n",
    "             plot_width=200,\n",
    "             x_axis_label=None,\n",
    "             title='',\n",
    "             title_location='above',\n",
    "             toolbar_location=None,y_range=(0,1))\n",
    "x1 = [0.5]\n",
    "y1 = [0.5]\n",
    "text= [\"Logistic Regression\"]\n",
    "#text=[\"Regression\"]\n",
    "source = ColumnDataSource(dict(x=x1, y=y1, text=text))\n",
    "glyph1 = Text(x='x', y='y', text=\"text\", angle=0, text_color=\"Blue\",text_font_size='20px',text_align='center')\n",
    "fig1.add_glyph(source,glyph1)\n",
    "fig1.axis.visible=False\n",
    "fig1.min_border_top = 30\n",
    "fig1.title.align = \"center\"\n",
    "fig1.title.text_font_size = \"15px\"\n",
    "fig1.xgrid.visible = False\n",
    "fig1.ygrid.visible = False\n",
    "\n",
    "fig2= figure(background_fill_color='silver',\n",
    "             background_fill_alpha=0.5,\n",
    "             border_fill_color='gray',\n",
    "             border_fill_alpha=0.25,\n",
    "             plot_height=200,\n",
    "             plot_width=200,\n",
    "             x_axis_label=None,\n",
    "             title='Train',\n",
    "             title_location='above',\n",
    "             toolbar_location=None,y_range=(0,3))\n",
    "x2 = [1]\n",
    "y2 = [1]\n",
    "text= [\"156060\"]\n",
    "source = ColumnDataSource(dict(x=x2, y=y2, text=text))\n",
    "glyph2 = Text(x='x', y='y', text=\"text\", angle=0, text_color=\"firebrick\",text_font_size='50px',text_align='center')\n",
    "fig2.add_glyph(source,glyph2)\n",
    "fig2.axis.visible=False\n",
    "fig2.min_border_top = 30\n",
    "fig2.title.align = \"center\"\n",
    "fig2.title.text_font_size = \"15px\"\n",
    "fig2.xgrid.visible = False\n",
    "fig2.ygrid.visible = False\n",
    "\n",
    "fig3 = figure(background_fill_color='silver',\n",
    "             background_fill_alpha=0.5,\n",
    "             border_fill_color='gray',\n",
    "             border_fill_alpha=0.25,\n",
    "             plot_height=200,\n",
    "             plot_width=200,\n",
    "             x_axis_label=None,\n",
    "             title='Test',\n",
    "             title_location='above',\n",
    "             toolbar_location=None,y_range=(0,3))\n",
    "x3 = [1]\n",
    "y3 = [1]\n",
    "text= [\"66292\"]\n",
    "source = ColumnDataSource(dict(x=x3, y=y3, text=text))\n",
    "glyph3 = Text(x='x', y='y', text=\"text\", angle=0, text_color=\"firebrick\",text_font_size='50px',text_align='center')\n",
    "fig3.add_glyph(source,glyph3)\n",
    "fig3.axis.visible=False\n",
    "fig3.min_border_top = 30\n",
    "fig3.title.align = \"center\"\n",
    "fig3.title.text_font_size = \"15px\"\n",
    "fig3.xgrid.visible = False\n",
    "fig3.ygrid.visible = False\n",
    "\n",
    "fig4 = figure(background_fill_color='silver',\n",
    "             background_fill_alpha=0.5,\n",
    "             border_fill_color='gray',\n",
    "             border_fill_alpha=0.25,\n",
    "             plot_height=200,\n",
    "             plot_width=200,\n",
    "             x_axis_label=None,\n",
    "             title='Accuracy',\n",
    "             title_location='above',\n",
    "             toolbar_location=None,y_range=(0,3))\n",
    "x4= [1]\n",
    "y4 = [1]\n",
    "text= [\"91%\"]\n",
    "source = ColumnDataSource(dict(x=x4, y=y4, text=text))\n",
    "glyph4 = Text(x='x', y='y', text=\"text\", angle=0, text_color=\"Blue\",text_font_size='50px',text_align='center')\n",
    "fig4.add_glyph(source,glyph4)\n",
    "fig4.axis.visible=False\n",
    "fig4.min_border_top = 30\n",
    "fig4.title.align = \"center\"\n",
    "fig4.title.text_font_size = \"15px\"\n",
    "fig4.xgrid.visible = False\n",
    "fig4.ygrid.visible = False\n",
    "\n",
    "\n",
    "d = gridplot([[fig1, fig2], [fig3,fig4]],plot_width=200,plot_height=200,toolbar_location='right')\n",
    "\n",
    "show(WidgetBox(d))\n",
    "#show(d)"
   ]
  },
  {
   "cell_type": "code",
   "execution_count": 23,
   "metadata": {},
   "outputs": [
    {
     "data": {
      "text/html": [
       "\n",
       "    <div class=\"bk-root\">\n",
       "        <a href=\"https://bokeh.pydata.org\" target=\"_blank\" class=\"bk-logo bk-logo-small bk-logo-notebook\"></a>\n",
       "        <span id=\"5879\">Loading BokehJS ...</span>\n",
       "    </div>"
      ]
     },
     "metadata": {},
     "output_type": "display_data"
    },
    {
     "data": {
      "application/javascript": [
       "\n",
       "(function(root) {\n",
       "  function now() {\n",
       "    return new Date();\n",
       "  }\n",
       "\n",
       "  var force = true;\n",
       "\n",
       "  if (typeof root._bokeh_onload_callbacks === \"undefined\" || force === true) {\n",
       "    root._bokeh_onload_callbacks = [];\n",
       "    root._bokeh_is_loading = undefined;\n",
       "  }\n",
       "\n",
       "  var JS_MIME_TYPE = 'application/javascript';\n",
       "  var HTML_MIME_TYPE = 'text/html';\n",
       "  var EXEC_MIME_TYPE = 'application/vnd.bokehjs_exec.v0+json';\n",
       "  var CLASS_NAME = 'output_bokeh rendered_html';\n",
       "\n",
       "  /**\n",
       "   * Render data to the DOM node\n",
       "   */\n",
       "  function render(props, node) {\n",
       "    var script = document.createElement(\"script\");\n",
       "    node.appendChild(script);\n",
       "  }\n",
       "\n",
       "  /**\n",
       "   * Handle when an output is cleared or removed\n",
       "   */\n",
       "  function handleClearOutput(event, handle) {\n",
       "    var cell = handle.cell;\n",
       "\n",
       "    var id = cell.output_area._bokeh_element_id;\n",
       "    var server_id = cell.output_area._bokeh_server_id;\n",
       "    // Clean up Bokeh references\n",
       "    if (id != null && id in Bokeh.index) {\n",
       "      Bokeh.index[id].model.document.clear();\n",
       "      delete Bokeh.index[id];\n",
       "    }\n",
       "\n",
       "    if (server_id !== undefined) {\n",
       "      // Clean up Bokeh references\n",
       "      var cmd = \"from bokeh.io.state import curstate; print(curstate().uuid_to_server['\" + server_id + \"'].get_sessions()[0].document.roots[0]._id)\";\n",
       "      cell.notebook.kernel.execute(cmd, {\n",
       "        iopub: {\n",
       "          output: function(msg) {\n",
       "            var id = msg.content.text.trim();\n",
       "            if (id in Bokeh.index) {\n",
       "              Bokeh.index[id].model.document.clear();\n",
       "              delete Bokeh.index[id];\n",
       "            }\n",
       "          }\n",
       "        }\n",
       "      });\n",
       "      // Destroy server and session\n",
       "      var cmd = \"import bokeh.io.notebook as ion; ion.destroy_server('\" + server_id + \"')\";\n",
       "      cell.notebook.kernel.execute(cmd);\n",
       "    }\n",
       "  }\n",
       "\n",
       "  /**\n",
       "   * Handle when a new output is added\n",
       "   */\n",
       "  function handleAddOutput(event, handle) {\n",
       "    var output_area = handle.output_area;\n",
       "    var output = handle.output;\n",
       "\n",
       "    // limit handleAddOutput to display_data with EXEC_MIME_TYPE content only\n",
       "    if ((output.output_type != \"display_data\") || (!output.data.hasOwnProperty(EXEC_MIME_TYPE))) {\n",
       "      return\n",
       "    }\n",
       "\n",
       "    var toinsert = output_area.element.find(\".\" + CLASS_NAME.split(' ')[0]);\n",
       "\n",
       "    if (output.metadata[EXEC_MIME_TYPE][\"id\"] !== undefined) {\n",
       "      toinsert[toinsert.length - 1].firstChild.textContent = output.data[JS_MIME_TYPE];\n",
       "      // store reference to embed id on output_area\n",
       "      output_area._bokeh_element_id = output.metadata[EXEC_MIME_TYPE][\"id\"];\n",
       "    }\n",
       "    if (output.metadata[EXEC_MIME_TYPE][\"server_id\"] !== undefined) {\n",
       "      var bk_div = document.createElement(\"div\");\n",
       "      bk_div.innerHTML = output.data[HTML_MIME_TYPE];\n",
       "      var script_attrs = bk_div.children[0].attributes;\n",
       "      for (var i = 0; i < script_attrs.length; i++) {\n",
       "        toinsert[toinsert.length - 1].firstChild.setAttribute(script_attrs[i].name, script_attrs[i].value);\n",
       "      }\n",
       "      // store reference to server id on output_area\n",
       "      output_area._bokeh_server_id = output.metadata[EXEC_MIME_TYPE][\"server_id\"];\n",
       "    }\n",
       "  }\n",
       "\n",
       "  function register_renderer(events, OutputArea) {\n",
       "\n",
       "    function append_mime(data, metadata, element) {\n",
       "      // create a DOM node to render to\n",
       "      var toinsert = this.create_output_subarea(\n",
       "        metadata,\n",
       "        CLASS_NAME,\n",
       "        EXEC_MIME_TYPE\n",
       "      );\n",
       "      this.keyboard_manager.register_events(toinsert);\n",
       "      // Render to node\n",
       "      var props = {data: data, metadata: metadata[EXEC_MIME_TYPE]};\n",
       "      render(props, toinsert[toinsert.length - 1]);\n",
       "      element.append(toinsert);\n",
       "      return toinsert\n",
       "    }\n",
       "\n",
       "    /* Handle when an output is cleared or removed */\n",
       "    events.on('clear_output.CodeCell', handleClearOutput);\n",
       "    events.on('delete.Cell', handleClearOutput);\n",
       "\n",
       "    /* Handle when a new output is added */\n",
       "    events.on('output_added.OutputArea', handleAddOutput);\n",
       "\n",
       "    /**\n",
       "     * Register the mime type and append_mime function with output_area\n",
       "     */\n",
       "    OutputArea.prototype.register_mime_type(EXEC_MIME_TYPE, append_mime, {\n",
       "      /* Is output safe? */\n",
       "      safe: true,\n",
       "      /* Index of renderer in `output_area.display_order` */\n",
       "      index: 0\n",
       "    });\n",
       "  }\n",
       "\n",
       "  // register the mime type if in Jupyter Notebook environment and previously unregistered\n",
       "  if (root.Jupyter !== undefined) {\n",
       "    var events = require('base/js/events');\n",
       "    var OutputArea = require('notebook/js/outputarea').OutputArea;\n",
       "\n",
       "    if (OutputArea.prototype.mime_types().indexOf(EXEC_MIME_TYPE) == -1) {\n",
       "      register_renderer(events, OutputArea);\n",
       "    }\n",
       "  }\n",
       "\n",
       "  \n",
       "  if (typeof (root._bokeh_timeout) === \"undefined\" || force === true) {\n",
       "    root._bokeh_timeout = Date.now() + 5000;\n",
       "    root._bokeh_failed_load = false;\n",
       "  }\n",
       "\n",
       "  var NB_LOAD_WARNING = {'data': {'text/html':\n",
       "     \"<div style='background-color: #fdd'>\\n\"+\n",
       "     \"<p>\\n\"+\n",
       "     \"BokehJS does not appear to have successfully loaded. If loading BokehJS from CDN, this \\n\"+\n",
       "     \"may be due to a slow or bad network connection. Possible fixes:\\n\"+\n",
       "     \"</p>\\n\"+\n",
       "     \"<ul>\\n\"+\n",
       "     \"<li>re-rerun `output_notebook()` to attempt to load from CDN again, or</li>\\n\"+\n",
       "     \"<li>use INLINE resources instead, as so:</li>\\n\"+\n",
       "     \"</ul>\\n\"+\n",
       "     \"<code>\\n\"+\n",
       "     \"from bokeh.resources import INLINE\\n\"+\n",
       "     \"output_notebook(resources=INLINE)\\n\"+\n",
       "     \"</code>\\n\"+\n",
       "     \"</div>\"}};\n",
       "\n",
       "  function display_loaded() {\n",
       "    var el = document.getElementById(\"5879\");\n",
       "    if (el != null) {\n",
       "      el.textContent = \"BokehJS is loading...\";\n",
       "    }\n",
       "    if (root.Bokeh !== undefined) {\n",
       "      if (el != null) {\n",
       "        el.textContent = \"BokehJS \" + root.Bokeh.version + \" successfully loaded.\";\n",
       "      }\n",
       "    } else if (Date.now() < root._bokeh_timeout) {\n",
       "      setTimeout(display_loaded, 100)\n",
       "    }\n",
       "  }\n",
       "\n",
       "\n",
       "  function run_callbacks() {\n",
       "    try {\n",
       "      root._bokeh_onload_callbacks.forEach(function(callback) {\n",
       "        if (callback != null)\n",
       "          callback();\n",
       "      });\n",
       "    } finally {\n",
       "      delete root._bokeh_onload_callbacks\n",
       "    }\n",
       "    console.debug(\"Bokeh: all callbacks have finished\");\n",
       "  }\n",
       "\n",
       "  function load_libs(css_urls, js_urls, callback) {\n",
       "    if (css_urls == null) css_urls = [];\n",
       "    if (js_urls == null) js_urls = [];\n",
       "\n",
       "    root._bokeh_onload_callbacks.push(callback);\n",
       "    if (root._bokeh_is_loading > 0) {\n",
       "      console.debug(\"Bokeh: BokehJS is being loaded, scheduling callback at\", now());\n",
       "      return null;\n",
       "    }\n",
       "    if (js_urls == null || js_urls.length === 0) {\n",
       "      run_callbacks();\n",
       "      return null;\n",
       "    }\n",
       "    console.debug(\"Bokeh: BokehJS not loaded, scheduling load and callback at\", now());\n",
       "    root._bokeh_is_loading = css_urls.length + js_urls.length;\n",
       "\n",
       "    function on_load() {\n",
       "      root._bokeh_is_loading--;\n",
       "      if (root._bokeh_is_loading === 0) {\n",
       "        console.debug(\"Bokeh: all BokehJS libraries/stylesheets loaded\");\n",
       "        run_callbacks()\n",
       "      }\n",
       "    }\n",
       "\n",
       "    function on_error() {\n",
       "      console.error(\"failed to load \" + url);\n",
       "    }\n",
       "\n",
       "    for (var i = 0; i < css_urls.length; i++) {\n",
       "      var url = css_urls[i];\n",
       "      const element = document.createElement(\"link\");\n",
       "      element.onload = on_load;\n",
       "      element.onerror = on_error;\n",
       "      element.rel = \"stylesheet\";\n",
       "      element.type = \"text/css\";\n",
       "      element.href = url;\n",
       "      console.debug(\"Bokeh: injecting link tag for BokehJS stylesheet: \", url);\n",
       "      document.body.appendChild(element);\n",
       "    }\n",
       "\n",
       "    for (var i = 0; i < js_urls.length; i++) {\n",
       "      var url = js_urls[i];\n",
       "      var element = document.createElement('script');\n",
       "      element.onload = on_load;\n",
       "      element.onerror = on_error;\n",
       "      element.async = false;\n",
       "      element.src = url;\n",
       "      console.debug(\"Bokeh: injecting script tag for BokehJS library: \", url);\n",
       "      document.head.appendChild(element);\n",
       "    }\n",
       "  };var element = document.getElementById(\"5879\");\n",
       "  if (element == null) {\n",
       "    console.error(\"Bokeh: ERROR: autoload.js configured with elementid '5879' but no matching script tag was found. \")\n",
       "    return false;\n",
       "  }\n",
       "\n",
       "  function inject_raw_css(css) {\n",
       "    const element = document.createElement(\"style\");\n",
       "    element.appendChild(document.createTextNode(css));\n",
       "    document.body.appendChild(element);\n",
       "  }\n",
       "\n",
       "  var js_urls = [\"https://cdn.pydata.org/bokeh/release/bokeh-1.3.4.min.js\", \"https://cdn.pydata.org/bokeh/release/bokeh-widgets-1.3.4.min.js\", \"https://cdn.pydata.org/bokeh/release/bokeh-tables-1.3.4.min.js\", \"https://cdn.pydata.org/bokeh/release/bokeh-gl-1.3.4.min.js\"];\n",
       "  var css_urls = [];\n",
       "\n",
       "  var inline_js = [\n",
       "    function(Bokeh) {\n",
       "      Bokeh.set_log_level(\"info\");\n",
       "    },\n",
       "    \n",
       "    function(Bokeh) {\n",
       "      \n",
       "    },\n",
       "    function(Bokeh) {} // ensure no trailing comma for IE\n",
       "  ];\n",
       "\n",
       "  function run_inline_js() {\n",
       "    \n",
       "    if ((root.Bokeh !== undefined) || (force === true)) {\n",
       "      for (var i = 0; i < inline_js.length; i++) {\n",
       "        inline_js[i].call(root, root.Bokeh);\n",
       "      }if (force === true) {\n",
       "        display_loaded();\n",
       "      }} else if (Date.now() < root._bokeh_timeout) {\n",
       "      setTimeout(run_inline_js, 100);\n",
       "    } else if (!root._bokeh_failed_load) {\n",
       "      console.log(\"Bokeh: BokehJS failed to load within specified timeout.\");\n",
       "      root._bokeh_failed_load = true;\n",
       "    } else if (force !== true) {\n",
       "      var cell = $(document.getElementById(\"5879\")).parents('.cell').data().cell;\n",
       "      cell.output_area.append_execute_result(NB_LOAD_WARNING)\n",
       "    }\n",
       "\n",
       "  }\n",
       "\n",
       "  if (root._bokeh_is_loading === 0) {\n",
       "    console.debug(\"Bokeh: BokehJS loaded, going straight to plotting\");\n",
       "    run_inline_js();\n",
       "  } else {\n",
       "    load_libs(css_urls, js_urls, function() {\n",
       "      console.debug(\"Bokeh: BokehJS plotting callback run at\", now());\n",
       "      run_inline_js();\n",
       "    });\n",
       "  }\n",
       "}(window));"
      ],
      "application/vnd.bokehjs_load.v0+json": "\n(function(root) {\n  function now() {\n    return new Date();\n  }\n\n  var force = true;\n\n  if (typeof root._bokeh_onload_callbacks === \"undefined\" || force === true) {\n    root._bokeh_onload_callbacks = [];\n    root._bokeh_is_loading = undefined;\n  }\n\n  \n\n  \n  if (typeof (root._bokeh_timeout) === \"undefined\" || force === true) {\n    root._bokeh_timeout = Date.now() + 5000;\n    root._bokeh_failed_load = false;\n  }\n\n  var NB_LOAD_WARNING = {'data': {'text/html':\n     \"<div style='background-color: #fdd'>\\n\"+\n     \"<p>\\n\"+\n     \"BokehJS does not appear to have successfully loaded. If loading BokehJS from CDN, this \\n\"+\n     \"may be due to a slow or bad network connection. Possible fixes:\\n\"+\n     \"</p>\\n\"+\n     \"<ul>\\n\"+\n     \"<li>re-rerun `output_notebook()` to attempt to load from CDN again, or</li>\\n\"+\n     \"<li>use INLINE resources instead, as so:</li>\\n\"+\n     \"</ul>\\n\"+\n     \"<code>\\n\"+\n     \"from bokeh.resources import INLINE\\n\"+\n     \"output_notebook(resources=INLINE)\\n\"+\n     \"</code>\\n\"+\n     \"</div>\"}};\n\n  function display_loaded() {\n    var el = document.getElementById(\"5879\");\n    if (el != null) {\n      el.textContent = \"BokehJS is loading...\";\n    }\n    if (root.Bokeh !== undefined) {\n      if (el != null) {\n        el.textContent = \"BokehJS \" + root.Bokeh.version + \" successfully loaded.\";\n      }\n    } else if (Date.now() < root._bokeh_timeout) {\n      setTimeout(display_loaded, 100)\n    }\n  }\n\n\n  function run_callbacks() {\n    try {\n      root._bokeh_onload_callbacks.forEach(function(callback) {\n        if (callback != null)\n          callback();\n      });\n    } finally {\n      delete root._bokeh_onload_callbacks\n    }\n    console.debug(\"Bokeh: all callbacks have finished\");\n  }\n\n  function load_libs(css_urls, js_urls, callback) {\n    if (css_urls == null) css_urls = [];\n    if (js_urls == null) js_urls = [];\n\n    root._bokeh_onload_callbacks.push(callback);\n    if (root._bokeh_is_loading > 0) {\n      console.debug(\"Bokeh: BokehJS is being loaded, scheduling callback at\", now());\n      return null;\n    }\n    if (js_urls == null || js_urls.length === 0) {\n      run_callbacks();\n      return null;\n    }\n    console.debug(\"Bokeh: BokehJS not loaded, scheduling load and callback at\", now());\n    root._bokeh_is_loading = css_urls.length + js_urls.length;\n\n    function on_load() {\n      root._bokeh_is_loading--;\n      if (root._bokeh_is_loading === 0) {\n        console.debug(\"Bokeh: all BokehJS libraries/stylesheets loaded\");\n        run_callbacks()\n      }\n    }\n\n    function on_error() {\n      console.error(\"failed to load \" + url);\n    }\n\n    for (var i = 0; i < css_urls.length; i++) {\n      var url = css_urls[i];\n      const element = document.createElement(\"link\");\n      element.onload = on_load;\n      element.onerror = on_error;\n      element.rel = \"stylesheet\";\n      element.type = \"text/css\";\n      element.href = url;\n      console.debug(\"Bokeh: injecting link tag for BokehJS stylesheet: \", url);\n      document.body.appendChild(element);\n    }\n\n    for (var i = 0; i < js_urls.length; i++) {\n      var url = js_urls[i];\n      var element = document.createElement('script');\n      element.onload = on_load;\n      element.onerror = on_error;\n      element.async = false;\n      element.src = url;\n      console.debug(\"Bokeh: injecting script tag for BokehJS library: \", url);\n      document.head.appendChild(element);\n    }\n  };var element = document.getElementById(\"5879\");\n  if (element == null) {\n    console.error(\"Bokeh: ERROR: autoload.js configured with elementid '5879' but no matching script tag was found. \")\n    return false;\n  }\n\n  function inject_raw_css(css) {\n    const element = document.createElement(\"style\");\n    element.appendChild(document.createTextNode(css));\n    document.body.appendChild(element);\n  }\n\n  var js_urls = [\"https://cdn.pydata.org/bokeh/release/bokeh-1.3.4.min.js\", \"https://cdn.pydata.org/bokeh/release/bokeh-widgets-1.3.4.min.js\", \"https://cdn.pydata.org/bokeh/release/bokeh-tables-1.3.4.min.js\", \"https://cdn.pydata.org/bokeh/release/bokeh-gl-1.3.4.min.js\"];\n  var css_urls = [];\n\n  var inline_js = [\n    function(Bokeh) {\n      Bokeh.set_log_level(\"info\");\n    },\n    \n    function(Bokeh) {\n      \n    },\n    function(Bokeh) {} // ensure no trailing comma for IE\n  ];\n\n  function run_inline_js() {\n    \n    if ((root.Bokeh !== undefined) || (force === true)) {\n      for (var i = 0; i < inline_js.length; i++) {\n        inline_js[i].call(root, root.Bokeh);\n      }if (force === true) {\n        display_loaded();\n      }} else if (Date.now() < root._bokeh_timeout) {\n      setTimeout(run_inline_js, 100);\n    } else if (!root._bokeh_failed_load) {\n      console.log(\"Bokeh: BokehJS failed to load within specified timeout.\");\n      root._bokeh_failed_load = true;\n    } else if (force !== true) {\n      var cell = $(document.getElementById(\"5879\")).parents('.cell').data().cell;\n      cell.output_area.append_execute_result(NB_LOAD_WARNING)\n    }\n\n  }\n\n  if (root._bokeh_is_loading === 0) {\n    console.debug(\"Bokeh: BokehJS loaded, going straight to plotting\");\n    run_inline_js();\n  } else {\n    load_libs(css_urls, js_urls, function() {\n      console.debug(\"Bokeh: BokehJS plotting callback run at\", now());\n      run_inline_js();\n    });\n  }\n}(window));"
     },
     "metadata": {},
     "output_type": "display_data"
    },
    {
     "data": {
      "text/html": [
       "\n",
       "\n",
       "\n",
       "\n",
       "\n",
       "\n",
       "  <div class=\"bk-root\" id=\"d0a2ed75-050b-41fb-9968-2a898112aa43\" data-root-id=\"5880\"></div>\n"
      ]
     },
     "metadata": {},
     "output_type": "display_data"
    },
    {
     "data": {
      "application/javascript": [
       "(function(root) {\n",
       "  function embed_document(root) {\n",
       "    \n",
       "  var docs_json = {\"8e2705e0-e286-4777-a404-d3b156e490ae\":{\"roots\":{\"references\":[{\"attributes\":{\"background_fill_alpha\":{\"value\":0.5},\"background_fill_color\":{\"value\":\"silver\"},\"below\":[{\"id\":\"5891\",\"type\":\"LinearAxis\"}],\"border_fill_alpha\":{\"value\":0.25},\"border_fill_color\":{\"value\":\"gray\"},\"center\":[{\"id\":\"5895\",\"type\":\"Grid\"},{\"id\":\"5900\",\"type\":\"Grid\"}],\"left\":[{\"id\":\"5896\",\"type\":\"LinearAxis\"}],\"min_border_top\":30,\"plot_height\":200,\"plot_width\":200,\"renderers\":[{\"id\":\"5916\",\"type\":\"GlyphRenderer\"}],\"title\":{\"id\":\"5881\",\"type\":\"Title\"},\"toolbar\":{\"id\":\"5907\",\"type\":\"Toolbar\"},\"toolbar_location\":null,\"x_range\":{\"id\":\"5883\",\"type\":\"DataRange1d\"},\"x_scale\":{\"id\":\"5887\",\"type\":\"LinearScale\"},\"y_range\":{\"id\":\"5885\",\"type\":\"Range1d\"},\"y_scale\":{\"id\":\"5889\",\"type\":\"LinearScale\"}},\"id\":\"5880\",\"subtype\":\"Figure\",\"type\":\"Plot\"},{\"attributes\":{},\"id\":\"5905\",\"type\":\"ResetTool\"},{\"attributes\":{\"callback\":null,\"data\":{\"text\":[\"Logistic Regression\"],\"x\":[1],\"y\":[1]},\"selected\":{\"id\":\"6083\",\"type\":\"Selection\"},\"selection_policy\":{\"id\":\"6082\",\"type\":\"UnionRenderers\"}},\"id\":\"5914\",\"type\":\"ColumnDataSource\"},{\"attributes\":{},\"id\":\"5897\",\"type\":\"BasicTicker\"},{\"attributes\":{\"overlay\":{\"id\":\"6084\",\"type\":\"BoxAnnotation\"}},\"id\":\"5903\",\"type\":\"BoxZoomTool\"},{\"attributes\":{\"ticker\":{\"id\":\"5892\",\"type\":\"BasicTicker\"},\"visible\":false},\"id\":\"5895\",\"type\":\"Grid\"},{\"attributes\":{\"callback\":null},\"id\":\"5883\",\"type\":\"DataRange1d\"},{\"attributes\":{},\"id\":\"5902\",\"type\":\"WheelZoomTool\"},{\"attributes\":{\"text_align\":\"center\",\"text_color\":{\"value\":\"Blue\"},\"text_font_size\":{\"value\":\"100px\"},\"x\":{\"field\":\"x\"},\"y\":{\"field\":\"y\"}},\"id\":\"5915\",\"type\":\"Text\"},{\"attributes\":{},\"id\":\"6083\",\"type\":\"Selection\"},{\"attributes\":{},\"id\":\"5892\",\"type\":\"BasicTicker\"},{\"attributes\":{},\"id\":\"6082\",\"type\":\"UnionRenderers\"},{\"attributes\":{\"bottom_units\":\"screen\",\"fill_alpha\":{\"value\":0.5},\"fill_color\":{\"value\":\"lightgrey\"},\"left_units\":\"screen\",\"level\":\"overlay\",\"line_alpha\":{\"value\":1.0},\"line_color\":{\"value\":\"black\"},\"line_dash\":[4,4],\"line_width\":{\"value\":2},\"render_mode\":\"css\",\"right_units\":\"screen\",\"top_units\":\"screen\"},\"id\":\"6084\",\"type\":\"BoxAnnotation\"},{\"attributes\":{},\"id\":\"5901\",\"type\":\"PanTool\"},{\"attributes\":{},\"id\":\"5889\",\"type\":\"LinearScale\"},{\"attributes\":{},\"id\":\"6078\",\"type\":\"BasicTickFormatter\"},{\"attributes\":{},\"id\":\"6080\",\"type\":\"BasicTickFormatter\"},{\"attributes\":{},\"id\":\"5887\",\"type\":\"LinearScale\"},{\"attributes\":{\"formatter\":{\"id\":\"6078\",\"type\":\"BasicTickFormatter\"},\"ticker\":{\"id\":\"5892\",\"type\":\"BasicTicker\"},\"visible\":false},\"id\":\"5891\",\"type\":\"LinearAxis\"},{\"attributes\":{\"source\":{\"id\":\"5914\",\"type\":\"ColumnDataSource\"}},\"id\":\"5917\",\"type\":\"CDSView\"},{\"attributes\":{\"align\":\"center\",\"text\":\"\",\"text_font_size\":{\"value\":\"15px\"}},\"id\":\"5881\",\"type\":\"Title\"},{\"attributes\":{\"active_drag\":\"auto\",\"active_inspect\":\"auto\",\"active_multi\":null,\"active_scroll\":\"auto\",\"active_tap\":\"auto\",\"tools\":[{\"id\":\"5901\",\"type\":\"PanTool\"},{\"id\":\"5902\",\"type\":\"WheelZoomTool\"},{\"id\":\"5903\",\"type\":\"BoxZoomTool\"},{\"id\":\"5904\",\"type\":\"SaveTool\"},{\"id\":\"5905\",\"type\":\"ResetTool\"},{\"id\":\"5906\",\"type\":\"HelpTool\"}]},\"id\":\"5907\",\"type\":\"Toolbar\"},{\"attributes\":{\"dimension\":1,\"ticker\":{\"id\":\"5897\",\"type\":\"BasicTicker\"},\"visible\":false},\"id\":\"5900\",\"type\":\"Grid\"},{\"attributes\":{\"formatter\":{\"id\":\"6080\",\"type\":\"BasicTickFormatter\"},\"ticker\":{\"id\":\"5897\",\"type\":\"BasicTicker\"},\"visible\":false},\"id\":\"5896\",\"type\":\"LinearAxis\"},{\"attributes\":{\"callback\":null,\"end\":5},\"id\":\"5885\",\"type\":\"Range1d\"},{\"attributes\":{},\"id\":\"5904\",\"type\":\"SaveTool\"},{\"attributes\":{},\"id\":\"5906\",\"type\":\"HelpTool\"},{\"attributes\":{\"data_source\":{\"id\":\"5914\",\"type\":\"ColumnDataSource\"},\"glyph\":{\"id\":\"5915\",\"type\":\"Text\"},\"hover_glyph\":null,\"muted_glyph\":null,\"view\":{\"id\":\"5917\",\"type\":\"CDSView\"}},\"id\":\"5916\",\"type\":\"GlyphRenderer\"}],\"root_ids\":[\"5880\"]},\"title\":\"Bokeh Application\",\"version\":\"1.3.4\"}};\n",
       "  var render_items = [{\"docid\":\"8e2705e0-e286-4777-a404-d3b156e490ae\",\"roots\":{\"5880\":\"d0a2ed75-050b-41fb-9968-2a898112aa43\"}}];\n",
       "  root.Bokeh.embed.embed_items_notebook(docs_json, render_items);\n",
       "\n",
       "  }\n",
       "  if (root.Bokeh !== undefined) {\n",
       "    embed_document(root);\n",
       "  } else {\n",
       "    var attempts = 0;\n",
       "    var timer = setInterval(function(root) {\n",
       "      if (root.Bokeh !== undefined) {\n",
       "        embed_document(root);\n",
       "        clearInterval(timer);\n",
       "      }\n",
       "      attempts++;\n",
       "      if (attempts > 100) {\n",
       "        console.log(\"Bokeh: ERROR: Unable to run BokehJS code because BokehJS library is missing\");\n",
       "        clearInterval(timer);\n",
       "      }\n",
       "    }, 10, root)\n",
       "  }\n",
       "})(window);"
      ],
      "application/vnd.bokehjs_exec.v0+json": ""
     },
     "metadata": {
      "application/vnd.bokehjs_exec.v0+json": {
       "id": "5880"
      }
     },
     "output_type": "display_data"
    }
   ],
   "source": [
    "from bokeh.io import output_notebook\n",
    "from bokeh.plotting import figure, show\n",
    "from bokeh.models import  LabelSet,ColumnDataSource,Text\n",
    "output_notebook()\n",
    "fig1 = figure(background_fill_color='silver',\n",
    "             background_fill_alpha=0.5,\n",
    "             border_fill_color='gray',\n",
    "             border_fill_alpha=0.25,\n",
    "             plot_height=200,\n",
    "             plot_width=200,\n",
    "             x_axis_label=None,\n",
    "             title='',\n",
    "             title_location='above',\n",
    "             toolbar_location=None,y_range=(0,5))\n",
    "x1 = [1]\n",
    "y1 = [1]\n",
    "text= [\"Logistic Regression\"]\n",
    "source = ColumnDataSource(dict(x=x1, y=y1, text=text))\n",
    "glyph1 = Text(x='x', y='y', text=\"text\", angle=0, text_color=\"Blue\",text_font_size='100px',text_align='center')\n",
    "fig1.add_glyph(source,glyph1)\n",
    "fig1.axis.visible=False\n",
    "fig1.min_border_top = 30\n",
    "fig1.title.align = \"center\"\n",
    "fig1.title.text_font_size = \"15px\"\n",
    "fig1.xgrid.visible = False\n",
    "fig1.ygrid.visible = False\n",
    "show (fig1)"
   ]
  },
  {
   "cell_type": "code",
   "execution_count": 35,
   "metadata": {},
   "outputs": [
    {
     "data": {
      "text/html": [
       "\n",
       "\n",
       "\n",
       "\n",
       "\n",
       "\n",
       "  <div class=\"bk-root\" id=\"74cf6add-98e1-4ba0-9f17-5bf1ddfd5213\" data-root-id=\"11408\"></div>\n"
      ]
     },
     "metadata": {},
     "output_type": "display_data"
    },
    {
     "data": {
      "application/javascript": [
       "(function(root) {\n",
       "  function embed_document(root) {\n",
       "    \n",
       "  var docs_json = {\"537360c8-b978-43b9-8481-d5861644f77d\":{\"roots\":{\"references\":[{\"attributes\":{\"background_fill_alpha\":{\"value\":0.5},\"background_fill_color\":{\"value\":\"silver\"},\"below\":[{\"id\":\"11419\",\"type\":\"LinearAxis\"}],\"border_fill_alpha\":{\"value\":0.25},\"border_fill_color\":{\"value\":\"gray\"},\"center\":[{\"id\":\"11423\",\"type\":\"Grid\"},{\"id\":\"11428\",\"type\":\"Grid\"}],\"left\":[{\"id\":\"11424\",\"type\":\"LinearAxis\"}],\"min_border_top\":30,\"plot_height\":200,\"plot_width\":200,\"renderers\":[{\"id\":\"11444\",\"type\":\"GlyphRenderer\"}],\"title\":{\"id\":\"11409\",\"type\":\"Title\"},\"toolbar\":{\"id\":\"11435\",\"type\":\"Toolbar\"},\"toolbar_location\":null,\"x_range\":{\"id\":\"11411\",\"type\":\"DataRange1d\"},\"x_scale\":{\"id\":\"11415\",\"type\":\"LinearScale\"},\"y_range\":{\"id\":\"11413\",\"type\":\"Range1d\"},\"y_scale\":{\"id\":\"11417\",\"type\":\"LinearScale\"}},\"id\":\"11408\",\"subtype\":\"Figure\",\"type\":\"Plot\"},{\"attributes\":{\"ticker\":{\"id\":\"11420\",\"type\":\"BasicTicker\"},\"visible\":false},\"id\":\"11423\",\"type\":\"Grid\"},{\"attributes\":{},\"id\":\"11415\",\"type\":\"LinearScale\"},{\"attributes\":{\"callback\":null,\"data\":{\"text\":[\"91%\"],\"x\":[1],\"y\":[1]},\"selected\":{\"id\":\"11735\",\"type\":\"Selection\"},\"selection_policy\":{\"id\":\"11734\",\"type\":\"UnionRenderers\"}},\"id\":\"11442\",\"type\":\"ColumnDataSource\"},{\"attributes\":{\"callback\":null,\"end\":5},\"id\":\"11413\",\"type\":\"Range1d\"},{\"attributes\":{\"bottom_units\":\"screen\",\"fill_alpha\":{\"value\":0.5},\"fill_color\":{\"value\":\"lightgrey\"},\"left_units\":\"screen\",\"level\":\"overlay\",\"line_alpha\":{\"value\":1.0},\"line_color\":{\"value\":\"black\"},\"line_dash\":[4,4],\"line_width\":{\"value\":2},\"render_mode\":\"css\",\"right_units\":\"screen\",\"top_units\":\"screen\"},\"id\":\"11736\",\"type\":\"BoxAnnotation\"},{\"attributes\":{},\"id\":\"11732\",\"type\":\"BasicTickFormatter\"},{\"attributes\":{\"formatter\":{\"id\":\"11730\",\"type\":\"BasicTickFormatter\"},\"ticker\":{\"id\":\"11420\",\"type\":\"BasicTicker\"},\"visible\":false},\"id\":\"11419\",\"type\":\"LinearAxis\"},{\"attributes\":{},\"id\":\"11430\",\"type\":\"WheelZoomTool\"},{\"attributes\":{},\"id\":\"11417\",\"type\":\"LinearScale\"},{\"attributes\":{},\"id\":\"11734\",\"type\":\"UnionRenderers\"},{\"attributes\":{},\"id\":\"11735\",\"type\":\"Selection\"},{\"attributes\":{\"dimension\":1,\"ticker\":{\"id\":\"11425\",\"type\":\"BasicTicker\"},\"visible\":false},\"id\":\"11428\",\"type\":\"Grid\"},{\"attributes\":{\"source\":{\"id\":\"11442\",\"type\":\"ColumnDataSource\"}},\"id\":\"11445\",\"type\":\"CDSView\"},{\"attributes\":{},\"id\":\"11420\",\"type\":\"BasicTicker\"},{\"attributes\":{},\"id\":\"11433\",\"type\":\"ResetTool\"},{\"attributes\":{},\"id\":\"11434\",\"type\":\"HelpTool\"},{\"attributes\":{\"formatter\":{\"id\":\"11732\",\"type\":\"BasicTickFormatter\"},\"ticker\":{\"id\":\"11425\",\"type\":\"BasicTicker\"},\"visible\":false},\"id\":\"11424\",\"type\":\"LinearAxis\"},{\"attributes\":{\"active_drag\":\"auto\",\"active_inspect\":\"auto\",\"active_multi\":null,\"active_scroll\":\"auto\",\"active_tap\":\"auto\",\"tools\":[{\"id\":\"11429\",\"type\":\"PanTool\"},{\"id\":\"11430\",\"type\":\"WheelZoomTool\"},{\"id\":\"11431\",\"type\":\"BoxZoomTool\"},{\"id\":\"11432\",\"type\":\"SaveTool\"},{\"id\":\"11433\",\"type\":\"ResetTool\"},{\"id\":\"11434\",\"type\":\"HelpTool\"}]},\"id\":\"11435\",\"type\":\"Toolbar\"},{\"attributes\":{},\"id\":\"11429\",\"type\":\"PanTool\"},{\"attributes\":{},\"id\":\"11425\",\"type\":\"BasicTicker\"},{\"attributes\":{\"text_align\":\"center\",\"text_color\":{\"value\":\"Blue\"},\"text_font_size\":{\"value\":\"75px\"},\"x\":{\"field\":\"x\"},\"y\":{\"field\":\"y\"}},\"id\":\"11443\",\"type\":\"Text\"},{\"attributes\":{},\"id\":\"11432\",\"type\":\"SaveTool\"},{\"attributes\":{\"data_source\":{\"id\":\"11442\",\"type\":\"ColumnDataSource\"},\"glyph\":{\"id\":\"11443\",\"type\":\"Text\"},\"hover_glyph\":null,\"muted_glyph\":null,\"view\":{\"id\":\"11445\",\"type\":\"CDSView\"}},\"id\":\"11444\",\"type\":\"GlyphRenderer\"},{\"attributes\":{\"overlay\":{\"id\":\"11736\",\"type\":\"BoxAnnotation\"}},\"id\":\"11431\",\"type\":\"BoxZoomTool\"},{\"attributes\":{\"align\":\"center\",\"text\":\"Accuracy\",\"text_font_size\":{\"value\":\"15px\"}},\"id\":\"11409\",\"type\":\"Title\"},{\"attributes\":{\"callback\":null},\"id\":\"11411\",\"type\":\"DataRange1d\"},{\"attributes\":{},\"id\":\"11730\",\"type\":\"BasicTickFormatter\"}],\"root_ids\":[\"11408\"]},\"title\":\"Bokeh Application\",\"version\":\"1.3.4\"}};\n",
       "  var render_items = [{\"docid\":\"537360c8-b978-43b9-8481-d5861644f77d\",\"roots\":{\"11408\":\"74cf6add-98e1-4ba0-9f17-5bf1ddfd5213\"}}];\n",
       "  root.Bokeh.embed.embed_items_notebook(docs_json, render_items);\n",
       "\n",
       "  }\n",
       "  if (root.Bokeh !== undefined) {\n",
       "    embed_document(root);\n",
       "  } else {\n",
       "    var attempts = 0;\n",
       "    var timer = setInterval(function(root) {\n",
       "      if (root.Bokeh !== undefined) {\n",
       "        embed_document(root);\n",
       "        clearInterval(timer);\n",
       "      }\n",
       "      attempts++;\n",
       "      if (attempts > 100) {\n",
       "        console.log(\"Bokeh: ERROR: Unable to run BokehJS code because BokehJS library is missing\");\n",
       "        clearInterval(timer);\n",
       "      }\n",
       "    }, 10, root)\n",
       "  }\n",
       "})(window);"
      ],
      "application/vnd.bokehjs_exec.v0+json": ""
     },
     "metadata": {
      "application/vnd.bokehjs_exec.v0+json": {
       "id": "11408"
      }
     },
     "output_type": "display_data"
    }
   ],
   "source": [
    "fig4 = figure(background_fill_color='silver',\n",
    "             background_fill_alpha=0.5,\n",
    "             border_fill_color='gray',\n",
    "             border_fill_alpha=0.25,\n",
    "             plot_height=200,\n",
    "             plot_width=200,\n",
    "             x_axis_label=None,\n",
    "             title='Accuracy',\n",
    "             title_location='above',\n",
    "             toolbar_location=None,y_range=(0,5))\n",
    "x4= [1]\n",
    "y4 = [1]\n",
    "text= [\"91%\"]\n",
    "source = ColumnDataSource(dict(x=x4, y=y4, text=text))\n",
    "glyph4 = Text(x='x', y='y', text=\"text\", angle=0, text_color=\"Blue\",text_font_size='75px',text_align='center')\n",
    "fig4.add_glyph(source,glyph4)\n",
    "fig4.axis.visible=False\n",
    "fig4.min_border_top = 30\n",
    "fig4.title.align = \"center\"\n",
    "fig4.title.text_font_size = \"15px\"\n",
    "fig4.xgrid.visible = False\n",
    "fig4.ygrid.visible = False\n",
    "show(fig4)"
   ]
  },
  {
   "cell_type": "code",
   "execution_count": null,
   "metadata": {},
   "outputs": [],
   "source": []
  },
  {
   "cell_type": "code",
   "execution_count": null,
   "metadata": {},
   "outputs": [],
   "source": []
  },
  {
   "cell_type": "code",
   "execution_count": null,
   "metadata": {},
   "outputs": [],
   "source": []
  },
  {
   "cell_type": "code",
   "execution_count": null,
   "metadata": {},
   "outputs": [],
   "source": []
  },
  {
   "cell_type": "code",
   "execution_count": null,
   "metadata": {},
   "outputs": [],
   "source": []
  },
  {
   "cell_type": "code",
   "execution_count": null,
   "metadata": {},
   "outputs": [],
   "source": []
  },
  {
   "cell_type": "code",
   "execution_count": null,
   "metadata": {},
   "outputs": [],
   "source": []
  },
  {
   "cell_type": "code",
   "execution_count": null,
   "metadata": {},
   "outputs": [],
   "source": []
  }
 ],
 "metadata": {
  "kernelspec": {
   "display_name": "Python 3",
   "language": "python",
   "name": "python3"
  },
  "language_info": {
   "codemirror_mode": {
    "name": "ipython",
    "version": 3
   },
   "file_extension": ".py",
   "mimetype": "text/x-python",
   "name": "python",
   "nbconvert_exporter": "python",
   "pygments_lexer": "ipython3",
   "version": "3.7.6"
  }
 },
 "nbformat": 4,
 "nbformat_minor": 4
}
